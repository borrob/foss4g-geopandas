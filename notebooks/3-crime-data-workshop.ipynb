{
 "cells": [
  {
   "cell_type": "markdown",
   "metadata": {},
   "source": [
    "# Explore UK Crime Data with Pandas and GeoPandas\n",
    "\n",
    "\n",
    "## Table of Contents\n",
    "\n",
    "1. [London boroughs](#boroughs)<br>\n",
    "2. [Crime data](#crime)<br>\n",
    "    2.1. [Load data](#load2)<br>\n",
    "    2.2. [Explore data](#explore2)<br>"
   ]
  },
  {
   "cell_type": "code",
   "execution_count": 2,
   "metadata": {},
   "outputs": [],
   "source": [
    "import pandas as pd\n",
    "import geopandas as gpd\n",
    "import geoplot \n",
    "from shapely.geometry import Point, LineString, Polygon\n",
    "import matplotlib.pyplot as plt\n",
    "from datetime import datetime\n",
    "\n",
    "%matplotlib inline"
   ]
  },
  {
   "cell_type": "markdown",
   "metadata": {},
   "source": [
    "<div class=\"alert alert-danger\" style=\"font-size:100%\">\n",
    "When you are using <b>Watson Studio</b> to run the workshop you will need to add the project token to your notebook that you created earlier to be able to access the shape files. \n",
    "\n",
    "* Click the 3 dots at the top of the notebook to insert the project token. This will create a new cell in the notebook that you will need to run first before continuing with the rest of the notebook. If you are sharing this notebook you should remove this cell, else anyone can use you Cloud Object Storage from this project.\n",
    "\n",
    "If you cannot find the new cell it is probably at the top of this notebook. Scroll up, run the cell and continue with the rest of the notebook.\n",
    "\n",
    "* Also add the following files to your Cloud Object Store (click the 1010 button at the top right if you do not see the menu on the right of the notebook):\n",
    "    - 2018-1-metropolitan-street.zip\n",
    "    - 2018-2-metropolitan-street.zip\n",
    "    - 2018-metropolitan-stop-and-search.zip\n",
    "* And run the following cell with the helper function\n",
    "\n",
    "</div> "
   ]
  },
  {
   "cell_type": "code",
   "execution_count": 3,
   "metadata": {},
   "outputs": [],
   "source": [
    "# define the helper function \n",
    "def download_file_to_local(project_filename, local_file_destination=None, project=None):\n",
    "    \"\"\"\n",
    "    Uses project-lib to get a bytearray and then downloads this file to local.\n",
    "    Requires a valid `project` object.\n",
    "    \n",
    "    Args:\n",
    "        project_filename str: the filename to be passed to get_file\n",
    "        local_file_destination: the filename for the local file if different\n",
    "        \n",
    "    Returns:\n",
    "        0 if everything worked\n",
    "    \"\"\"\n",
    "    \n",
    "    project = project\n",
    "    \n",
    "    # get the file\n",
    "    print(\"Attempting to get file {}\".format(project_filename))\n",
    "    _bytes = project.get_file(project_filename).read()\n",
    "    \n",
    "    # check for new file name, download the file\n",
    "    print(\"Downloading...\")\n",
    "    if local_file_destination==None: local_file_destination = project_filename\n",
    "    \n",
    "    with open(local_file_destination, 'wb') as f: \n",
    "        f.write(bytearray(_bytes))\n",
    "        print(\"Completed writing to {}\".format(local_file_destination))\n",
    "        \n",
    "    return 0"
   ]
  },
  {
   "cell_type": "markdown",
   "metadata": {},
   "source": [
    "<a id=\"boroughs\"></a>\n",
    "## 1. London boroughs"
   ]
  },
  {
   "cell_type": "code",
   "execution_count": 4,
   "metadata": {},
   "outputs": [],
   "source": [
    "# load data from a url\n",
    "boroughs = gpd.read_file(\"https://skgrange.github.io/www/data/london_boroughs.json\")"
   ]
  },
  {
   "cell_type": "code",
   "execution_count": 5,
   "metadata": {},
   "outputs": [
    {
     "data": {
      "text/html": [
       "<div>\n",
       "<style scoped>\n",
       "    .dataframe tbody tr th:only-of-type {\n",
       "        vertical-align: middle;\n",
       "    }\n",
       "\n",
       "    .dataframe tbody tr th {\n",
       "        vertical-align: top;\n",
       "    }\n",
       "\n",
       "    .dataframe thead th {\n",
       "        text-align: right;\n",
       "    }\n",
       "</style>\n",
       "<table border=\"1\" class=\"dataframe\">\n",
       "  <thead>\n",
       "    <tr style=\"text-align: right;\">\n",
       "      <th></th>\n",
       "      <th>id</th>\n",
       "      <th>name</th>\n",
       "      <th>code</th>\n",
       "      <th>area_hectares</th>\n",
       "      <th>inner_statistical</th>\n",
       "      <th>geometry</th>\n",
       "    </tr>\n",
       "  </thead>\n",
       "  <tbody>\n",
       "    <tr>\n",
       "      <th>0</th>\n",
       "      <td>1</td>\n",
       "      <td>Kingston upon Thames</td>\n",
       "      <td>E09000021</td>\n",
       "      <td>3726.117</td>\n",
       "      <td>0</td>\n",
       "      <td>(POLYGON ((-0.330679062942453 51.3290110106029...</td>\n",
       "    </tr>\n",
       "    <tr>\n",
       "      <th>1</th>\n",
       "      <td>2</td>\n",
       "      <td>Croydon</td>\n",
       "      <td>E09000008</td>\n",
       "      <td>8649.441</td>\n",
       "      <td>0</td>\n",
       "      <td>(POLYGON ((-0.064021239620113 51.3186376598749...</td>\n",
       "    </tr>\n",
       "    <tr>\n",
       "      <th>2</th>\n",
       "      <td>3</td>\n",
       "      <td>Bromley</td>\n",
       "      <td>E09000006</td>\n",
       "      <td>15013.487</td>\n",
       "      <td>0</td>\n",
       "      <td>(POLYGON ((0.012130938509177 51.2995990596564,...</td>\n",
       "    </tr>\n",
       "    <tr>\n",
       "      <th>3</th>\n",
       "      <td>4</td>\n",
       "      <td>Hounslow</td>\n",
       "      <td>E09000018</td>\n",
       "      <td>5658.541</td>\n",
       "      <td>0</td>\n",
       "      <td>(POLYGON ((-0.244562394525054 51.48870217634, ...</td>\n",
       "    </tr>\n",
       "    <tr>\n",
       "      <th>4</th>\n",
       "      <td>5</td>\n",
       "      <td>Ealing</td>\n",
       "      <td>E09000009</td>\n",
       "      <td>5554.428</td>\n",
       "      <td>0</td>\n",
       "      <td>(POLYGON ((-0.411832689731467 51.5340838625761...</td>\n",
       "    </tr>\n",
       "  </tbody>\n",
       "</table>\n",
       "</div>"
      ],
      "text/plain": [
       "   id                  name       code  area_hectares  inner_statistical  \\\n",
       "0   1  Kingston upon Thames  E09000021       3726.117                  0   \n",
       "1   2               Croydon  E09000008       8649.441                  0   \n",
       "2   3               Bromley  E09000006      15013.487                  0   \n",
       "3   4              Hounslow  E09000018       5658.541                  0   \n",
       "4   5                Ealing  E09000009       5554.428                  0   \n",
       "\n",
       "                                            geometry  \n",
       "0  (POLYGON ((-0.330679062942453 51.3290110106029...  \n",
       "1  (POLYGON ((-0.064021239620113 51.3186376598749...  \n",
       "2  (POLYGON ((0.012130938509177 51.2995990596564,...  \n",
       "3  (POLYGON ((-0.244562394525054 51.48870217634, ...  \n",
       "4  (POLYGON ((-0.411832689731467 51.5340838625761...  "
      ]
     },
     "execution_count": 5,
     "metadata": {},
     "output_type": "execute_result"
    }
   ],
   "source": [
    "boroughs.head()"
   ]
  },
  {
   "cell_type": "markdown",
   "metadata": {},
   "source": [
    "<a id=\"crime\"></a>\n",
    "## 2. Crime data\n",
    "\n",
    "The crime data is pre-processed in this [notebook](https://github.com/IBMDeveloperUK/foss4g-geopandas/blob/master/notebooks/prepare-uk-crime-data.ipynb) so it is easier to read here. We will only look at data from 2018. But feel free to also load the data from 2017 that is also provided in repository. Or adapt the pre-processing notebook to explore even more data.\n",
    "\n",
    "Data is downloaded from https://data.police.uk/ ([License](https://www.nationalarchives.gov.uk/doc/open-government-licence/version/3/))\n",
    "\n",
    "<a id=\"load2\"></a>\n",
    "### 2.1. Load data\n",
    "\n",
    "This dataset cannot be loaded into a geoDataFrame directly. Instead the data is loaded into a DataFrame and then converted:"
   ]
  },
  {
   "cell_type": "code",
   "execution_count": 6,
   "metadata": {},
   "outputs": [],
   "source": [
    "street = pd.read_csv(\"../data/2018-1-metropolitan-street.zip\")\n",
    "street2 = pd.read_csv(\"../data/2018-2-metropolitan-street.zip\")\n",
    "street = street.append(street2) \n",
    "\n",
    "stop_search = pd.read_csv(\"../data/2018-metropolitan-stop-and-search.zip\")"
   ]
  },
  {
   "cell_type": "markdown",
   "metadata": {},
   "source": [
    "<div class=\"alert alert-danger\" style=\"font-size:100%\">\n",
    "When you are using <b>Watson Studio</b> to run the workshop you will get an error with the above cell. Uncomment the below cell and run this instead to load the data from COS.\n",
    "</div> "
   ]
  },
  {
   "cell_type": "code",
   "execution_count": 7,
   "metadata": {},
   "outputs": [],
   "source": [
    "#download_file_to_local('2018-1-metropolitan-street.zip', project=project)\n",
    "#download_file_to_local('2018-2-metropolitan-street.zip', project=project)\n",
    "#street = pd.read_csv(\"./2018-1-metropolitan-street.zip\")\n",
    "#street2 = pd.read_csv(\"./2018-2-metropolitan-street.zip\")\n",
    "#street = street.append(street2) \n",
    "\n",
    "#download_file_to_local('2018-metropolitan-stop-and-search.zip', project=project)\n",
    "#stop_search = pd.read_csv(\"./2018-metropolitan-stop-and-search.zip\")"
   ]
  },
  {
   "cell_type": "code",
   "execution_count": 8,
   "metadata": {},
   "outputs": [
    {
     "data": {
      "text/html": [
       "<div>\n",
       "<style scoped>\n",
       "    .dataframe tbody tr th:only-of-type {\n",
       "        vertical-align: middle;\n",
       "    }\n",
       "\n",
       "    .dataframe tbody tr th {\n",
       "        vertical-align: top;\n",
       "    }\n",
       "\n",
       "    .dataframe thead th {\n",
       "        text-align: right;\n",
       "    }\n",
       "</style>\n",
       "<table border=\"1\" class=\"dataframe\">\n",
       "  <thead>\n",
       "    <tr style=\"text-align: right;\">\n",
       "      <th></th>\n",
       "      <th>Unnamed: 0</th>\n",
       "      <th>Crime ID</th>\n",
       "      <th>Month</th>\n",
       "      <th>Longitude</th>\n",
       "      <th>Latitude</th>\n",
       "      <th>Location</th>\n",
       "      <th>LSOA code</th>\n",
       "      <th>Crime type</th>\n",
       "      <th>Last outcome category</th>\n",
       "      <th>Context</th>\n",
       "    </tr>\n",
       "  </thead>\n",
       "  <tbody>\n",
       "    <tr>\n",
       "      <th>0</th>\n",
       "      <td>0</td>\n",
       "      <td>NaN</td>\n",
       "      <td>2018-01</td>\n",
       "      <td>0.136387</td>\n",
       "      <td>51.589215</td>\n",
       "      <td>On or near Billet Road</td>\n",
       "      <td>E01000027</td>\n",
       "      <td>Anti-social behaviour</td>\n",
       "      <td>NaN</td>\n",
       "      <td>NaN</td>\n",
       "    </tr>\n",
       "    <tr>\n",
       "      <th>1</th>\n",
       "      <td>1</td>\n",
       "      <td>NaN</td>\n",
       "      <td>2018-01</td>\n",
       "      <td>0.140634</td>\n",
       "      <td>51.583427</td>\n",
       "      <td>On or near Rams Grove</td>\n",
       "      <td>E01000027</td>\n",
       "      <td>Anti-social behaviour</td>\n",
       "      <td>NaN</td>\n",
       "      <td>NaN</td>\n",
       "    </tr>\n",
       "    <tr>\n",
       "      <th>2</th>\n",
       "      <td>2</td>\n",
       "      <td>NaN</td>\n",
       "      <td>2018-01</td>\n",
       "      <td>0.140192</td>\n",
       "      <td>51.582311</td>\n",
       "      <td>On or near Hatch Grove</td>\n",
       "      <td>E01000027</td>\n",
       "      <td>Anti-social behaviour</td>\n",
       "      <td>NaN</td>\n",
       "      <td>NaN</td>\n",
       "    </tr>\n",
       "    <tr>\n",
       "      <th>3</th>\n",
       "      <td>3</td>\n",
       "      <td>NaN</td>\n",
       "      <td>2018-01</td>\n",
       "      <td>0.137065</td>\n",
       "      <td>51.583672</td>\n",
       "      <td>On or near Police Station</td>\n",
       "      <td>E01000027</td>\n",
       "      <td>Anti-social behaviour</td>\n",
       "      <td>NaN</td>\n",
       "      <td>NaN</td>\n",
       "    </tr>\n",
       "    <tr>\n",
       "      <th>4</th>\n",
       "      <td>4</td>\n",
       "      <td>NaN</td>\n",
       "      <td>2018-01</td>\n",
       "      <td>0.137065</td>\n",
       "      <td>51.583672</td>\n",
       "      <td>On or near Police Station</td>\n",
       "      <td>E01000027</td>\n",
       "      <td>Anti-social behaviour</td>\n",
       "      <td>NaN</td>\n",
       "      <td>NaN</td>\n",
       "    </tr>\n",
       "  </tbody>\n",
       "</table>\n",
       "</div>"
      ],
      "text/plain": [
       "   Unnamed: 0 Crime ID    Month  Longitude   Latitude  \\\n",
       "0           0      NaN  2018-01   0.136387  51.589215   \n",
       "1           1      NaN  2018-01   0.140634  51.583427   \n",
       "2           2      NaN  2018-01   0.140192  51.582311   \n",
       "3           3      NaN  2018-01   0.137065  51.583672   \n",
       "4           4      NaN  2018-01   0.137065  51.583672   \n",
       "\n",
       "                    Location  LSOA code             Crime type  \\\n",
       "0     On or near Billet Road  E01000027  Anti-social behaviour   \n",
       "1      On or near Rams Grove  E01000027  Anti-social behaviour   \n",
       "2     On or near Hatch Grove  E01000027  Anti-social behaviour   \n",
       "3  On or near Police Station  E01000027  Anti-social behaviour   \n",
       "4  On or near Police Station  E01000027  Anti-social behaviour   \n",
       "\n",
       "  Last outcome category  Context  \n",
       "0                   NaN      NaN  \n",
       "1                   NaN      NaN  \n",
       "2                   NaN      NaN  \n",
       "3                   NaN      NaN  \n",
       "4                   NaN      NaN  "
      ]
     },
     "execution_count": 8,
     "metadata": {},
     "output_type": "execute_result"
    }
   ],
   "source": [
    "street.head()"
   ]
  },
  {
   "cell_type": "code",
   "execution_count": 9,
   "metadata": {},
   "outputs": [
    {
     "data": {
      "text/html": [
       "<div>\n",
       "<style scoped>\n",
       "    .dataframe tbody tr th:only-of-type {\n",
       "        vertical-align: middle;\n",
       "    }\n",
       "\n",
       "    .dataframe tbody tr th {\n",
       "        vertical-align: top;\n",
       "    }\n",
       "\n",
       "    .dataframe thead th {\n",
       "        text-align: right;\n",
       "    }\n",
       "</style>\n",
       "<table border=\"1\" class=\"dataframe\">\n",
       "  <thead>\n",
       "    <tr style=\"text-align: right;\">\n",
       "      <th></th>\n",
       "      <th>Unnamed: 0</th>\n",
       "      <th>Type</th>\n",
       "      <th>Date</th>\n",
       "      <th>Part of a policing operation</th>\n",
       "      <th>Policing operation</th>\n",
       "      <th>Latitude</th>\n",
       "      <th>Longitude</th>\n",
       "      <th>Gender</th>\n",
       "      <th>Age range</th>\n",
       "      <th>Legislation</th>\n",
       "      <th>Object of search</th>\n",
       "      <th>Outcome</th>\n",
       "      <th>Outcome linked to object of search</th>\n",
       "    </tr>\n",
       "  </thead>\n",
       "  <tbody>\n",
       "    <tr>\n",
       "      <th>0</th>\n",
       "      <td>0</td>\n",
       "      <td>Person search</td>\n",
       "      <td>2018-01-01T00:05:00+00:00</td>\n",
       "      <td>False</td>\n",
       "      <td>NaN</td>\n",
       "      <td>51.425491</td>\n",
       "      <td>-0.220473</td>\n",
       "      <td>Male</td>\n",
       "      <td>18-24</td>\n",
       "      <td>Misuse of Drugs Act 1971 (section 23)</td>\n",
       "      <td>Controlled drugs</td>\n",
       "      <td>Khat or Cannabis warning</td>\n",
       "      <td>NaN</td>\n",
       "    </tr>\n",
       "    <tr>\n",
       "      <th>1</th>\n",
       "      <td>1</td>\n",
       "      <td>Person search</td>\n",
       "      <td>2018-01-01T00:15:00+00:00</td>\n",
       "      <td>False</td>\n",
       "      <td>NaN</td>\n",
       "      <td>51.459996</td>\n",
       "      <td>-0.116896</td>\n",
       "      <td>Male</td>\n",
       "      <td>over 34</td>\n",
       "      <td>Misuse of Drugs Act 1971 (section 23)</td>\n",
       "      <td>Controlled drugs</td>\n",
       "      <td>Arrest</td>\n",
       "      <td>NaN</td>\n",
       "    </tr>\n",
       "    <tr>\n",
       "      <th>2</th>\n",
       "      <td>2</td>\n",
       "      <td>Person and Vehicle search</td>\n",
       "      <td>2018-01-01T00:16:00+00:00</td>\n",
       "      <td>False</td>\n",
       "      <td>NaN</td>\n",
       "      <td>51.542049</td>\n",
       "      <td>-0.380529</td>\n",
       "      <td>Male</td>\n",
       "      <td>25-34</td>\n",
       "      <td>Misuse of Drugs Act 1971 (section 23)</td>\n",
       "      <td>Controlled drugs</td>\n",
       "      <td>A no further action disposal</td>\n",
       "      <td>NaN</td>\n",
       "    </tr>\n",
       "    <tr>\n",
       "      <th>3</th>\n",
       "      <td>3</td>\n",
       "      <td>Person and Vehicle search</td>\n",
       "      <td>2018-01-01T00:17:00+00:00</td>\n",
       "      <td>False</td>\n",
       "      <td>NaN</td>\n",
       "      <td>51.613286</td>\n",
       "      <td>-0.065711</td>\n",
       "      <td>Male</td>\n",
       "      <td>25-34</td>\n",
       "      <td>Misuse of Drugs Act 1971 (section 23)</td>\n",
       "      <td>Controlled drugs</td>\n",
       "      <td>Arrest</td>\n",
       "      <td>NaN</td>\n",
       "    </tr>\n",
       "    <tr>\n",
       "      <th>4</th>\n",
       "      <td>4</td>\n",
       "      <td>Person search</td>\n",
       "      <td>2018-01-01T00:20:00+00:00</td>\n",
       "      <td>False</td>\n",
       "      <td>NaN</td>\n",
       "      <td>51.461004</td>\n",
       "      <td>-0.115876</td>\n",
       "      <td>Male</td>\n",
       "      <td>over 34</td>\n",
       "      <td>Misuse of Drugs Act 1971 (section 23)</td>\n",
       "      <td>Controlled drugs</td>\n",
       "      <td>A no further action disposal</td>\n",
       "      <td>NaN</td>\n",
       "    </tr>\n",
       "  </tbody>\n",
       "</table>\n",
       "</div>"
      ],
      "text/plain": [
       "   Unnamed: 0                       Type                       Date  \\\n",
       "0           0              Person search  2018-01-01T00:05:00+00:00   \n",
       "1           1              Person search  2018-01-01T00:15:00+00:00   \n",
       "2           2  Person and Vehicle search  2018-01-01T00:16:00+00:00   \n",
       "3           3  Person and Vehicle search  2018-01-01T00:17:00+00:00   \n",
       "4           4              Person search  2018-01-01T00:20:00+00:00   \n",
       "\n",
       "   Part of a policing operation  Policing operation   Latitude  Longitude  \\\n",
       "0                         False                 NaN  51.425491  -0.220473   \n",
       "1                         False                 NaN  51.459996  -0.116896   \n",
       "2                         False                 NaN  51.542049  -0.380529   \n",
       "3                         False                 NaN  51.613286  -0.065711   \n",
       "4                         False                 NaN  51.461004  -0.115876   \n",
       "\n",
       "  Gender Age range                            Legislation  Object of search  \\\n",
       "0   Male     18-24  Misuse of Drugs Act 1971 (section 23)  Controlled drugs   \n",
       "1   Male   over 34  Misuse of Drugs Act 1971 (section 23)  Controlled drugs   \n",
       "2   Male     25-34  Misuse of Drugs Act 1971 (section 23)  Controlled drugs   \n",
       "3   Male     25-34  Misuse of Drugs Act 1971 (section 23)  Controlled drugs   \n",
       "4   Male   over 34  Misuse of Drugs Act 1971 (section 23)  Controlled drugs   \n",
       "\n",
       "                        Outcome  Outcome linked to object of search  \n",
       "0      Khat or Cannabis warning                                 NaN  \n",
       "1                        Arrest                                 NaN  \n",
       "2  A no further action disposal                                 NaN  \n",
       "3                        Arrest                                 NaN  \n",
       "4  A no further action disposal                                 NaN  "
      ]
     },
     "execution_count": 9,
     "metadata": {},
     "output_type": "execute_result"
    }
   ],
   "source": [
    "stop_search.head()"
   ]
  },
  {
   "cell_type": "markdown",
   "metadata": {},
   "source": [
    "#### Convert to geoDataFrames"
   ]
  },
  {
   "cell_type": "code",
   "execution_count": 10,
   "metadata": {},
   "outputs": [
    {
     "data": {
      "text/html": [
       "<div>\n",
       "<style scoped>\n",
       "    .dataframe tbody tr th:only-of-type {\n",
       "        vertical-align: middle;\n",
       "    }\n",
       "\n",
       "    .dataframe tbody tr th {\n",
       "        vertical-align: top;\n",
       "    }\n",
       "\n",
       "    .dataframe thead th {\n",
       "        text-align: right;\n",
       "    }\n",
       "</style>\n",
       "<table border=\"1\" class=\"dataframe\">\n",
       "  <thead>\n",
       "    <tr style=\"text-align: right;\">\n",
       "      <th></th>\n",
       "      <th>Unnamed: 0</th>\n",
       "      <th>Crime ID</th>\n",
       "      <th>Month</th>\n",
       "      <th>Longitude</th>\n",
       "      <th>Latitude</th>\n",
       "      <th>Location</th>\n",
       "      <th>LSOA code</th>\n",
       "      <th>Crime type</th>\n",
       "      <th>Last outcome category</th>\n",
       "      <th>Context</th>\n",
       "      <th>coordinates</th>\n",
       "    </tr>\n",
       "  </thead>\n",
       "  <tbody>\n",
       "    <tr>\n",
       "      <th>0</th>\n",
       "      <td>0</td>\n",
       "      <td>NaN</td>\n",
       "      <td>2018-01</td>\n",
       "      <td>0.136387</td>\n",
       "      <td>51.589215</td>\n",
       "      <td>On or near Billet Road</td>\n",
       "      <td>E01000027</td>\n",
       "      <td>Anti-social behaviour</td>\n",
       "      <td>NaN</td>\n",
       "      <td>NaN</td>\n",
       "      <td>POINT (0.136387 51.589215)</td>\n",
       "    </tr>\n",
       "    <tr>\n",
       "      <th>1</th>\n",
       "      <td>1</td>\n",
       "      <td>NaN</td>\n",
       "      <td>2018-01</td>\n",
       "      <td>0.140634</td>\n",
       "      <td>51.583427</td>\n",
       "      <td>On or near Rams Grove</td>\n",
       "      <td>E01000027</td>\n",
       "      <td>Anti-social behaviour</td>\n",
       "      <td>NaN</td>\n",
       "      <td>NaN</td>\n",
       "      <td>POINT (0.140634 51.583427)</td>\n",
       "    </tr>\n",
       "    <tr>\n",
       "      <th>2</th>\n",
       "      <td>2</td>\n",
       "      <td>NaN</td>\n",
       "      <td>2018-01</td>\n",
       "      <td>0.140192</td>\n",
       "      <td>51.582311</td>\n",
       "      <td>On or near Hatch Grove</td>\n",
       "      <td>E01000027</td>\n",
       "      <td>Anti-social behaviour</td>\n",
       "      <td>NaN</td>\n",
       "      <td>NaN</td>\n",
       "      <td>POINT (0.140192 51.582311)</td>\n",
       "    </tr>\n",
       "    <tr>\n",
       "      <th>3</th>\n",
       "      <td>3</td>\n",
       "      <td>NaN</td>\n",
       "      <td>2018-01</td>\n",
       "      <td>0.137065</td>\n",
       "      <td>51.583672</td>\n",
       "      <td>On or near Police Station</td>\n",
       "      <td>E01000027</td>\n",
       "      <td>Anti-social behaviour</td>\n",
       "      <td>NaN</td>\n",
       "      <td>NaN</td>\n",
       "      <td>POINT (0.137065 51.583672)</td>\n",
       "    </tr>\n",
       "    <tr>\n",
       "      <th>4</th>\n",
       "      <td>4</td>\n",
       "      <td>NaN</td>\n",
       "      <td>2018-01</td>\n",
       "      <td>0.137065</td>\n",
       "      <td>51.583672</td>\n",
       "      <td>On or near Police Station</td>\n",
       "      <td>E01000027</td>\n",
       "      <td>Anti-social behaviour</td>\n",
       "      <td>NaN</td>\n",
       "      <td>NaN</td>\n",
       "      <td>POINT (0.137065 51.583672)</td>\n",
       "    </tr>\n",
       "  </tbody>\n",
       "</table>\n",
       "</div>"
      ],
      "text/plain": [
       "   Unnamed: 0 Crime ID    Month  Longitude   Latitude  \\\n",
       "0           0      NaN  2018-01   0.136387  51.589215   \n",
       "1           1      NaN  2018-01   0.140634  51.583427   \n",
       "2           2      NaN  2018-01   0.140192  51.582311   \n",
       "3           3      NaN  2018-01   0.137065  51.583672   \n",
       "4           4      NaN  2018-01   0.137065  51.583672   \n",
       "\n",
       "                    Location  LSOA code             Crime type  \\\n",
       "0     On or near Billet Road  E01000027  Anti-social behaviour   \n",
       "1      On or near Rams Grove  E01000027  Anti-social behaviour   \n",
       "2     On or near Hatch Grove  E01000027  Anti-social behaviour   \n",
       "3  On or near Police Station  E01000027  Anti-social behaviour   \n",
       "4  On or near Police Station  E01000027  Anti-social behaviour   \n",
       "\n",
       "  Last outcome category  Context                 coordinates  \n",
       "0                   NaN      NaN  POINT (0.136387 51.589215)  \n",
       "1                   NaN      NaN  POINT (0.140634 51.583427)  \n",
       "2                   NaN      NaN  POINT (0.140192 51.582311)  \n",
       "3                   NaN      NaN  POINT (0.137065 51.583672)  \n",
       "4                   NaN      NaN  POINT (0.137065 51.583672)  "
      ]
     },
     "execution_count": 10,
     "metadata": {},
     "output_type": "execute_result"
    }
   ],
   "source": [
    "street['coordinates'] = list(zip(street.Longitude, street.Latitude))\n",
    "street['coordinates'] = street['coordinates'].apply(Point)\n",
    "street = gpd.GeoDataFrame(street, geometry='coordinates')\n",
    "street.head()"
   ]
  },
  {
   "cell_type": "code",
   "execution_count": 11,
   "metadata": {},
   "outputs": [
    {
     "data": {
      "text/html": [
       "<div>\n",
       "<style scoped>\n",
       "    .dataframe tbody tr th:only-of-type {\n",
       "        vertical-align: middle;\n",
       "    }\n",
       "\n",
       "    .dataframe tbody tr th {\n",
       "        vertical-align: top;\n",
       "    }\n",
       "\n",
       "    .dataframe thead th {\n",
       "        text-align: right;\n",
       "    }\n",
       "</style>\n",
       "<table border=\"1\" class=\"dataframe\">\n",
       "  <thead>\n",
       "    <tr style=\"text-align: right;\">\n",
       "      <th></th>\n",
       "      <th>Unnamed: 0</th>\n",
       "      <th>Type</th>\n",
       "      <th>Date</th>\n",
       "      <th>Part of a policing operation</th>\n",
       "      <th>Policing operation</th>\n",
       "      <th>Latitude</th>\n",
       "      <th>Longitude</th>\n",
       "      <th>Gender</th>\n",
       "      <th>Age range</th>\n",
       "      <th>Legislation</th>\n",
       "      <th>Object of search</th>\n",
       "      <th>Outcome</th>\n",
       "      <th>Outcome linked to object of search</th>\n",
       "      <th>coordinates</th>\n",
       "    </tr>\n",
       "  </thead>\n",
       "  <tbody>\n",
       "    <tr>\n",
       "      <th>0</th>\n",
       "      <td>0</td>\n",
       "      <td>Person search</td>\n",
       "      <td>2018-01-01T00:05:00+00:00</td>\n",
       "      <td>False</td>\n",
       "      <td>NaN</td>\n",
       "      <td>51.425491</td>\n",
       "      <td>-0.220473</td>\n",
       "      <td>Male</td>\n",
       "      <td>18-24</td>\n",
       "      <td>Misuse of Drugs Act 1971 (section 23)</td>\n",
       "      <td>Controlled drugs</td>\n",
       "      <td>Khat or Cannabis warning</td>\n",
       "      <td>NaN</td>\n",
       "      <td>POINT (-0.220473 51.425491)</td>\n",
       "    </tr>\n",
       "    <tr>\n",
       "      <th>1</th>\n",
       "      <td>1</td>\n",
       "      <td>Person search</td>\n",
       "      <td>2018-01-01T00:15:00+00:00</td>\n",
       "      <td>False</td>\n",
       "      <td>NaN</td>\n",
       "      <td>51.459996</td>\n",
       "      <td>-0.116896</td>\n",
       "      <td>Male</td>\n",
       "      <td>over 34</td>\n",
       "      <td>Misuse of Drugs Act 1971 (section 23)</td>\n",
       "      <td>Controlled drugs</td>\n",
       "      <td>Arrest</td>\n",
       "      <td>NaN</td>\n",
       "      <td>POINT (-0.116896 51.459996)</td>\n",
       "    </tr>\n",
       "    <tr>\n",
       "      <th>2</th>\n",
       "      <td>2</td>\n",
       "      <td>Person and Vehicle search</td>\n",
       "      <td>2018-01-01T00:16:00+00:00</td>\n",
       "      <td>False</td>\n",
       "      <td>NaN</td>\n",
       "      <td>51.542049</td>\n",
       "      <td>-0.380529</td>\n",
       "      <td>Male</td>\n",
       "      <td>25-34</td>\n",
       "      <td>Misuse of Drugs Act 1971 (section 23)</td>\n",
       "      <td>Controlled drugs</td>\n",
       "      <td>A no further action disposal</td>\n",
       "      <td>NaN</td>\n",
       "      <td>POINT (-0.380529 51.542049)</td>\n",
       "    </tr>\n",
       "    <tr>\n",
       "      <th>3</th>\n",
       "      <td>3</td>\n",
       "      <td>Person and Vehicle search</td>\n",
       "      <td>2018-01-01T00:17:00+00:00</td>\n",
       "      <td>False</td>\n",
       "      <td>NaN</td>\n",
       "      <td>51.613286</td>\n",
       "      <td>-0.065711</td>\n",
       "      <td>Male</td>\n",
       "      <td>25-34</td>\n",
       "      <td>Misuse of Drugs Act 1971 (section 23)</td>\n",
       "      <td>Controlled drugs</td>\n",
       "      <td>Arrest</td>\n",
       "      <td>NaN</td>\n",
       "      <td>POINT (-0.06571100000000001 51.613286)</td>\n",
       "    </tr>\n",
       "    <tr>\n",
       "      <th>4</th>\n",
       "      <td>4</td>\n",
       "      <td>Person search</td>\n",
       "      <td>2018-01-01T00:20:00+00:00</td>\n",
       "      <td>False</td>\n",
       "      <td>NaN</td>\n",
       "      <td>51.461004</td>\n",
       "      <td>-0.115876</td>\n",
       "      <td>Male</td>\n",
       "      <td>over 34</td>\n",
       "      <td>Misuse of Drugs Act 1971 (section 23)</td>\n",
       "      <td>Controlled drugs</td>\n",
       "      <td>A no further action disposal</td>\n",
       "      <td>NaN</td>\n",
       "      <td>POINT (-0.115876 51.461004)</td>\n",
       "    </tr>\n",
       "  </tbody>\n",
       "</table>\n",
       "</div>"
      ],
      "text/plain": [
       "   Unnamed: 0                       Type                       Date  \\\n",
       "0           0              Person search  2018-01-01T00:05:00+00:00   \n",
       "1           1              Person search  2018-01-01T00:15:00+00:00   \n",
       "2           2  Person and Vehicle search  2018-01-01T00:16:00+00:00   \n",
       "3           3  Person and Vehicle search  2018-01-01T00:17:00+00:00   \n",
       "4           4              Person search  2018-01-01T00:20:00+00:00   \n",
       "\n",
       "   Part of a policing operation  Policing operation   Latitude  Longitude  \\\n",
       "0                         False                 NaN  51.425491  -0.220473   \n",
       "1                         False                 NaN  51.459996  -0.116896   \n",
       "2                         False                 NaN  51.542049  -0.380529   \n",
       "3                         False                 NaN  51.613286  -0.065711   \n",
       "4                         False                 NaN  51.461004  -0.115876   \n",
       "\n",
       "  Gender Age range                            Legislation  Object of search  \\\n",
       "0   Male     18-24  Misuse of Drugs Act 1971 (section 23)  Controlled drugs   \n",
       "1   Male   over 34  Misuse of Drugs Act 1971 (section 23)  Controlled drugs   \n",
       "2   Male     25-34  Misuse of Drugs Act 1971 (section 23)  Controlled drugs   \n",
       "3   Male     25-34  Misuse of Drugs Act 1971 (section 23)  Controlled drugs   \n",
       "4   Male   over 34  Misuse of Drugs Act 1971 (section 23)  Controlled drugs   \n",
       "\n",
       "                        Outcome  Outcome linked to object of search  \\\n",
       "0      Khat or Cannabis warning                                 NaN   \n",
       "1                        Arrest                                 NaN   \n",
       "2  A no further action disposal                                 NaN   \n",
       "3                        Arrest                                 NaN   \n",
       "4  A no further action disposal                                 NaN   \n",
       "\n",
       "                              coordinates  \n",
       "0             POINT (-0.220473 51.425491)  \n",
       "1             POINT (-0.116896 51.459996)  \n",
       "2             POINT (-0.380529 51.542049)  \n",
       "3  POINT (-0.06571100000000001 51.613286)  \n",
       "4             POINT (-0.115876 51.461004)  "
      ]
     },
     "execution_count": 11,
     "metadata": {},
     "output_type": "execute_result"
    }
   ],
   "source": [
    "stop_search['coordinates'] = list(zip(stop_search.Longitude, stop_search.Latitude))\n",
    "stop_search['coordinates'] = stop_search['coordinates'].apply(Point)\n",
    "stop_search = gpd.GeoDataFrame(stop_search, geometry='coordinates')\n",
    "stop_search.head()"
   ]
  },
  {
   "cell_type": "markdown",
   "metadata": {},
   "source": [
    "<a id=\"explore2\"></a>\n",
    "### 5.2. Explore data\n"
   ]
  },
  {
   "cell_type": "markdown",
   "metadata": {},
   "source": [
    "<div class=\"alert alert-success\">\n",
    " <b>EXERCISES</b> <br/> \n",
    " Explore the data with Pandas. There are no right or wrong answers, the questions below give you some suggestions at what to look at. <br/> \n",
    "\n",
    "Noticed anything odd about the latitudes and longitudes? Read here how the data is anonymised: https://data.police.uk/about/.\n",
    "</div>  "
   ]
  },
  {
   "cell_type": "markdown",
   "metadata": {},
   "source": [
    "<div class=\"alert alert-success\">\n",
    " <b>QUESTION 1 - Explore the street DataFrame</b> <br/> \n",
    "  <ul>\n",
    "  <li>How much data is there?</li>\n",
    "  <li>Are there missing values? Should these rows be deleted?  </li>\n",
    "  <li>Which columns of the datasets contain useful information? What kind of categories are there and are they all meaningful?</li>\n",
    "  <li>Convert the Date to datetime with <font face=\"Courier\">.apply(lambda x: datetime.strptime(x, \"%Y-%m\")</font> </li>     \n",
    "  </ul> \n",
    "</div>  "
   ]
  },
  {
   "cell_type": "code",
   "execution_count": 12,
   "metadata": {},
   "outputs": [],
   "source": [
    "# answer 1\n"
   ]
  },
  {
   "cell_type": "code",
   "execution_count": null,
   "metadata": {},
   "outputs": [],
   "source": [
    "# %load https://raw.githubusercontent.com/IBMDeveloperUK/foss4g-geopandas/master/answers/crime_answer1.py"
   ]
  },
  {
   "cell_type": "markdown",
   "metadata": {},
   "source": [
    "<div class=\"alert alert-success\">\n",
    " <b>QUESTION 2</b> - Which crime type occurs most often? And near which location? <br/> \n",
    "</div> \n",
    "\n",
    "> Hints: use [groupby()](https://pandas.pydata.org/pandas-docs/stable/reference/api/pandas.DataFrame.groupby.html) to summarize the data and [sort_values()](https://pandas.pydata.org/pandas-docs/stable/reference/api/pandas.DataFrame.sort_values.html) to sort the data. "
   ]
  },
  {
   "cell_type": "code",
   "execution_count": null,
   "metadata": {},
   "outputs": [],
   "source": [
    "# answer 2\n"
   ]
  },
  {
   "cell_type": "code",
   "execution_count": null,
   "metadata": {},
   "outputs": [],
   "source": [
    "# %load https://raw.githubusercontent.com/IBMDeveloperUK/foss4g-geopandas/master/answers/crime_answer2.py"
   ]
  },
  {
   "cell_type": "markdown",
   "metadata": {},
   "source": [
    "<div class=\"alert alert-success\">\n",
    " <b>QUESTION 3 - Visualise the street DataFrame: </b> <br/> \n",
    "  <ul>\n",
    "  <li> The total number of crimes per crime type </li>\n",
    "  <li>The total number of crimes per month </li>\n",
    "  </ul> \n",
    "</div> "
   ]
  },
  {
   "cell_type": "code",
   "execution_count": null,
   "metadata": {},
   "outputs": [],
   "source": [
    "# answer 3\n"
   ]
  },
  {
   "cell_type": "code",
   "execution_count": null,
   "metadata": {},
   "outputs": [],
   "source": [
    "# %load https://raw.githubusercontent.com/IBMDeveloperUK/foss4g-geopandas/master/answers/crime_answer3.py"
   ]
  },
  {
   "cell_type": "markdown",
   "metadata": {},
   "source": [
    "<div class=\"alert alert-success\">\n",
    " <b>QUESTION 4 - Explore the stop_search DataFrame</b> <br/> \n",
    "  <ul>\n",
    "  <li>How much data is there?</li>\n",
    "  <li>Are there missing values? Should these rows be deleted?  </li>\n",
    "  <li>Which columns of the datasets contain useful information? What kind of categories are there and are they all meaningful?</li>\n",
    "  <li>Convert the Date to datetime with <font face=\"Courier\">.apply(lambda x: datetime.strptime(x, \"%Y-%m\")</font> </li>     \n",
    "  </ul> \n",
    "</div> "
   ]
  },
  {
   "cell_type": "code",
   "execution_count": null,
   "metadata": {},
   "outputs": [],
   "source": [
    "# answer 4\n"
   ]
  },
  {
   "cell_type": "code",
   "execution_count": null,
   "metadata": {},
   "outputs": [],
   "source": [
    "# %load https://raw.githubusercontent.com/IBMDeveloperUK/foss4g-geopandas/master/answers/crime_answer4.py"
   ]
  },
  {
   "cell_type": "markdown",
   "metadata": {},
   "source": [
    "<div class=\"alert alert-success\">\n",
    " <b>QUESTION 5 - Visualise the stop_search DataFrame: </b> <br/> \n",
    "  <ul>\n",
    "  <li> The total number of stops per object of search </li>\n",
    "  <li> The total number of stops per outcome </li>\n",
    "  <li> The total number of crimes per month (optional: split these out in categories)</li>\n",
    "  </ul> \n",
    "</div>"
   ]
  },
  {
   "cell_type": "code",
   "execution_count": null,
   "metadata": {},
   "outputs": [],
   "source": [
    "# answer 5\n"
   ]
  },
  {
   "cell_type": "code",
   "execution_count": null,
   "metadata": {},
   "outputs": [],
   "source": [
    "# %load https://raw.githubusercontent.com/IBMDeveloperUK/foss4g-geopandas/master/answers/crime_answer5.py"
   ]
  },
  {
   "cell_type": "markdown",
   "metadata": {},
   "source": [
    "### Some observations and ideas to further explore the data\n",
    "\n",
    "* The number of stop and searches seems to go up. That is something you could investigate further. Is any of the categories increasing? \n",
    "* Another interesting question is how the object of search and the outcome are related. Are there types of searches where nothing is found more frequently? \n",
    "* How could you combine the two datasets?\n",
    "\n",
    "### Spatial join\n",
    "\n",
    "> The below solution was found [here](https://gis.stackexchange.com/questions/306674/geopandas-spatial-join-and-count) after googling for 'geopandas count points in polygon'\n",
    "\n",
    "The `crs` needs to be the same for both GeoDataFrames. "
   ]
  },
  {
   "cell_type": "code",
   "execution_count": null,
   "metadata": {},
   "outputs": [],
   "source": [
    "print(boroughs.crs)\n",
    "print(stop_search.crs)"
   ]
  },
  {
   "cell_type": "markdown",
   "metadata": {},
   "source": [
    "Add a borough to each point with a spatial join. This will add the `geometry` and other columns from `boroughs2` to the points in `stop_search`. "
   ]
  },
  {
   "cell_type": "code",
   "execution_count": null,
   "metadata": {},
   "outputs": [],
   "source": [
    "stop_search.crs = boroughs.crs\n",
    "dfsjoin = gpd.sjoin(boroughs,stop_search) \n",
    "dfsjoin.head()"
   ]
  },
  {
   "cell_type": "markdown",
   "metadata": {},
   "source": [
    "Then aggregate this table by creating a [pivot table](https://jakevdp.github.io/PythonDataScienceHandbook/03.09-pivot-tables.html) where for each borough the number of types each of the categories in `Object of search` are counted. Then drop the pivot level and remove the index, so you can merge this new table back into the `boroughs2` DataFrame."
   ]
  },
  {
   "cell_type": "code",
   "execution_count": null,
   "metadata": {},
   "outputs": [],
   "source": [
    "dfpivot = pd.pivot_table(dfsjoin,index='code',columns='Object of search',aggfunc={'Object of search':'count'})\n",
    "dfpivot.columns = dfpivot.columns.droplevel()\n",
    "dfpivot = dfpivot.reset_index()\n",
    "dfpivot.head()"
   ]
  },
  {
   "cell_type": "code",
   "execution_count": null,
   "metadata": {},
   "outputs": [],
   "source": [
    "boroughs2 = boroughs.merge(dfpivot, how='left',on='code')\n",
    "boroughs2.head()"
   ]
  },
  {
   "cell_type": "markdown",
   "metadata": {},
   "source": [
    "Let's make some maps!"
   ]
  },
  {
   "cell_type": "code",
   "execution_count": null,
   "metadata": {},
   "outputs": [],
   "source": [
    "fig, axs = plt.subplots(1, 2, figsize=(20,5))\n",
    "\n",
    "p1=boroughs2.plot(column='Controlled drugs',ax=axs[0],cmap='Blues',legend=True);\n",
    "axs[0].set_title('Controlled drugs', fontdict={'fontsize': '12', 'fontweight' : '5'});\n",
    "\n",
    "p2=boroughs2.plot(column='Stolen goods',ax=axs[1], cmap='Reds',legend=True);\n",
    "axs[1].set_title('Stolen goods', fontdict={'fontsize': '12', 'fontweight' : '5'});\n"
   ]
  },
  {
   "cell_type": "markdown",
   "metadata": {},
   "source": [
    "<div class=\"alert alert-success\">\n",
    " <b>QUESTION 6 </b> - Improve the above maps. How many actual arrests are there in each borough? Use the above method but first select only the arrests using the column 'Outcome'. <br/> \n",
    "</div>  "
   ]
  },
  {
   "cell_type": "code",
   "execution_count": null,
   "metadata": {},
   "outputs": [],
   "source": [
    "# answer 6\n"
   ]
  },
  {
   "cell_type": "code",
   "execution_count": null,
   "metadata": {},
   "outputs": [],
   "source": [
    "# %load https://raw.githubusercontent.com/IBMDeveloperUK/foss4g-geopandas/master/answers/crime_answer6a.py"
   ]
  },
  {
   "cell_type": "code",
   "execution_count": null,
   "metadata": {},
   "outputs": [],
   "source": [
    "# %load https://raw.githubusercontent.com/IBMDeveloperUK/foss4g-geopandas/master/answers/crime_answer6b.py"
   ]
  },
  {
   "cell_type": "markdown",
   "metadata": {},
   "source": [
    "<div class=\"alert alert-success\">\n",
    " <b>QUESTION 7 </b> - Are there changes over time? Is there a difference between months? Use `street` and look at Westminster or another borough where the crime rate seems higher. Is there a difference in crimes commited by men and women? And what about the age groups? <br/> \n",
    "</div>  "
   ]
  },
  {
   "cell_type": "code",
   "execution_count": null,
   "metadata": {},
   "outputs": [],
   "source": []
  },
  {
   "cell_type": "markdown",
   "metadata": {},
   "source": [
    "<div class=\"alert alert-success\">\n",
    " <b>QUESTION 8 </b> - Make heatmaps for different crime types or other classes (optionally for different periods in the year) <br/>\n",
    "</div> "
   ]
  },
  {
   "cell_type": "code",
   "execution_count": null,
   "metadata": {},
   "outputs": [],
   "source": []
  },
  {
   "cell_type": "markdown",
   "metadata": {},
   "source": [
    "### Author\n",
    "Margriet Groenendijk is a Data & AI Developer Advocate for IBM. She develops and presents talks and workshops about data science and AI. She is active in the local developer communities through attending, presenting and organising meetups. She has a background in climate science where she explored large observational datasets of carbon uptake by forests during her PhD, and global scale weather and climate models as a postdoctoral fellow. \n",
    "\n",
    "Copyright © 2019 IBM. This notebook and its source code are released under the terms of the MIT License."
   ]
  },
  {
   "cell_type": "code",
   "execution_count": null,
   "metadata": {},
   "outputs": [],
   "source": []
  }
 ],
 "metadata": {
  "kernelspec": {
   "display_name": "Python (foss4g)",
   "language": "python",
   "name": "foss4g"
  },
  "language_info": {
   "codemirror_mode": {
    "name": "ipython",
    "version": 3
   },
   "file_extension": ".py",
   "mimetype": "text/x-python",
   "name": "python",
   "nbconvert_exporter": "python",
   "pygments_lexer": "ipython3",
   "version": "3.7.3"
  }
 },
 "nbformat": 4,
 "nbformat_minor": 1
}
