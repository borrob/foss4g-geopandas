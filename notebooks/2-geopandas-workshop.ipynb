{
 "cells": [
  {
   "cell_type": "markdown",
   "metadata": {},
   "source": [
    "# Introduction to GeoPandas\n",
    "\n",
    "\n",
    "## Table of Contents\n",
    "\n",
    "1. [Points, lines and polygons](#GeoDataFrames)<br>\n",
    "2. [Spatial relationships](#spatial)<br>\n",
    "3. [London boroughs](#boroughs)<br>\n",
    "    3.1. [Load geodpatial data](#load1)<br>\n",
    "    3.2. [Explore data](#explore1)<br>\n",
    "4. [Open Street Map data (OSM)](#osm)<br>\n",
    "    4.1. [Load data](#load2)<br>\n",
    "    4.2. [Explore data](#explore2)<br>\n"
   ]
  },
  {
   "cell_type": "markdown",
   "metadata": {},
   "source": [
    "<div class=\"alert alert-danger\" style=\"font-size:100%\">\n",
    "If you are using <b>Watson Studio</b> to run the workshop you will need to add the project token to your notebook that you created earlier to be able to access the shape files from your Cloud Object Store (COS). \n",
    "\n",
    "Click the 3 dots at the top of the notebook to insert the project token. This will create a new cell in the notebook that you will need to run first before continuing with the rest of the notebook. If you are sharing this notebook you should remove this cell, else anyone can use you Cloud Object Storage from this project.\n",
    "\n",
    "If you cannot find the new cell it is probably at the top of this notebook. Scroll up, run the cell and continue with the rest of the notebook\n",
    "\n",
    "</div> "
   ]
  },
  {
   "cell_type": "code",
   "execution_count": 1,
   "metadata": {},
   "outputs": [],
   "source": [
    "import pandas as pd\n",
    "import geopandas as gpd\n",
    "from shapely.geometry import Point, LineString, Polygon\n",
    "import matplotlib.pyplot as plt\n",
    "\n",
    "%matplotlib inline"
   ]
  },
  {
   "cell_type": "markdown",
   "metadata": {},
   "source": [
    "<a id=\"GeoDataFrames\"></a>\n",
    "## 1. Points, lines and polygons\n",
    "\n",
    "A [`GeoDataSeries`](http://geopandas.org/data_structures.html) is a vector where each row is a set of shapes corresponding to one observation. A row may consist of only one shape (like a single polygon) or multiple shapes that are meant to be thought of as one observation.\n",
    "\n",
    "A `GeoDataFrame` is very similar to a Pandas `DataFrame`, but has an additional column with the shape or `geometry`. You can load a file, or create your own `GeoDataFrame`. \n",
    "\n",
    "Below the latitude and longitude of 5 cities are used to create a `POINT` geometry variable that is used to create a `GeoDataFrame` from a `DataFrame`: "
   ]
  },
  {
   "cell_type": "code",
   "execution_count": 2,
   "metadata": {},
   "outputs": [
    {
     "data": {
      "text/html": [
       "<div>\n",
       "<style scoped>\n",
       "    .dataframe tbody tr th:only-of-type {\n",
       "        vertical-align: middle;\n",
       "    }\n",
       "\n",
       "    .dataframe tbody tr th {\n",
       "        vertical-align: top;\n",
       "    }\n",
       "\n",
       "    .dataframe thead th {\n",
       "        text-align: right;\n",
       "    }\n",
       "</style>\n",
       "<table border=\"1\" class=\"dataframe\">\n",
       "  <thead>\n",
       "    <tr style=\"text-align: right;\">\n",
       "      <th></th>\n",
       "      <th>city</th>\n",
       "      <th>population</th>\n",
       "      <th>area</th>\n",
       "      <th>latitude</th>\n",
       "      <th>longitude</th>\n",
       "      <th>geometry</th>\n",
       "    </tr>\n",
       "  </thead>\n",
       "  <tbody>\n",
       "    <tr>\n",
       "      <th>0</th>\n",
       "      <td>London</td>\n",
       "      <td>9787426</td>\n",
       "      <td>1737.9</td>\n",
       "      <td>51.50853</td>\n",
       "      <td>-0.12574</td>\n",
       "      <td>POINT (-0.12574 51.50853)</td>\n",
       "    </tr>\n",
       "    <tr>\n",
       "      <th>1</th>\n",
       "      <td>Manchester</td>\n",
       "      <td>2553379</td>\n",
       "      <td>630.3</td>\n",
       "      <td>53.48095</td>\n",
       "      <td>-2.23743</td>\n",
       "      <td>POINT (-2.23743 53.48095)</td>\n",
       "    </tr>\n",
       "    <tr>\n",
       "      <th>2</th>\n",
       "      <td>Birmingham</td>\n",
       "      <td>2440986</td>\n",
       "      <td>598.9</td>\n",
       "      <td>52.48142</td>\n",
       "      <td>-1.89983</td>\n",
       "      <td>POINT (-1.89983 52.48142)</td>\n",
       "    </tr>\n",
       "    <tr>\n",
       "      <th>3</th>\n",
       "      <td>Leeds</td>\n",
       "      <td>1777934</td>\n",
       "      <td>487.8</td>\n",
       "      <td>53.79648</td>\n",
       "      <td>-1.54785</td>\n",
       "      <td>POINT (-1.54785 53.79648)</td>\n",
       "    </tr>\n",
       "    <tr>\n",
       "      <th>4</th>\n",
       "      <td>Glasgow</td>\n",
       "      <td>1209143</td>\n",
       "      <td>368.5</td>\n",
       "      <td>55.86515</td>\n",
       "      <td>-4.25763</td>\n",
       "      <td>POINT (-4.25763 55.86515)</td>\n",
       "    </tr>\n",
       "  </tbody>\n",
       "</table>\n",
       "</div>"
      ],
      "text/plain": [
       "         city  population    area  latitude  longitude  \\\n",
       "0      London     9787426  1737.9  51.50853   -0.12574   \n",
       "1  Manchester     2553379   630.3  53.48095   -2.23743   \n",
       "2  Birmingham     2440986   598.9  52.48142   -1.89983   \n",
       "3       Leeds     1777934   487.8  53.79648   -1.54785   \n",
       "4     Glasgow     1209143   368.5  55.86515   -4.25763   \n",
       "\n",
       "                    geometry  \n",
       "0  POINT (-0.12574 51.50853)  \n",
       "1  POINT (-2.23743 53.48095)  \n",
       "2  POINT (-1.89983 52.48142)  \n",
       "3  POINT (-1.54785 53.79648)  \n",
       "4  POINT (-4.25763 55.86515)  "
      ]
     },
     "execution_count": 2,
     "metadata": {},
     "output_type": "execute_result"
    }
   ],
   "source": [
    "df = pd.DataFrame({'city':       ['London','Manchester','Birmingham','Leeds','Glasgow'],\n",
    "        'population': [9787426,  2553379,     2440986,    1777934, 1209143],\n",
    "        'area':       [1737.9,   630.3,       598.9,      487.8,   368.5 ],\n",
    "        'latitude':   [51.50853, 53.48095,    52.48142,   53.79648,55.86515],\n",
    "        'longitude':  [-0.12574, -2.23743,    -1.89983,   -1.54785,-4.25763]})\n",
    "\n",
    "df['geometry']  = list(zip(df.longitude, df.latitude))\n",
    "\n",
    "df['geometry'] = df['geometry'].apply(Point)\n",
    "\n",
    "cities = gpd.GeoDataFrame(df, geometry='geometry')\n",
    "cities.head()"
   ]
  },
  {
   "cell_type": "markdown",
   "metadata": {},
   "source": [
    "Creating a basic map from this data is similar to creating a plot from a Pandas DataFrame by using `.plot()`. Below the column name defines what to use for the colours in the map. (We will come back to creating and editing more maps later) "
   ]
  },
  {
   "cell_type": "code",
   "execution_count": 3,
   "metadata": {},
   "outputs": [
    {
     "data": {
      "image/png": "[encoded data removed]",
      "text/plain": [
       "<Figure size 432x288 with 1 Axes>"
      ]
     },
     "metadata": {
      "needs_background": "light"
     },
     "output_type": "display_data"
    }
   ],
   "source": [
    "cities.plot(column='population');"
   ]
  },
  {
   "cell_type": "markdown",
   "metadata": {},
   "source": [
    "As `cities` is still a DataFrame you can apply the same data manipulations, for instance:"
   ]
  },
  {
   "cell_type": "code",
   "execution_count": 4,
   "metadata": {},
   "outputs": [
    {
     "data": {
      "text/plain": [
       "3553773.6"
      ]
     },
     "execution_count": 4,
     "metadata": {},
     "output_type": "execute_result"
    }
   ],
   "source": [
    "cities['population'].mean()"
   ]
  },
  {
   "cell_type": "code",
   "execution_count": 6,
   "metadata": {},
   "outputs": [
    {
     "data": {
      "text/plain": [
       "368.5"
      ]
     },
     "execution_count": 6,
     "metadata": {},
     "output_type": "execute_result"
    }
   ],
   "source": [
    "cities['area'].min()"
   ]
  },
  {
   "cell_type": "code",
   "execution_count": 7,
   "metadata": {},
   "outputs": [
    {
     "data": {
      "text/html": [
       "<div>\n",
       "<style scoped>\n",
       "    .dataframe tbody tr th:only-of-type {\n",
       "        vertical-align: middle;\n",
       "    }\n",
       "\n",
       "    .dataframe tbody tr th {\n",
       "        vertical-align: top;\n",
       "    }\n",
       "\n",
       "    .dataframe thead th {\n",
       "        text-align: right;\n",
       "    }\n",
       "</style>\n",
       "<table border=\"1\" class=\"dataframe\">\n",
       "  <thead>\n",
       "    <tr style=\"text-align: right;\">\n",
       "      <th></th>\n",
       "      <th>city</th>\n",
       "      <th>population</th>\n",
       "      <th>area</th>\n",
       "      <th>latitude</th>\n",
       "      <th>longitude</th>\n",
       "      <th>geometry</th>\n",
       "      <th>density</th>\n",
       "    </tr>\n",
       "  </thead>\n",
       "  <tbody>\n",
       "    <tr>\n",
       "      <th>0</th>\n",
       "      <td>London</td>\n",
       "      <td>9787426</td>\n",
       "      <td>1737.9</td>\n",
       "      <td>51.50853</td>\n",
       "      <td>-0.12574</td>\n",
       "      <td>POINT (-0.12574 51.50853)</td>\n",
       "      <td>5631.754416</td>\n",
       "    </tr>\n",
       "    <tr>\n",
       "      <th>1</th>\n",
       "      <td>Manchester</td>\n",
       "      <td>2553379</td>\n",
       "      <td>630.3</td>\n",
       "      <td>53.48095</td>\n",
       "      <td>-2.23743</td>\n",
       "      <td>POINT (-2.23743 53.48095)</td>\n",
       "      <td>4051.053467</td>\n",
       "    </tr>\n",
       "    <tr>\n",
       "      <th>2</th>\n",
       "      <td>Birmingham</td>\n",
       "      <td>2440986</td>\n",
       "      <td>598.9</td>\n",
       "      <td>52.48142</td>\n",
       "      <td>-1.89983</td>\n",
       "      <td>POINT (-1.89983 52.48142)</td>\n",
       "      <td>4075.782267</td>\n",
       "    </tr>\n",
       "    <tr>\n",
       "      <th>3</th>\n",
       "      <td>Leeds</td>\n",
       "      <td>1777934</td>\n",
       "      <td>487.8</td>\n",
       "      <td>53.79648</td>\n",
       "      <td>-1.54785</td>\n",
       "      <td>POINT (-1.54785 53.79648)</td>\n",
       "      <td>3644.801148</td>\n",
       "    </tr>\n",
       "    <tr>\n",
       "      <th>4</th>\n",
       "      <td>Glasgow</td>\n",
       "      <td>1209143</td>\n",
       "      <td>368.5</td>\n",
       "      <td>55.86515</td>\n",
       "      <td>-4.25763</td>\n",
       "      <td>POINT (-4.25763 55.86515)</td>\n",
       "      <td>3281.256445</td>\n",
       "    </tr>\n",
       "  </tbody>\n",
       "</table>\n",
       "</div>"
      ],
      "text/plain": [
       "         city  population    area  latitude  longitude  \\\n",
       "0      London     9787426  1737.9  51.50853   -0.12574   \n",
       "1  Manchester     2553379   630.3  53.48095   -2.23743   \n",
       "2  Birmingham     2440986   598.9  52.48142   -1.89983   \n",
       "3       Leeds     1777934   487.8  53.79648   -1.54785   \n",
       "4     Glasgow     1209143   368.5  55.86515   -4.25763   \n",
       "\n",
       "                    geometry      density  \n",
       "0  POINT (-0.12574 51.50853)  5631.754416  \n",
       "1  POINT (-2.23743 53.48095)  4051.053467  \n",
       "2  POINT (-1.89983 52.48142)  4075.782267  \n",
       "3  POINT (-1.54785 53.79648)  3644.801148  \n",
       "4  POINT (-4.25763 55.86515)  3281.256445  "
      ]
     },
     "execution_count": 7,
     "metadata": {},
     "output_type": "execute_result"
    }
   ],
   "source": [
    "cities['density'] = cities['population']/cities['area']\n",
    "cities"
   ]
  },
  {
   "cell_type": "markdown",
   "metadata": {},
   "source": [
    "But there are additional methods you can use (from the [geopandas documentation](http://geopandas.org/data_structures.html#overview-of-attributes-and-methods)):\n",
    "\n",
    "### Attributes\n",
    "* `area`: shape area\n",
    "* `bounds`: tuple of max and min coordinates on each axis for each shape\n",
    "* `total_bounds`: tuple of max and min coordinates on each axis for entire GeoSeries\n",
    "* `geom_type`: type of geometry\n",
    "* `is_valid`: tests if coordinates make a shape that is reasonable geometric shape\n",
    "\n",
    "### Basic Methods\n",
    "* `distance(other)`: returns Series with minimum distance from each entry to other\n",
    "* `centroid`: returns GeoSeries of centroids\n",
    "* `representative_point()`: returns GeoSeries of points that are guaranteed to be within each geometry. It does NOT return centroids\n",
    "* `to_crs()`: change coordinate reference system\n",
    "* `plot()`: plot GeoSeries\n",
    "\n",
    "### Relationship Tests\n",
    "* `geom_almost_equals(other)`: is shape almost the same as other (good when floating point precision issues make shapes slightly different)\n",
    "* `contains(other)`: is shape contained within other\n",
    "* `intersects(other)`: does shape intersect other\n",
    "\n",
    "\n",
    "We can explore a few of these with the cities data:"
   ]
  },
  {
   "cell_type": "code",
   "execution_count": 9,
   "metadata": {},
   "outputs": [
    {
     "data": {
      "text/plain": [
       "0    1737.9\n",
       "1     630.3\n",
       "2     598.9\n",
       "3     487.8\n",
       "4     368.5\n",
       "Name: area, dtype: float64"
      ]
     },
     "execution_count": 9,
     "metadata": {},
     "output_type": "execute_result"
    }
   ],
   "source": [
    "cities['area']"
   ]
  },
  {
   "cell_type": "code",
   "execution_count": 10,
   "metadata": {},
   "outputs": [
    {
     "data": {
      "text/plain": [
       "array([-4.25763, 51.50853, -0.12574, 55.86515])"
      ]
     },
     "execution_count": 10,
     "metadata": {},
     "output_type": "execute_result"
    }
   ],
   "source": [
    "cities.total_bounds"
   ]
  },
  {
   "cell_type": "code",
   "execution_count": 11,
   "metadata": {},
   "outputs": [
    {
     "data": {
      "text/plain": [
       "0    Point\n",
       "1    Point\n",
       "2    Point\n",
       "3    Point\n",
       "4    Point\n",
       "dtype: object"
      ]
     },
     "execution_count": 11,
     "metadata": {},
     "output_type": "execute_result"
    }
   ],
   "source": [
    "cities.geom_type"
   ]
  },
  {
   "cell_type": "code",
   "execution_count": 12,
   "metadata": {},
   "outputs": [
    {
     "data": {
      "text/plain": [
       "0    0.000000\n",
       "1    2.889580\n",
       "2    2.023341\n",
       "3    2.693903\n",
       "4    6.004386\n",
       "dtype: float64"
      ]
     },
     "execution_count": 12,
     "metadata": {},
     "output_type": "execute_result"
    }
   ],
   "source": [
    "cities.distance(cities.geometry[0])"
   ]
  },
  {
   "cell_type": "markdown",
   "metadata": {},
   "source": [
    "For the other attributes and methods we need some more data. \n",
    "\n",
    "* A line between 2 cities by squeezing out the geometry and then creating a LineString\n",
    "* Circles around the cities by adding a buffer around the points"
   ]
  },
  {
   "cell_type": "code",
   "execution_count": 13,
   "metadata": {},
   "outputs": [
    {
     "data": {
      "image/png": "[encoded data removed]",
      "text/plain": [
       "<Figure size 432x288 with 1 Axes>"
      ]
     },
     "metadata": {
      "needs_background": "light"
     },
     "output_type": "display_data"
    }
   ],
   "source": [
    "london = cities.loc[cities['city'] == 'London', 'geometry'].squeeze()\n",
    "manchester = cities.loc[cities['city'] == 'Manchester', 'geometry'].squeeze()\n",
    "\n",
    "line = gpd.GeoSeries(LineString([london, manchester]))\n",
    "line.plot();"
   ]
  },
  {
   "cell_type": "code",
   "execution_count": 14,
   "metadata": {},
   "outputs": [
    {
     "data": {
      "text/html": [
       "<div>\n",
       "<style scoped>\n",
       "    .dataframe tbody tr th:only-of-type {\n",
       "        vertical-align: middle;\n",
       "    }\n",
       "\n",
       "    .dataframe tbody tr th {\n",
       "        vertical-align: top;\n",
       "    }\n",
       "\n",
       "    .dataframe thead th {\n",
       "        text-align: right;\n",
       "    }\n",
       "</style>\n",
       "<table border=\"1\" class=\"dataframe\">\n",
       "  <thead>\n",
       "    <tr style=\"text-align: right;\">\n",
       "      <th></th>\n",
       "      <th>city</th>\n",
       "      <th>population</th>\n",
       "      <th>area</th>\n",
       "      <th>latitude</th>\n",
       "      <th>longitude</th>\n",
       "      <th>geometry</th>\n",
       "      <th>density</th>\n",
       "    </tr>\n",
       "  </thead>\n",
       "  <tbody>\n",
       "    <tr>\n",
       "      <th>0</th>\n",
       "      <td>London</td>\n",
       "      <td>9787426</td>\n",
       "      <td>1737.9</td>\n",
       "      <td>51.50853</td>\n",
       "      <td>-0.12574</td>\n",
       "      <td>POLYGON ((0.87426 51.50853, 0.869444726672197 ...</td>\n",
       "      <td>5631.754416</td>\n",
       "    </tr>\n",
       "    <tr>\n",
       "      <th>3</th>\n",
       "      <td>Leeds</td>\n",
       "      <td>1777934</td>\n",
       "      <td>487.8</td>\n",
       "      <td>53.79648</td>\n",
       "      <td>-1.54785</td>\n",
       "      <td>POLYGON ((-0.5478499999999999 53.79648, -0.552...</td>\n",
       "      <td>3644.801148</td>\n",
       "    </tr>\n",
       "    <tr>\n",
       "      <th>4</th>\n",
       "      <td>Glasgow</td>\n",
       "      <td>1209143</td>\n",
       "      <td>368.5</td>\n",
       "      <td>55.86515</td>\n",
       "      <td>-4.25763</td>\n",
       "      <td>POLYGON ((-3.25763 55.86515, -3.26244527332780...</td>\n",
       "      <td>3281.256445</td>\n",
       "    </tr>\n",
       "  </tbody>\n",
       "</table>\n",
       "</div>"
      ],
      "text/plain": [
       "      city  population    area  latitude  longitude  \\\n",
       "0   London     9787426  1737.9  51.50853   -0.12574   \n",
       "3    Leeds     1777934   487.8  53.79648   -1.54785   \n",
       "4  Glasgow     1209143   368.5  55.86515   -4.25763   \n",
       "\n",
       "                                            geometry      density  \n",
       "0  POLYGON ((0.87426 51.50853, 0.869444726672197 ...  5631.754416  \n",
       "3  POLYGON ((-0.5478499999999999 53.79648, -0.552...  3644.801148  \n",
       "4  POLYGON ((-3.25763 55.86515, -3.26244527332780...  3281.256445  "
      ]
     },
     "execution_count": 14,
     "metadata": {},
     "output_type": "execute_result"
    }
   ],
   "source": [
    "cities2 = cities.copy()\n",
    "cities2['geometry'] = cities2.buffer(1)\n",
    "cities2 = cities2.drop([1, 2])\n",
    "cities2.head()"
   ]
  },
  {
   "cell_type": "code",
   "execution_count": 15,
   "metadata": {},
   "outputs": [
    {
     "data": {
      "image/png": "[encoded data removed]",
      "text/plain": [
       "<Figure size 432x288 with 1 Axes>"
      ]
     },
     "metadata": {
      "needs_background": "light"
     },
     "output_type": "display_data"
    }
   ],
   "source": [
    "cities2.plot();"
   ]
  },
  {
   "cell_type": "markdown",
   "metadata": {},
   "source": [
    "And plot all of them together:"
   ]
  },
  {
   "cell_type": "code",
   "execution_count": 16,
   "metadata": {},
   "outputs": [
    {
     "data": {
      "image/png": "[encoded data removed]",
      "text/plain": [
       "<Figure size 432x288 with 1 Axes>"
      ]
     },
     "metadata": {
      "needs_background": "light"
     },
     "output_type": "display_data"
    }
   ],
   "source": [
    "base = cities2.plot(color='lightblue', edgecolor='black')\n",
    "cities.plot(ax=base, marker='o', color='red', markersize=10);\n",
    "line.plot(ax=base);"
   ]
  },
  {
   "cell_type": "markdown",
   "metadata": {},
   "source": [
    "Polygons can be of any shape as you will see later in the workshop, using circles here as a quick example. \n",
    "\n",
    "Polygons can contain holes. Let's subtract a small circle from three larger ones to see what that looks like:"
   ]
  },
  {
   "cell_type": "code",
   "execution_count": 17,
   "metadata": {},
   "outputs": [
    {
     "data": {
      "image/png": "[encoded data removed]",
      "text/plain": [
       "<Figure size 432x288 with 1 Axes>"
      ]
     },
     "metadata": {
      "needs_background": "light"
     },
     "output_type": "display_data"
    }
   ],
   "source": [
    "cities3 = cities.copy()\n",
    "cities3['geometry'] = cities3.buffer(2)\n",
    "cities3 = cities3.drop([1, 2])\n",
    "\n",
    "gpd.overlay(cities3, cities2, how='difference').plot();"
   ]
  },
  {
   "cell_type": "markdown",
   "metadata": {},
   "source": [
    "With these new shapes let's explore some more methods:"
   ]
  },
  {
   "cell_type": "code",
   "execution_count": 18,
   "metadata": {},
   "outputs": [
    {
     "data": {
      "text/plain": [
       "0    3.136548\n",
       "3    3.136548\n",
       "4    3.136548\n",
       "dtype: float64"
      ]
     },
     "execution_count": 18,
     "metadata": {},
     "output_type": "execute_result"
    }
   ],
   "source": [
    "cities2.area"
   ]
  },
  {
   "cell_type": "code",
   "execution_count": 19,
   "metadata": {},
   "outputs": [
    {
     "data": {
      "text/html": [
       "<div>\n",
       "<style scoped>\n",
       "    .dataframe tbody tr th:only-of-type {\n",
       "        vertical-align: middle;\n",
       "    }\n",
       "\n",
       "    .dataframe tbody tr th {\n",
       "        vertical-align: top;\n",
       "    }\n",
       "\n",
       "    .dataframe thead th {\n",
       "        text-align: right;\n",
       "    }\n",
       "</style>\n",
       "<table border=\"1\" class=\"dataframe\">\n",
       "  <thead>\n",
       "    <tr style=\"text-align: right;\">\n",
       "      <th></th>\n",
       "      <th>minx</th>\n",
       "      <th>miny</th>\n",
       "      <th>maxx</th>\n",
       "      <th>maxy</th>\n",
       "    </tr>\n",
       "  </thead>\n",
       "  <tbody>\n",
       "    <tr>\n",
       "      <th>0</th>\n",
       "      <td>-1.12574</td>\n",
       "      <td>50.50853</td>\n",
       "      <td>0.87426</td>\n",
       "      <td>52.50853</td>\n",
       "    </tr>\n",
       "    <tr>\n",
       "      <th>3</th>\n",
       "      <td>-2.54785</td>\n",
       "      <td>52.79648</td>\n",
       "      <td>-0.54785</td>\n",
       "      <td>54.79648</td>\n",
       "    </tr>\n",
       "    <tr>\n",
       "      <th>4</th>\n",
       "      <td>-5.25763</td>\n",
       "      <td>54.86515</td>\n",
       "      <td>-3.25763</td>\n",
       "      <td>56.86515</td>\n",
       "    </tr>\n",
       "  </tbody>\n",
       "</table>\n",
       "</div>"
      ],
      "text/plain": [
       "      minx      miny     maxx      maxy\n",
       "0 -1.12574  50.50853  0.87426  52.50853\n",
       "3 -2.54785  52.79648 -0.54785  54.79648\n",
       "4 -5.25763  54.86515 -3.25763  56.86515"
      ]
     },
     "execution_count": 19,
     "metadata": {},
     "output_type": "execute_result"
    }
   ],
   "source": [
    "cities2.bounds"
   ]
  },
  {
   "cell_type": "code",
   "execution_count": 20,
   "metadata": {},
   "outputs": [
    {
     "data": {
      "text/plain": [
       "0    POINT (-0.1257399999999998 51.50853000000002)\n",
       "3              POINT (-1.547849999999999 53.79648)\n",
       "4     POINT (-4.257630000000002 55.86515000000001)\n",
       "dtype: object"
      ]
     },
     "execution_count": 20,
     "metadata": {},
     "output_type": "execute_result"
    }
   ],
   "source": [
    "cities2.centroid"
   ]
  },
  {
   "cell_type": "code",
   "execution_count": 21,
   "metadata": {},
   "outputs": [
    {
     "data": {
      "text/plain": [
       "0    POINT (-0.1257399999999997 51.50853000000001)\n",
       "3               POINT (-1.54785 53.79648000000001)\n",
       "4               POINT (-4.25763 55.86515000000001)\n",
       "dtype: object"
      ]
     },
     "execution_count": 21,
     "metadata": {},
     "output_type": "execute_result"
    }
   ],
   "source": [
    "cities3.representative_point()"
   ]
  },
  {
   "cell_type": "markdown",
   "metadata": {},
   "source": [
    "<a id=\"spatial\"></a>\n",
    "## 2. Spatial relationships\n",
    "\n",
    "What can you do with geospatial relationships?  \n",
    "\n",
    "There are several functions to check geospatial relationships between geometries: `equals`, `contains`, `crosses`, `disjoint`,`intersects`,`overlaps`,`touches`,`within` and `covers`. These all use the `shapely` package about which you can read more [here](https://shapely.readthedocs.io/en/stable/manual.html#predicates-and-relationships) and some more background on spatial relationships [here](https://en.wikipedia.org/wiki/Spatial_relation).\n",
    "\n",
    "A few examples:"
   ]
  },
  {
   "cell_type": "code",
   "execution_count": 22,
   "metadata": {},
   "outputs": [
    {
     "data": {
      "text/plain": [
       "0     True\n",
       "3    False\n",
       "4    False\n",
       "dtype: bool"
      ]
     },
     "execution_count": 22,
     "metadata": {},
     "output_type": "execute_result"
    }
   ],
   "source": [
    "cities2.contains(cities.geometry[0])"
   ]
  },
  {
   "cell_type": "code",
   "execution_count": 23,
   "metadata": {},
   "outputs": [
    {
     "data": {
      "text/plain": [
       "0     True\n",
       "3    False\n",
       "4    False\n",
       "dtype: bool"
      ]
     },
     "execution_count": 23,
     "metadata": {},
     "output_type": "execute_result"
    }
   ],
   "source": [
    "cities2.contains(london)"
   ]
  },
  {
   "cell_type": "code",
   "execution_count": 24,
   "metadata": {},
   "outputs": [
    {
     "data": {
      "text/html": [
       "<div>\n",
       "<style scoped>\n",
       "    .dataframe tbody tr th:only-of-type {\n",
       "        vertical-align: middle;\n",
       "    }\n",
       "\n",
       "    .dataframe tbody tr th {\n",
       "        vertical-align: top;\n",
       "    }\n",
       "\n",
       "    .dataframe thead th {\n",
       "        text-align: right;\n",
       "    }\n",
       "</style>\n",
       "<table border=\"1\" class=\"dataframe\">\n",
       "  <thead>\n",
       "    <tr style=\"text-align: right;\">\n",
       "      <th></th>\n",
       "      <th>city</th>\n",
       "      <th>population</th>\n",
       "      <th>area</th>\n",
       "      <th>latitude</th>\n",
       "      <th>longitude</th>\n",
       "      <th>geometry</th>\n",
       "      <th>density</th>\n",
       "    </tr>\n",
       "  </thead>\n",
       "  <tbody>\n",
       "    <tr>\n",
       "      <th>0</th>\n",
       "      <td>London</td>\n",
       "      <td>9787426</td>\n",
       "      <td>1737.9</td>\n",
       "      <td>51.50853</td>\n",
       "      <td>-0.12574</td>\n",
       "      <td>POLYGON ((0.87426 51.50853, 0.869444726672197 ...</td>\n",
       "      <td>5631.754416</td>\n",
       "    </tr>\n",
       "  </tbody>\n",
       "</table>\n",
       "</div>"
      ],
      "text/plain": [
       "     city  population    area  latitude  longitude  \\\n",
       "0  London     9787426  1737.9  51.50853   -0.12574   \n",
       "\n",
       "                                            geometry      density  \n",
       "0  POLYGON ((0.87426 51.50853, 0.869444726672197 ...  5631.754416  "
      ]
     },
     "execution_count": 24,
     "metadata": {},
     "output_type": "execute_result"
    }
   ],
   "source": [
    "cities2[cities2.contains(london)]"
   ]
  },
  {
   "cell_type": "code",
   "execution_count": 25,
   "metadata": {},
   "outputs": [
    {
     "data": {
      "text/html": [
       "<div>\n",
       "<style scoped>\n",
       "    .dataframe tbody tr th:only-of-type {\n",
       "        vertical-align: middle;\n",
       "    }\n",
       "\n",
       "    .dataframe tbody tr th {\n",
       "        vertical-align: top;\n",
       "    }\n",
       "\n",
       "    .dataframe thead th {\n",
       "        text-align: right;\n",
       "    }\n",
       "</style>\n",
       "<table border=\"1\" class=\"dataframe\">\n",
       "  <thead>\n",
       "    <tr style=\"text-align: right;\">\n",
       "      <th></th>\n",
       "      <th>city</th>\n",
       "      <th>population</th>\n",
       "      <th>area</th>\n",
       "      <th>latitude</th>\n",
       "      <th>longitude</th>\n",
       "      <th>geometry</th>\n",
       "      <th>density</th>\n",
       "    </tr>\n",
       "  </thead>\n",
       "  <tbody>\n",
       "    <tr>\n",
       "      <th>3</th>\n",
       "      <td>Leeds</td>\n",
       "      <td>1777934</td>\n",
       "      <td>487.8</td>\n",
       "      <td>53.79648</td>\n",
       "      <td>-1.54785</td>\n",
       "      <td>POLYGON ((-0.5478499999999999 53.79648, -0.552...</td>\n",
       "      <td>3644.801148</td>\n",
       "    </tr>\n",
       "  </tbody>\n",
       "</table>\n",
       "</div>"
      ],
      "text/plain": [
       "    city  population   area  latitude  longitude  \\\n",
       "3  Leeds     1777934  487.8  53.79648   -1.54785   \n",
       "\n",
       "                                            geometry      density  \n",
       "3  POLYGON ((-0.5478499999999999 53.79648, -0.552...  3644.801148  "
      ]
     },
     "execution_count": 25,
     "metadata": {},
     "output_type": "execute_result"
    }
   ],
   "source": [
    "cities2[cities2.contains(manchester)]"
   ]
  },
  {
   "cell_type": "markdown",
   "metadata": {},
   "source": [
    "The inverse of `contains`:"
   ]
  },
  {
   "cell_type": "code",
   "execution_count": 26,
   "metadata": {},
   "outputs": [
    {
     "data": {
      "text/html": [
       "<div>\n",
       "<style scoped>\n",
       "    .dataframe tbody tr th:only-of-type {\n",
       "        vertical-align: middle;\n",
       "    }\n",
       "\n",
       "    .dataframe tbody tr th {\n",
       "        vertical-align: top;\n",
       "    }\n",
       "\n",
       "    .dataframe thead th {\n",
       "        text-align: right;\n",
       "    }\n",
       "</style>\n",
       "<table border=\"1\" class=\"dataframe\">\n",
       "  <thead>\n",
       "    <tr style=\"text-align: right;\">\n",
       "      <th></th>\n",
       "      <th>city</th>\n",
       "      <th>population</th>\n",
       "      <th>area</th>\n",
       "      <th>latitude</th>\n",
       "      <th>longitude</th>\n",
       "      <th>geometry</th>\n",
       "      <th>density</th>\n",
       "    </tr>\n",
       "  </thead>\n",
       "  <tbody>\n",
       "    <tr>\n",
       "      <th>0</th>\n",
       "      <td>London</td>\n",
       "      <td>9787426</td>\n",
       "      <td>1737.9</td>\n",
       "      <td>51.50853</td>\n",
       "      <td>-0.12574</td>\n",
       "      <td>POINT (-0.12574 51.50853)</td>\n",
       "      <td>5631.754416</td>\n",
       "    </tr>\n",
       "    <tr>\n",
       "      <th>3</th>\n",
       "      <td>Leeds</td>\n",
       "      <td>1777934</td>\n",
       "      <td>487.8</td>\n",
       "      <td>53.79648</td>\n",
       "      <td>-1.54785</td>\n",
       "      <td>POINT (-1.54785 53.79648)</td>\n",
       "      <td>3644.801148</td>\n",
       "    </tr>\n",
       "    <tr>\n",
       "      <th>4</th>\n",
       "      <td>Glasgow</td>\n",
       "      <td>1209143</td>\n",
       "      <td>368.5</td>\n",
       "      <td>55.86515</td>\n",
       "      <td>-4.25763</td>\n",
       "      <td>POINT (-4.25763 55.86515)</td>\n",
       "      <td>3281.256445</td>\n",
       "    </tr>\n",
       "  </tbody>\n",
       "</table>\n",
       "</div>"
      ],
      "text/plain": [
       "      city  population    area  latitude  longitude  \\\n",
       "0   London     9787426  1737.9  51.50853   -0.12574   \n",
       "3    Leeds     1777934   487.8  53.79648   -1.54785   \n",
       "4  Glasgow     1209143   368.5  55.86515   -4.25763   \n",
       "\n",
       "                    geometry      density  \n",
       "0  POINT (-0.12574 51.50853)  5631.754416  \n",
       "3  POINT (-1.54785 53.79648)  3644.801148  \n",
       "4  POINT (-4.25763 55.86515)  3281.256445  "
      ]
     },
     "execution_count": 26,
     "metadata": {},
     "output_type": "execute_result"
    }
   ],
   "source": [
    "cities[cities.within(cities2)]"
   ]
  },
  {
   "cell_type": "code",
   "execution_count": 27,
   "metadata": {},
   "outputs": [
    {
     "data": {
      "text/plain": [
       "0     True\n",
       "3    False\n",
       "4    False\n",
       "dtype: bool"
      ]
     },
     "execution_count": 27,
     "metadata": {},
     "output_type": "execute_result"
    }
   ],
   "source": [
    "cities2.intersects(line)"
   ]
  },
  {
   "cell_type": "code",
   "execution_count": 28,
   "metadata": {},
   "outputs": [
    {
     "data": {
      "text/html": [
       "<div>\n",
       "<style scoped>\n",
       "    .dataframe tbody tr th:only-of-type {\n",
       "        vertical-align: middle;\n",
       "    }\n",
       "\n",
       "    .dataframe tbody tr th {\n",
       "        vertical-align: top;\n",
       "    }\n",
       "\n",
       "    .dataframe thead th {\n",
       "        text-align: right;\n",
       "    }\n",
       "</style>\n",
       "<table border=\"1\" class=\"dataframe\">\n",
       "  <thead>\n",
       "    <tr style=\"text-align: right;\">\n",
       "      <th></th>\n",
       "      <th>city</th>\n",
       "      <th>population</th>\n",
       "      <th>area</th>\n",
       "      <th>latitude</th>\n",
       "      <th>longitude</th>\n",
       "      <th>geometry</th>\n",
       "      <th>density</th>\n",
       "    </tr>\n",
       "  </thead>\n",
       "  <tbody>\n",
       "    <tr>\n",
       "      <th>0</th>\n",
       "      <td>London</td>\n",
       "      <td>9787426</td>\n",
       "      <td>1737.9</td>\n",
       "      <td>51.50853</td>\n",
       "      <td>-0.12574</td>\n",
       "      <td>POLYGON ((0.87426 51.50853, 0.869444726672197 ...</td>\n",
       "      <td>5631.754416</td>\n",
       "    </tr>\n",
       "  </tbody>\n",
       "</table>\n",
       "</div>"
      ],
      "text/plain": [
       "     city  population    area  latitude  longitude  \\\n",
       "0  London     9787426  1737.9  51.50853   -0.12574   \n",
       "\n",
       "                                            geometry      density  \n",
       "0  POLYGON ((0.87426 51.50853, 0.869444726672197 ...  5631.754416  "
      ]
     },
     "execution_count": 28,
     "metadata": {},
     "output_type": "execute_result"
    }
   ],
   "source": [
    "cities2[cities2.crosses(line)]"
   ]
  },
  {
   "cell_type": "code",
   "execution_count": 29,
   "metadata": {},
   "outputs": [
    {
     "data": {
      "text/html": [
       "<div>\n",
       "<style scoped>\n",
       "    .dataframe tbody tr th:only-of-type {\n",
       "        vertical-align: middle;\n",
       "    }\n",
       "\n",
       "    .dataframe tbody tr th {\n",
       "        vertical-align: top;\n",
       "    }\n",
       "\n",
       "    .dataframe thead th {\n",
       "        text-align: right;\n",
       "    }\n",
       "</style>\n",
       "<table border=\"1\" class=\"dataframe\">\n",
       "  <thead>\n",
       "    <tr style=\"text-align: right;\">\n",
       "      <th></th>\n",
       "      <th>city</th>\n",
       "      <th>population</th>\n",
       "      <th>area</th>\n",
       "      <th>latitude</th>\n",
       "      <th>longitude</th>\n",
       "      <th>geometry</th>\n",
       "      <th>density</th>\n",
       "    </tr>\n",
       "  </thead>\n",
       "  <tbody>\n",
       "    <tr>\n",
       "      <th>3</th>\n",
       "      <td>Leeds</td>\n",
       "      <td>1777934</td>\n",
       "      <td>487.8</td>\n",
       "      <td>53.79648</td>\n",
       "      <td>-1.54785</td>\n",
       "      <td>POLYGON ((-0.5478499999999999 53.79648, -0.552...</td>\n",
       "      <td>3644.801148</td>\n",
       "    </tr>\n",
       "    <tr>\n",
       "      <th>4</th>\n",
       "      <td>Glasgow</td>\n",
       "      <td>1209143</td>\n",
       "      <td>368.5</td>\n",
       "      <td>55.86515</td>\n",
       "      <td>-4.25763</td>\n",
       "      <td>POLYGON ((-3.25763 55.86515, -3.26244527332780...</td>\n",
       "      <td>3281.256445</td>\n",
       "    </tr>\n",
       "  </tbody>\n",
       "</table>\n",
       "</div>"
      ],
      "text/plain": [
       "      city  population   area  latitude  longitude  \\\n",
       "3    Leeds     1777934  487.8  53.79648   -1.54785   \n",
       "4  Glasgow     1209143  368.5  55.86515   -4.25763   \n",
       "\n",
       "                                            geometry      density  \n",
       "3  POLYGON ((-0.5478499999999999 53.79648, -0.552...  3644.801148  \n",
       "4  POLYGON ((-3.25763 55.86515, -3.26244527332780...  3281.256445  "
      ]
     },
     "execution_count": 29,
     "metadata": {},
     "output_type": "execute_result"
    }
   ],
   "source": [
    "cities2[cities2.disjoint(london)]"
   ]
  },
  {
   "cell_type": "markdown",
   "metadata": {},
   "source": [
    "<a id=\"boroughs\"></a>\n",
    "## 3. London boroughs\n",
    "\n",
    "<a id=\"load1\"></a>\n",
    "### 3.1 Load geospatial data\n",
    "\n",
    "Geospatial data comes in many formats, but with GeoPandas you can read most files with just one command. For example this geojson file with the London boroughs: "
   ]
  },
  {
   "cell_type": "code",
   "execution_count": 30,
   "metadata": {},
   "outputs": [
    {
     "data": {
      "text/html": [
       "<div>\n",
       "<style scoped>\n",
       "    .dataframe tbody tr th:only-of-type {\n",
       "        vertical-align: middle;\n",
       "    }\n",
       "\n",
       "    .dataframe tbody tr th {\n",
       "        vertical-align: top;\n",
       "    }\n",
       "\n",
       "    .dataframe thead th {\n",
       "        text-align: right;\n",
       "    }\n",
       "</style>\n",
       "<table border=\"1\" class=\"dataframe\">\n",
       "  <thead>\n",
       "    <tr style=\"text-align: right;\">\n",
       "      <th></th>\n",
       "      <th>id</th>\n",
       "      <th>name</th>\n",
       "      <th>code</th>\n",
       "      <th>area_hectares</th>\n",
       "      <th>inner_statistical</th>\n",
       "      <th>geometry</th>\n",
       "    </tr>\n",
       "  </thead>\n",
       "  <tbody>\n",
       "    <tr>\n",
       "      <th>0</th>\n",
       "      <td>1</td>\n",
       "      <td>Kingston upon Thames</td>\n",
       "      <td>E09000021</td>\n",
       "      <td>3726.117</td>\n",
       "      <td>0</td>\n",
       "      <td>(POLYGON ((-0.330679062942453 51.3290110106029...</td>\n",
       "    </tr>\n",
       "    <tr>\n",
       "      <th>1</th>\n",
       "      <td>2</td>\n",
       "      <td>Croydon</td>\n",
       "      <td>E09000008</td>\n",
       "      <td>8649.441</td>\n",
       "      <td>0</td>\n",
       "      <td>(POLYGON ((-0.064021239620113 51.3186376598749...</td>\n",
       "    </tr>\n",
       "    <tr>\n",
       "      <th>2</th>\n",
       "      <td>3</td>\n",
       "      <td>Bromley</td>\n",
       "      <td>E09000006</td>\n",
       "      <td>15013.487</td>\n",
       "      <td>0</td>\n",
       "      <td>(POLYGON ((0.012130938509177 51.2995990596564,...</td>\n",
       "    </tr>\n",
       "    <tr>\n",
       "      <th>3</th>\n",
       "      <td>4</td>\n",
       "      <td>Hounslow</td>\n",
       "      <td>E09000018</td>\n",
       "      <td>5658.541</td>\n",
       "      <td>0</td>\n",
       "      <td>(POLYGON ((-0.244562394525054 51.48870217634, ...</td>\n",
       "    </tr>\n",
       "    <tr>\n",
       "      <th>4</th>\n",
       "      <td>5</td>\n",
       "      <td>Ealing</td>\n",
       "      <td>E09000009</td>\n",
       "      <td>5554.428</td>\n",
       "      <td>0</td>\n",
       "      <td>(POLYGON ((-0.411832689731467 51.5340838625761...</td>\n",
       "    </tr>\n",
       "  </tbody>\n",
       "</table>\n",
       "</div>"
      ],
      "text/plain": [
       "   id                  name       code  area_hectares  inner_statistical  \\\n",
       "0   1  Kingston upon Thames  E09000021       3726.117                  0   \n",
       "1   2               Croydon  E09000008       8649.441                  0   \n",
       "2   3               Bromley  E09000006      15013.487                  0   \n",
       "3   4              Hounslow  E09000018       5658.541                  0   \n",
       "4   5                Ealing  E09000009       5554.428                  0   \n",
       "\n",
       "                                            geometry  \n",
       "0  (POLYGON ((-0.330679062942453 51.3290110106029...  \n",
       "1  (POLYGON ((-0.064021239620113 51.3186376598749...  \n",
       "2  (POLYGON ((0.012130938509177 51.2995990596564,...  \n",
       "3  (POLYGON ((-0.244562394525054 51.48870217634, ...  \n",
       "4  (POLYGON ((-0.411832689731467 51.5340838625761...  "
      ]
     },
     "execution_count": 30,
     "metadata": {},
     "output_type": "execute_result"
    }
   ],
   "source": [
    "# load data from a url\n",
    "boroughs = gpd.read_file(\"https://skgrange.github.io/www/data/london_boroughs.json\")\n",
    "boroughs.head()"
   ]
  },
  {
   "cell_type": "markdown",
   "metadata": {},
   "source": [
    "<a id=\"explore1\"></a>\n",
    "### 3.2 Explore  data"
   ]
  },
  {
   "cell_type": "code",
   "execution_count": 31,
   "metadata": {},
   "outputs": [
    {
     "data": {
      "image/png": "[encoded data removed]",
      "text/plain": [
       "<Figure size 432x288 with 1 Axes>"
      ]
     },
     "metadata": {
      "needs_background": "light"
     },
     "output_type": "display_data"
    }
   ],
   "source": [
    "boroughs.plot();"
   ]
  },
  {
   "cell_type": "markdown",
   "metadata": {},
   "source": [
    "Adding a column will colour the map based on the classes in this column:"
   ]
  },
  {
   "cell_type": "code",
   "execution_count": 32,
   "metadata": {},
   "outputs": [
    {
     "data": {
      "image/png": "[encoded data removed]",
      "text/plain": [
       "<Figure size 432x288 with 1 Axes>"
      ]
     },
     "metadata": {
      "needs_background": "light"
     },
     "output_type": "display_data"
    }
   ],
   "source": [
    "boroughs.plot(column='code');"
   ]
  },
  {
   "cell_type": "code",
   "execution_count": 33,
   "metadata": {},
   "outputs": [
    {
     "data": {
      "image/png": "[encoded data removed]",
      "text/plain": [
       "<Figure size 432x288 with 1 Axes>"
      ]
     },
     "metadata": {
      "needs_background": "light"
     },
     "output_type": "display_data"
    }
   ],
   "source": [
    "boroughs.plot(column='area_hectares');"
   ]
  },
  {
   "cell_type": "markdown",
   "metadata": {},
   "source": [
    "The boroughs are made up of many districts that you might want to combine. For this example this can be done by adding a new column and then use `.dissolve()`:"
   ]
  },
  {
   "cell_type": "code",
   "execution_count": 34,
   "metadata": {},
   "outputs": [
    {
     "data": {
      "text/html": [
       "<div>\n",
       "<style scoped>\n",
       "    .dataframe tbody tr th:only-of-type {\n",
       "        vertical-align: middle;\n",
       "    }\n",
       "\n",
       "    .dataframe tbody tr th {\n",
       "        vertical-align: top;\n",
       "    }\n",
       "\n",
       "    .dataframe thead th {\n",
       "        text-align: right;\n",
       "    }\n",
       "</style>\n",
       "<table border=\"1\" class=\"dataframe\">\n",
       "  <thead>\n",
       "    <tr style=\"text-align: right;\">\n",
       "      <th></th>\n",
       "      <th>geometry</th>\n",
       "      <th>id</th>\n",
       "      <th>area_hectares</th>\n",
       "      <th>inner_statistical</th>\n",
       "    </tr>\n",
       "    <tr>\n",
       "      <th>all</th>\n",
       "      <th></th>\n",
       "      <th></th>\n",
       "      <th></th>\n",
       "      <th></th>\n",
       "    </tr>\n",
       "  </thead>\n",
       "  <tbody>\n",
       "    <tr>\n",
       "      <th>1</th>\n",
       "      <td>POLYGON ((-0.064021239620113 51.3186376598749,...</td>\n",
       "      <td>561</td>\n",
       "      <td>159469.725</td>\n",
       "      <td>14</td>\n",
       "    </tr>\n",
       "  </tbody>\n",
       "</table>\n",
       "</div>"
      ],
      "text/plain": [
       "                                              geometry   id  area_hectares  \\\n",
       "all                                                                          \n",
       "1    POLYGON ((-0.064021239620113 51.3186376598749,...  561     159469.725   \n",
       "\n",
       "     inner_statistical  \n",
       "all                     \n",
       "1                   14  "
      ]
     },
     "execution_count": 34,
     "metadata": {},
     "output_type": "execute_result"
    }
   ],
   "source": [
    "boroughs['all'] = 1\n",
    "allboroughs = boroughs.dissolve(by='all',aggfunc='sum')\n",
    "allboroughs.head()"
   ]
  },
  {
   "cell_type": "code",
   "execution_count": 35,
   "metadata": {},
   "outputs": [
    {
     "data": {
      "image/png": "[encoded data removed]",
      "text/plain": [
       "<Figure size 432x288 with 1 Axes>"
      ]
     },
     "metadata": {
      "needs_background": "light"
     },
     "output_type": "display_data"
    }
   ],
   "source": [
    "allboroughs.plot();"
   ]
  },
  {
   "cell_type": "markdown",
   "metadata": {},
   "source": [
    "To change the size of the map and remove the box around the map, run the below:"
   ]
  },
  {
   "cell_type": "code",
   "execution_count": 36,
   "metadata": {},
   "outputs": [
    {
     "data": {
      "image/png": "[encoded data removed]",
      "text/plain": [
       "<Figure size 720x432 with 1 Axes>"
      ]
     },
     "metadata": {
      "needs_background": "light"
     },
     "output_type": "display_data"
    }
   ],
   "source": [
    "[fig, ax] = plt.subplots(1, figsize=(10, 6))\n",
    "allboroughs.plot(ax=ax);\n",
    "ax.axis('off');"
   ]
  },
  {
   "cell_type": "markdown",
   "metadata": {},
   "source": [
    "Let's combine the data from the Pandas notebook with the boroughs GeoDataFrame:"
   ]
  },
  {
   "cell_type": "code",
   "execution_count": 37,
   "metadata": {},
   "outputs": [],
   "source": [
    "df = pd.read_csv('../data/london-borough-profiles.csv',encoding = 'unicode_escape')"
   ]
  },
  {
   "cell_type": "markdown",
   "metadata": {},
   "source": [
    "<div class=\"alert alert-danger\" style=\"font-size:100%\">\n",
    "If you are using <b>Watson Studio</b> to run the workshop you will get an error with the above, because you have no local files in the data folder. First store the data in your Cloud Object Store (COS) by adding the files in the menu on the right of the notebook (if you see no menu, click the <b><font face=\"Courier\">1010</font></b> button at the top first) and then load the data by following these steps:\n",
    "\n",
    "<ul>\n",
    "  <li>Activate the below cell, move the cursor to the empty line under  <b><font face=\"Courier\"># add data</font></b></li>\n",
    "  <li>Click on <b><font face=\"Courier\">Insert to code</font></b> under the file from the right menu</li>\n",
    "  <li>Select <b><font face=\"Courier\">Insert pandas DataFrame</font></b></li>\n",
    "  <li>Code to load the file will be inserted</li>\n",
    "  <li>Change the default name of the data from <b><font face=\"Courier\">df_data_1</font></b> to <b><font face=\"Courier\">df</font></b> at the bottom two lines of the inserted code and add <b><font face=\"Courier\">encoding = 'unicode_escape'</font></b> </li>\n",
    "    <li>Then run the cell to load the data and continue with the rest of the notebook</li>\n",
    "  </ul>\n",
    "</div>"
   ]
  },
  {
   "cell_type": "code",
   "execution_count": null,
   "metadata": {},
   "outputs": [],
   "source": [
    "# add data\n"
   ]
  },
  {
   "cell_type": "code",
   "execution_count": 38,
   "metadata": {},
   "outputs": [
    {
     "data": {
      "text/html": [
       "<div>\n",
       "<style scoped>\n",
       "    .dataframe tbody tr th:only-of-type {\n",
       "        vertical-align: middle;\n",
       "    }\n",
       "\n",
       "    .dataframe tbody tr th {\n",
       "        vertical-align: top;\n",
       "    }\n",
       "\n",
       "    .dataframe thead th {\n",
       "        text-align: right;\n",
       "    }\n",
       "</style>\n",
       "<table border=\"1\" class=\"dataframe\">\n",
       "  <thead>\n",
       "    <tr style=\"text-align: right;\">\n",
       "      <th></th>\n",
       "      <th>Code</th>\n",
       "      <th>Area_name</th>\n",
       "      <th>Inner/_Outer_London</th>\n",
       "      <th>GLA_Population_Estimate_2017</th>\n",
       "      <th>GLA_Household_Estimate_2017</th>\n",
       "      <th>Inland_Area_(Hectares)</th>\n",
       "      <th>Population_density_(per_hectare)_2017</th>\n",
       "      <th>Average_Age,_2017</th>\n",
       "      <th>Proportion_of_population_aged_0-15,_2015</th>\n",
       "      <th>Proportion_of_population_of_working-age,_2015</th>\n",
       "      <th>...</th>\n",
       "      <th>Happiness_score_2011-14_(out_of_10)</th>\n",
       "      <th>Anxiety_score_2011-14_(out_of_10)</th>\n",
       "      <th>Childhood_Obesity_Prevalance_(%)_2015/16</th>\n",
       "      <th>People_aged_17+_with_diabetes_(%)</th>\n",
       "      <th>Mortality_rate_from_causes_considered_preventable_2012/14</th>\n",
       "      <th>Political_control_in_council</th>\n",
       "      <th>Proportion_of_seats_won_by_Conservatives_in_2014_election</th>\n",
       "      <th>Proportion_of_seats_won_by_Labour_in_2014_election</th>\n",
       "      <th>Proportion_of_seats_won_by_Lib_Dems_in_2014_election</th>\n",
       "      <th>Turnout_at_2014_local_elections</th>\n",
       "    </tr>\n",
       "  </thead>\n",
       "  <tbody>\n",
       "    <tr>\n",
       "      <th>0</th>\n",
       "      <td>E09000001</td>\n",
       "      <td>City of London</td>\n",
       "      <td>Inner London</td>\n",
       "      <td>8800.0</td>\n",
       "      <td>5326.0</td>\n",
       "      <td>290.0</td>\n",
       "      <td>30.3</td>\n",
       "      <td>43.2</td>\n",
       "      <td>11.4</td>\n",
       "      <td>73.1</td>\n",
       "      <td>...</td>\n",
       "      <td>6.0</td>\n",
       "      <td>5.6</td>\n",
       "      <td>NaN</td>\n",
       "      <td>2.6</td>\n",
       "      <td>129.0</td>\n",
       "      <td>NaN</td>\n",
       "      <td>NaN</td>\n",
       "      <td>NaN</td>\n",
       "      <td>NaN</td>\n",
       "      <td>NaN</td>\n",
       "    </tr>\n",
       "    <tr>\n",
       "      <th>1</th>\n",
       "      <td>E09000002</td>\n",
       "      <td>Barking and Dagenham</td>\n",
       "      <td>Outer London</td>\n",
       "      <td>209000.0</td>\n",
       "      <td>78188.0</td>\n",
       "      <td>3611.0</td>\n",
       "      <td>57.9</td>\n",
       "      <td>32.9</td>\n",
       "      <td>27.2</td>\n",
       "      <td>63.1</td>\n",
       "      <td>...</td>\n",
       "      <td>7.1</td>\n",
       "      <td>3.1</td>\n",
       "      <td>28.5</td>\n",
       "      <td>7.3</td>\n",
       "      <td>228.0</td>\n",
       "      <td>Lab</td>\n",
       "      <td>0.0</td>\n",
       "      <td>100.0</td>\n",
       "      <td>0.0</td>\n",
       "      <td>36.5</td>\n",
       "    </tr>\n",
       "    <tr>\n",
       "      <th>2</th>\n",
       "      <td>E09000003</td>\n",
       "      <td>Barnet</td>\n",
       "      <td>Outer London</td>\n",
       "      <td>389600.0</td>\n",
       "      <td>151423.0</td>\n",
       "      <td>8675.0</td>\n",
       "      <td>44.9</td>\n",
       "      <td>37.3</td>\n",
       "      <td>21.1</td>\n",
       "      <td>64.9</td>\n",
       "      <td>...</td>\n",
       "      <td>7.4</td>\n",
       "      <td>2.8</td>\n",
       "      <td>20.7</td>\n",
       "      <td>6.0</td>\n",
       "      <td>134.0</td>\n",
       "      <td>Cons</td>\n",
       "      <td>50.8</td>\n",
       "      <td>NaN</td>\n",
       "      <td>1.6</td>\n",
       "      <td>40.5</td>\n",
       "    </tr>\n",
       "    <tr>\n",
       "      <th>3</th>\n",
       "      <td>E09000004</td>\n",
       "      <td>Bexley</td>\n",
       "      <td>Outer London</td>\n",
       "      <td>244300.0</td>\n",
       "      <td>97736.0</td>\n",
       "      <td>6058.0</td>\n",
       "      <td>40.3</td>\n",
       "      <td>39.0</td>\n",
       "      <td>20.6</td>\n",
       "      <td>62.9</td>\n",
       "      <td>...</td>\n",
       "      <td>7.2</td>\n",
       "      <td>3.3</td>\n",
       "      <td>22.7</td>\n",
       "      <td>6.9</td>\n",
       "      <td>164.0</td>\n",
       "      <td>Cons</td>\n",
       "      <td>71.4</td>\n",
       "      <td>23.8</td>\n",
       "      <td>0.0</td>\n",
       "      <td>39.6</td>\n",
       "    </tr>\n",
       "    <tr>\n",
       "      <th>4</th>\n",
       "      <td>E09000005</td>\n",
       "      <td>Brent</td>\n",
       "      <td>Outer London</td>\n",
       "      <td>332100.0</td>\n",
       "      <td>121048.0</td>\n",
       "      <td>4323.0</td>\n",
       "      <td>76.8</td>\n",
       "      <td>35.6</td>\n",
       "      <td>20.9</td>\n",
       "      <td>67.8</td>\n",
       "      <td>...</td>\n",
       "      <td>7.2</td>\n",
       "      <td>2.9</td>\n",
       "      <td>24.3</td>\n",
       "      <td>7.9</td>\n",
       "      <td>169.0</td>\n",
       "      <td>Lab</td>\n",
       "      <td>9.5</td>\n",
       "      <td>88.9</td>\n",
       "      <td>1.6</td>\n",
       "      <td>36.3</td>\n",
       "    </tr>\n",
       "  </tbody>\n",
       "</table>\n",
       "<p>5 rows × 84 columns</p>\n",
       "</div>"
      ],
      "text/plain": [
       "        Code             Area_name Inner/_Outer_London  \\\n",
       "0  E09000001        City of London        Inner London   \n",
       "1  E09000002  Barking and Dagenham        Outer London   \n",
       "2  E09000003                Barnet        Outer London   \n",
       "3  E09000004                Bexley        Outer London   \n",
       "4  E09000005                 Brent        Outer London   \n",
       "\n",
       "   GLA_Population_Estimate_2017  GLA_Household_Estimate_2017  \\\n",
       "0                        8800.0                       5326.0   \n",
       "1                      209000.0                      78188.0   \n",
       "2                      389600.0                     151423.0   \n",
       "3                      244300.0                      97736.0   \n",
       "4                      332100.0                     121048.0   \n",
       "\n",
       "   Inland_Area_(Hectares)  Population_density_(per_hectare)_2017  \\\n",
       "0                   290.0                                   30.3   \n",
       "1                  3611.0                                   57.9   \n",
       "2                  8675.0                                   44.9   \n",
       "3                  6058.0                                   40.3   \n",
       "4                  4323.0                                   76.8   \n",
       "\n",
       "   Average_Age,_2017  Proportion_of_population_aged_0-15,_2015  \\\n",
       "0               43.2                                      11.4   \n",
       "1               32.9                                      27.2   \n",
       "2               37.3                                      21.1   \n",
       "3               39.0                                      20.6   \n",
       "4               35.6                                      20.9   \n",
       "\n",
       "   Proportion_of_population_of_working-age,_2015  ...  \\\n",
       "0                                           73.1  ...   \n",
       "1                                           63.1  ...   \n",
       "2                                           64.9  ...   \n",
       "3                                           62.9  ...   \n",
       "4                                           67.8  ...   \n",
       "\n",
       "   Happiness_score_2011-14_(out_of_10)  Anxiety_score_2011-14_(out_of_10)  \\\n",
       "0                                  6.0                                5.6   \n",
       "1                                  7.1                                3.1   \n",
       "2                                  7.4                                2.8   \n",
       "3                                  7.2                                3.3   \n",
       "4                                  7.2                                2.9   \n",
       "\n",
       "   Childhood_Obesity_Prevalance_(%)_2015/16  \\\n",
       "0                                       NaN   \n",
       "1                                      28.5   \n",
       "2                                      20.7   \n",
       "3                                      22.7   \n",
       "4                                      24.3   \n",
       "\n",
       "   People_aged_17+_with_diabetes_(%)  \\\n",
       "0                                2.6   \n",
       "1                                7.3   \n",
       "2                                6.0   \n",
       "3                                6.9   \n",
       "4                                7.9   \n",
       "\n",
       "   Mortality_rate_from_causes_considered_preventable_2012/14  \\\n",
       "0                                              129.0           \n",
       "1                                              228.0           \n",
       "2                                              134.0           \n",
       "3                                              164.0           \n",
       "4                                              169.0           \n",
       "\n",
       "  Political_control_in_council  \\\n",
       "0                          NaN   \n",
       "1                          Lab   \n",
       "2                         Cons   \n",
       "3                         Cons   \n",
       "4                          Lab   \n",
       "\n",
       "   Proportion_of_seats_won_by_Conservatives_in_2014_election  \\\n",
       "0                                                NaN           \n",
       "1                                                0.0           \n",
       "2                                               50.8           \n",
       "3                                               71.4           \n",
       "4                                                9.5           \n",
       "\n",
       "  Proportion_of_seats_won_by_Labour_in_2014_election  \\\n",
       "0                                                NaN   \n",
       "1                                              100.0   \n",
       "2                                                NaN   \n",
       "3                                               23.8   \n",
       "4                                               88.9   \n",
       "\n",
       "   Proportion_of_seats_won_by_Lib_Dems_in_2014_election  \\\n",
       "0                                                NaN      \n",
       "1                                                0.0      \n",
       "2                                                1.6      \n",
       "3                                                0.0      \n",
       "4                                                1.6      \n",
       "\n",
       "  Turnout_at_2014_local_elections  \n",
       "0                             NaN  \n",
       "1                            36.5  \n",
       "2                            40.5  \n",
       "3                            39.6  \n",
       "4                            36.3  \n",
       "\n",
       "[5 rows x 84 columns]"
      ]
     },
     "execution_count": 38,
     "metadata": {},
     "output_type": "execute_result"
    }
   ],
   "source": [
    "df.head()"
   ]
  },
  {
   "cell_type": "code",
   "execution_count": 39,
   "metadata": {},
   "outputs": [
    {
     "data": {
      "text/html": [
       "<div>\n",
       "<style scoped>\n",
       "    .dataframe tbody tr th:only-of-type {\n",
       "        vertical-align: middle;\n",
       "    }\n",
       "\n",
       "    .dataframe tbody tr th {\n",
       "        vertical-align: top;\n",
       "    }\n",
       "\n",
       "    .dataframe thead th {\n",
       "        text-align: right;\n",
       "    }\n",
       "</style>\n",
       "<table border=\"1\" class=\"dataframe\">\n",
       "  <thead>\n",
       "    <tr style=\"text-align: right;\">\n",
       "      <th></th>\n",
       "      <th>id</th>\n",
       "      <th>name</th>\n",
       "      <th>code</th>\n",
       "      <th>area_hectares</th>\n",
       "      <th>inner_statistical</th>\n",
       "      <th>geometry</th>\n",
       "      <th>all</th>\n",
       "    </tr>\n",
       "  </thead>\n",
       "  <tbody>\n",
       "    <tr>\n",
       "      <th>0</th>\n",
       "      <td>1</td>\n",
       "      <td>Kingston upon Thames</td>\n",
       "      <td>E09000021</td>\n",
       "      <td>3726.117</td>\n",
       "      <td>0</td>\n",
       "      <td>(POLYGON ((-0.330679062942453 51.3290110106029...</td>\n",
       "      <td>1</td>\n",
       "    </tr>\n",
       "    <tr>\n",
       "      <th>1</th>\n",
       "      <td>2</td>\n",
       "      <td>Croydon</td>\n",
       "      <td>E09000008</td>\n",
       "      <td>8649.441</td>\n",
       "      <td>0</td>\n",
       "      <td>(POLYGON ((-0.064021239620113 51.3186376598749...</td>\n",
       "      <td>1</td>\n",
       "    </tr>\n",
       "    <tr>\n",
       "      <th>2</th>\n",
       "      <td>3</td>\n",
       "      <td>Bromley</td>\n",
       "      <td>E09000006</td>\n",
       "      <td>15013.487</td>\n",
       "      <td>0</td>\n",
       "      <td>(POLYGON ((0.012130938509177 51.2995990596564,...</td>\n",
       "      <td>1</td>\n",
       "    </tr>\n",
       "    <tr>\n",
       "      <th>3</th>\n",
       "      <td>4</td>\n",
       "      <td>Hounslow</td>\n",
       "      <td>E09000018</td>\n",
       "      <td>5658.541</td>\n",
       "      <td>0</td>\n",
       "      <td>(POLYGON ((-0.244562394525054 51.48870217634, ...</td>\n",
       "      <td>1</td>\n",
       "    </tr>\n",
       "    <tr>\n",
       "      <th>4</th>\n",
       "      <td>5</td>\n",
       "      <td>Ealing</td>\n",
       "      <td>E09000009</td>\n",
       "      <td>5554.428</td>\n",
       "      <td>0</td>\n",
       "      <td>(POLYGON ((-0.411832689731467 51.5340838625761...</td>\n",
       "      <td>1</td>\n",
       "    </tr>\n",
       "  </tbody>\n",
       "</table>\n",
       "</div>"
      ],
      "text/plain": [
       "   id                  name       code  area_hectares  inner_statistical  \\\n",
       "0   1  Kingston upon Thames  E09000021       3726.117                  0   \n",
       "1   2               Croydon  E09000008       8649.441                  0   \n",
       "2   3               Bromley  E09000006      15013.487                  0   \n",
       "3   4              Hounslow  E09000018       5658.541                  0   \n",
       "4   5                Ealing  E09000009       5554.428                  0   \n",
       "\n",
       "                                            geometry  all  \n",
       "0  (POLYGON ((-0.330679062942453 51.3290110106029...    1  \n",
       "1  (POLYGON ((-0.064021239620113 51.3186376598749...    1  \n",
       "2  (POLYGON ((0.012130938509177 51.2995990596564,...    1  \n",
       "3  (POLYGON ((-0.244562394525054 51.48870217634, ...    1  \n",
       "4  (POLYGON ((-0.411832689731467 51.5340838625761...    1  "
      ]
     },
     "execution_count": 39,
     "metadata": {},
     "output_type": "execute_result"
    }
   ],
   "source": [
    "boroughs.head()"
   ]
  },
  {
   "cell_type": "markdown",
   "metadata": {},
   "source": [
    "The columns to join the two tables on are `code` and `Code`. To use the [`join` method](https://pandas.pydata.org/pandas-docs/stable/reference/api/pandas.DataFrame.join.html), first the index of both tables has to be set to this column. \n",
    "\n",
    "The below adds the columns from `df` to `boroughs`:"
   ]
  },
  {
   "cell_type": "code",
   "execution_count": 40,
   "metadata": {},
   "outputs": [
    {
     "data": {
      "text/html": [
       "<div>\n",
       "<style scoped>\n",
       "    .dataframe tbody tr th:only-of-type {\n",
       "        vertical-align: middle;\n",
       "    }\n",
       "\n",
       "    .dataframe tbody tr th {\n",
       "        vertical-align: top;\n",
       "    }\n",
       "\n",
       "    .dataframe thead th {\n",
       "        text-align: right;\n",
       "    }\n",
       "</style>\n",
       "<table border=\"1\" class=\"dataframe\">\n",
       "  <thead>\n",
       "    <tr style=\"text-align: right;\">\n",
       "      <th></th>\n",
       "      <th>id</th>\n",
       "      <th>name</th>\n",
       "      <th>area_hectares</th>\n",
       "      <th>inner_statistical</th>\n",
       "      <th>geometry</th>\n",
       "      <th>all</th>\n",
       "      <th>Area_name</th>\n",
       "      <th>Inner/_Outer_London</th>\n",
       "      <th>GLA_Population_Estimate_2017</th>\n",
       "      <th>GLA_Household_Estimate_2017</th>\n",
       "      <th>...</th>\n",
       "      <th>Happiness_score_2011-14_(out_of_10)</th>\n",
       "      <th>Anxiety_score_2011-14_(out_of_10)</th>\n",
       "      <th>Childhood_Obesity_Prevalance_(%)_2015/16</th>\n",
       "      <th>People_aged_17+_with_diabetes_(%)</th>\n",
       "      <th>Mortality_rate_from_causes_considered_preventable_2012/14</th>\n",
       "      <th>Political_control_in_council</th>\n",
       "      <th>Proportion_of_seats_won_by_Conservatives_in_2014_election</th>\n",
       "      <th>Proportion_of_seats_won_by_Labour_in_2014_election</th>\n",
       "      <th>Proportion_of_seats_won_by_Lib_Dems_in_2014_election</th>\n",
       "      <th>Turnout_at_2014_local_elections</th>\n",
       "    </tr>\n",
       "  </thead>\n",
       "  <tbody>\n",
       "    <tr>\n",
       "      <th>E09000001</th>\n",
       "      <td>33</td>\n",
       "      <td>City of London</td>\n",
       "      <td>314.942</td>\n",
       "      <td>1</td>\n",
       "      <td>(POLYGON ((-0.111574406694964 51.5107549197, -...</td>\n",
       "      <td>1</td>\n",
       "      <td>City of London</td>\n",
       "      <td>Inner London</td>\n",
       "      <td>8800.0</td>\n",
       "      <td>5326.0</td>\n",
       "      <td>...</td>\n",
       "      <td>6.0</td>\n",
       "      <td>5.6</td>\n",
       "      <td>NaN</td>\n",
       "      <td>2.6</td>\n",
       "      <td>129.0</td>\n",
       "      <td>NaN</td>\n",
       "      <td>NaN</td>\n",
       "      <td>NaN</td>\n",
       "      <td>NaN</td>\n",
       "      <td>NaN</td>\n",
       "    </tr>\n",
       "    <tr>\n",
       "      <th>E09000002</th>\n",
       "      <td>32</td>\n",
       "      <td>Barking and Dagenham</td>\n",
       "      <td>3779.934</td>\n",
       "      <td>0</td>\n",
       "      <td>(POLYGON ((0.07316567606867801 51.529370200593...</td>\n",
       "      <td>1</td>\n",
       "      <td>Barking and Dagenham</td>\n",
       "      <td>Outer London</td>\n",
       "      <td>209000.0</td>\n",
       "      <td>78188.0</td>\n",
       "      <td>...</td>\n",
       "      <td>7.1</td>\n",
       "      <td>3.1</td>\n",
       "      <td>28.5</td>\n",
       "      <td>7.3</td>\n",
       "      <td>228.0</td>\n",
       "      <td>Lab</td>\n",
       "      <td>0.0</td>\n",
       "      <td>100.0</td>\n",
       "      <td>0.0</td>\n",
       "      <td>36.5</td>\n",
       "    </tr>\n",
       "    <tr>\n",
       "      <th>E09000003</th>\n",
       "      <td>10</td>\n",
       "      <td>Barnet</td>\n",
       "      <td>8674.837</td>\n",
       "      <td>0</td>\n",
       "      <td>(POLYGON ((-0.199896404443971 51.6701668576827...</td>\n",
       "      <td>1</td>\n",
       "      <td>Barnet</td>\n",
       "      <td>Outer London</td>\n",
       "      <td>389600.0</td>\n",
       "      <td>151423.0</td>\n",
       "      <td>...</td>\n",
       "      <td>7.4</td>\n",
       "      <td>2.8</td>\n",
       "      <td>20.7</td>\n",
       "      <td>6.0</td>\n",
       "      <td>134.0</td>\n",
       "      <td>Cons</td>\n",
       "      <td>50.8</td>\n",
       "      <td>NaN</td>\n",
       "      <td>1.6</td>\n",
       "      <td>40.5</td>\n",
       "    </tr>\n",
       "    <tr>\n",
       "      <th>E09000004</th>\n",
       "      <td>15</td>\n",
       "      <td>Bexley</td>\n",
       "      <td>6428.649</td>\n",
       "      <td>0</td>\n",
       "      <td>(POLYGON ((0.120210839063794 51.5114446653239,...</td>\n",
       "      <td>1</td>\n",
       "      <td>Bexley</td>\n",
       "      <td>Outer London</td>\n",
       "      <td>244300.0</td>\n",
       "      <td>97736.0</td>\n",
       "      <td>...</td>\n",
       "      <td>7.2</td>\n",
       "      <td>3.3</td>\n",
       "      <td>22.7</td>\n",
       "      <td>6.9</td>\n",
       "      <td>164.0</td>\n",
       "      <td>Cons</td>\n",
       "      <td>71.4</td>\n",
       "      <td>23.8</td>\n",
       "      <td>0.0</td>\n",
       "      <td>39.6</td>\n",
       "    </tr>\n",
       "    <tr>\n",
       "      <th>E09000005</th>\n",
       "      <td>9</td>\n",
       "      <td>Brent</td>\n",
       "      <td>4323.270</td>\n",
       "      <td>0</td>\n",
       "      <td>(POLYGON ((-0.196568746300418 51.5276540106305...</td>\n",
       "      <td>1</td>\n",
       "      <td>Brent</td>\n",
       "      <td>Outer London</td>\n",
       "      <td>332100.0</td>\n",
       "      <td>121048.0</td>\n",
       "      <td>...</td>\n",
       "      <td>7.2</td>\n",
       "      <td>2.9</td>\n",
       "      <td>24.3</td>\n",
       "      <td>7.9</td>\n",
       "      <td>169.0</td>\n",
       "      <td>Lab</td>\n",
       "      <td>9.5</td>\n",
       "      <td>88.9</td>\n",
       "      <td>1.6</td>\n",
       "      <td>36.3</td>\n",
       "    </tr>\n",
       "  </tbody>\n",
       "</table>\n",
       "<p>5 rows × 89 columns</p>\n",
       "</div>"
      ],
      "text/plain": [
       "           id                  name  area_hectares  inner_statistical  \\\n",
       "E09000001  33        City of London        314.942                  1   \n",
       "E09000002  32  Barking and Dagenham       3779.934                  0   \n",
       "E09000003  10                Barnet       8674.837                  0   \n",
       "E09000004  15                Bexley       6428.649                  0   \n",
       "E09000005   9                 Brent       4323.270                  0   \n",
       "\n",
       "                                                    geometry  all  \\\n",
       "E09000001  (POLYGON ((-0.111574406694964 51.5107549197, -...    1   \n",
       "E09000002  (POLYGON ((0.07316567606867801 51.529370200593...    1   \n",
       "E09000003  (POLYGON ((-0.199896404443971 51.6701668576827...    1   \n",
       "E09000004  (POLYGON ((0.120210839063794 51.5114446653239,...    1   \n",
       "E09000005  (POLYGON ((-0.196568746300418 51.5276540106305...    1   \n",
       "\n",
       "                      Area_name Inner/_Outer_London  \\\n",
       "E09000001        City of London        Inner London   \n",
       "E09000002  Barking and Dagenham        Outer London   \n",
       "E09000003                Barnet        Outer London   \n",
       "E09000004                Bexley        Outer London   \n",
       "E09000005                 Brent        Outer London   \n",
       "\n",
       "           GLA_Population_Estimate_2017  GLA_Household_Estimate_2017  ...  \\\n",
       "E09000001                        8800.0                       5326.0  ...   \n",
       "E09000002                      209000.0                      78188.0  ...   \n",
       "E09000003                      389600.0                     151423.0  ...   \n",
       "E09000004                      244300.0                      97736.0  ...   \n",
       "E09000005                      332100.0                     121048.0  ...   \n",
       "\n",
       "           Happiness_score_2011-14_(out_of_10)  \\\n",
       "E09000001                                  6.0   \n",
       "E09000002                                  7.1   \n",
       "E09000003                                  7.4   \n",
       "E09000004                                  7.2   \n",
       "E09000005                                  7.2   \n",
       "\n",
       "           Anxiety_score_2011-14_(out_of_10)  \\\n",
       "E09000001                                5.6   \n",
       "E09000002                                3.1   \n",
       "E09000003                                2.8   \n",
       "E09000004                                3.3   \n",
       "E09000005                                2.9   \n",
       "\n",
       "           Childhood_Obesity_Prevalance_(%)_2015/16  \\\n",
       "E09000001                                       NaN   \n",
       "E09000002                                      28.5   \n",
       "E09000003                                      20.7   \n",
       "E09000004                                      22.7   \n",
       "E09000005                                      24.3   \n",
       "\n",
       "           People_aged_17+_with_diabetes_(%)  \\\n",
       "E09000001                                2.6   \n",
       "E09000002                                7.3   \n",
       "E09000003                                6.0   \n",
       "E09000004                                6.9   \n",
       "E09000005                                7.9   \n",
       "\n",
       "           Mortality_rate_from_causes_considered_preventable_2012/14  \\\n",
       "E09000001                                              129.0           \n",
       "E09000002                                              228.0           \n",
       "E09000003                                              134.0           \n",
       "E09000004                                              164.0           \n",
       "E09000005                                              169.0           \n",
       "\n",
       "           Political_control_in_council  \\\n",
       "E09000001                           NaN   \n",
       "E09000002                           Lab   \n",
       "E09000003                          Cons   \n",
       "E09000004                          Cons   \n",
       "E09000005                           Lab   \n",
       "\n",
       "           Proportion_of_seats_won_by_Conservatives_in_2014_election  \\\n",
       "E09000001                                                NaN           \n",
       "E09000002                                                0.0           \n",
       "E09000003                                               50.8           \n",
       "E09000004                                               71.4           \n",
       "E09000005                                                9.5           \n",
       "\n",
       "           Proportion_of_seats_won_by_Labour_in_2014_election  \\\n",
       "E09000001                                                NaN    \n",
       "E09000002                                              100.0    \n",
       "E09000003                                                NaN    \n",
       "E09000004                                               23.8    \n",
       "E09000005                                               88.9    \n",
       "\n",
       "           Proportion_of_seats_won_by_Lib_Dems_in_2014_election  \\\n",
       "E09000001                                                NaN      \n",
       "E09000002                                                0.0      \n",
       "E09000003                                                1.6      \n",
       "E09000004                                                0.0      \n",
       "E09000005                                                1.6      \n",
       "\n",
       "           Turnout_at_2014_local_elections  \n",
       "E09000001                              NaN  \n",
       "E09000002                             36.5  \n",
       "E09000003                             40.5  \n",
       "E09000004                             39.6  \n",
       "E09000005                             36.3  \n",
       "\n",
       "[5 rows x 89 columns]"
      ]
     },
     "execution_count": 40,
     "metadata": {},
     "output_type": "execute_result"
    }
   ],
   "source": [
    "boroughs = boroughs.set_index('code').join(df.set_index('Code'))\n",
    "boroughs.head()"
   ]
  },
  {
   "cell_type": "markdown",
   "metadata": {},
   "source": [
    "<div class=\"alert alert-success\">\n",
    " <b>EXERCISES</b> <br/> \n",
    "  <ol>\n",
    "  <li>Create a map that shows two regions: Inner and Outer London. </li>\n",
    "  <li>Create a map of the average gender pay gap for each borough.  </li>\n",
    "  <li>Create a map or maps with the columns that you are curious about. </li>    \n",
    " </ul> \n",
    "\n",
    "<b>Tip</b>: you can pick any of the color maps from [here](https://matplotlib.org/3.1.1/gallery/color/colormap_reference.html) to use in your maps.\n",
    "\n",
    "</div>  \n",
    "\n",
    "\n"
   ]
  },
  {
   "cell_type": "code",
   "execution_count": null,
   "metadata": {},
   "outputs": [],
   "source": [
    "# answer 1: Inner and Outer London map (add as many cells as you need)\n"
   ]
  },
  {
   "cell_type": "code",
   "execution_count": 42,
   "metadata": {},
   "outputs": [
    {
     "data": {
      "text/html": [
       "<div>\n",
       "<style scoped>\n",
       "    .dataframe tbody tr th:only-of-type {\n",
       "        vertical-align: middle;\n",
       "    }\n",
       "\n",
       "    .dataframe tbody tr th {\n",
       "        vertical-align: top;\n",
       "    }\n",
       "\n",
       "    .dataframe thead th {\n",
       "        text-align: right;\n",
       "    }\n",
       "</style>\n",
       "<table border=\"1\" class=\"dataframe\">\n",
       "  <thead>\n",
       "    <tr style=\"text-align: right;\">\n",
       "      <th></th>\n",
       "      <th>geometry</th>\n",
       "      <th>id</th>\n",
       "      <th>area_hectares</th>\n",
       "      <th>inner_statistical</th>\n",
       "      <th>all</th>\n",
       "      <th>GLA_Population_Estimate_2017</th>\n",
       "      <th>GLA_Household_Estimate_2017</th>\n",
       "      <th>Inland_Area_(Hectares)</th>\n",
       "      <th>Population_density_(per_hectare)_2017</th>\n",
       "      <th>Average_Age,_2017</th>\n",
       "      <th>...</th>\n",
       "      <th>Worthwhileness_score_2011-14_(out_of_10)</th>\n",
       "      <th>Happiness_score_2011-14_(out_of_10)</th>\n",
       "      <th>Anxiety_score_2011-14_(out_of_10)</th>\n",
       "      <th>Childhood_Obesity_Prevalance_(%)_2015/16</th>\n",
       "      <th>People_aged_17+_with_diabetes_(%)</th>\n",
       "      <th>Mortality_rate_from_causes_considered_preventable_2012/14</th>\n",
       "      <th>Proportion_of_seats_won_by_Conservatives_in_2014_election</th>\n",
       "      <th>Proportion_of_seats_won_by_Labour_in_2014_election</th>\n",
       "      <th>Proportion_of_seats_won_by_Lib_Dems_in_2014_election</th>\n",
       "      <th>Turnout_at_2014_local_elections</th>\n",
       "    </tr>\n",
       "    <tr>\n",
       "      <th>Inner/_Outer_London</th>\n",
       "      <th></th>\n",
       "      <th></th>\n",
       "      <th></th>\n",
       "      <th></th>\n",
       "      <th></th>\n",
       "      <th></th>\n",
       "      <th></th>\n",
       "      <th></th>\n",
       "      <th></th>\n",
       "      <th></th>\n",
       "      <th></th>\n",
       "      <th></th>\n",
       "      <th></th>\n",
       "      <th></th>\n",
       "      <th></th>\n",
       "      <th></th>\n",
       "      <th></th>\n",
       "      <th></th>\n",
       "      <th></th>\n",
       "      <th></th>\n",
       "      <th></th>\n",
       "    </tr>\n",
       "  </thead>\n",
       "  <tbody>\n",
       "    <tr>\n",
       "      <th>Inner London</th>\n",
       "      <td>(POLYGON ((0.075487345438734 51.5298237426242,...</td>\n",
       "      <td>23.857143</td>\n",
       "      <td>2341.884643</td>\n",
       "      <td>1.0</td>\n",
       "      <td>1.0</td>\n",
       "      <td>252550.000000</td>\n",
       "      <td>108752.928571</td>\n",
       "      <td>2280.5</td>\n",
       "      <td>110.850000</td>\n",
       "      <td>35.550000</td>\n",
       "      <td>...</td>\n",
       "      <td>7.478571</td>\n",
       "      <td>7.135714</td>\n",
       "      <td>3.578571</td>\n",
       "      <td>23.684615</td>\n",
       "      <td>5.085714</td>\n",
       "      <td>184.785714</td>\n",
       "      <td>23.646154</td>\n",
       "      <td>69.207692</td>\n",
       "      <td>3.507692</td>\n",
       "      <td>37.446154</td>\n",
       "    </tr>\n",
       "    <tr>\n",
       "      <th>Outer London</th>\n",
       "      <td>(POLYGON ((-0.024847351506038 51.4855462016976...</td>\n",
       "      <td>11.947368</td>\n",
       "      <td>6667.544211</td>\n",
       "      <td>0.0</td>\n",
       "      <td>1.0</td>\n",
       "      <td>278931.578947</td>\n",
       "      <td>109443.210526</td>\n",
       "      <td>6594.0</td>\n",
       "      <td>47.673684</td>\n",
       "      <td>36.984211</td>\n",
       "      <td>...</td>\n",
       "      <td>7.631579</td>\n",
       "      <td>7.263158</td>\n",
       "      <td>3.200000</td>\n",
       "      <td>21.963158</td>\n",
       "      <td>6.394737</td>\n",
       "      <td>162.578947</td>\n",
       "      <td>38.915789</td>\n",
       "      <td>48.544444</td>\n",
       "      <td>8.721053</td>\n",
       "      <td>39.794737</td>\n",
       "    </tr>\n",
       "  </tbody>\n",
       "</table>\n",
       "<p>2 rows × 78 columns</p>\n",
       "</div>"
      ],
      "text/plain": [
       "                                                              geometry  \\\n",
       "Inner/_Outer_London                                                      \n",
       "Inner London         (POLYGON ((0.075487345438734 51.5298237426242,...   \n",
       "Outer London         (POLYGON ((-0.024847351506038 51.4855462016976...   \n",
       "\n",
       "                            id  area_hectares  inner_statistical  all  \\\n",
       "Inner/_Outer_London                                                     \n",
       "Inner London         23.857143    2341.884643                1.0  1.0   \n",
       "Outer London         11.947368    6667.544211                0.0  1.0   \n",
       "\n",
       "                     GLA_Population_Estimate_2017  \\\n",
       "Inner/_Outer_London                                 \n",
       "Inner London                        252550.000000   \n",
       "Outer London                        278931.578947   \n",
       "\n",
       "                     GLA_Household_Estimate_2017  Inland_Area_(Hectares)  \\\n",
       "Inner/_Outer_London                                                        \n",
       "Inner London                       108752.928571                  2280.5   \n",
       "Outer London                       109443.210526                  6594.0   \n",
       "\n",
       "                     Population_density_(per_hectare)_2017  Average_Age,_2017  \\\n",
       "Inner/_Outer_London                                                             \n",
       "Inner London                                    110.850000          35.550000   \n",
       "Outer London                                     47.673684          36.984211   \n",
       "\n",
       "                     ...  Worthwhileness_score_2011-14_(out_of_10)  \\\n",
       "Inner/_Outer_London  ...                                             \n",
       "Inner London         ...                                  7.478571   \n",
       "Outer London         ...                                  7.631579   \n",
       "\n",
       "                     Happiness_score_2011-14_(out_of_10)  \\\n",
       "Inner/_Outer_London                                        \n",
       "Inner London                                    7.135714   \n",
       "Outer London                                    7.263158   \n",
       "\n",
       "                     Anxiety_score_2011-14_(out_of_10)  \\\n",
       "Inner/_Outer_London                                      \n",
       "Inner London                                  3.578571   \n",
       "Outer London                                  3.200000   \n",
       "\n",
       "                     Childhood_Obesity_Prevalance_(%)_2015/16  \\\n",
       "Inner/_Outer_London                                             \n",
       "Inner London                                        23.684615   \n",
       "Outer London                                        21.963158   \n",
       "\n",
       "                     People_aged_17+_with_diabetes_(%)  \\\n",
       "Inner/_Outer_London                                      \n",
       "Inner London                                  5.085714   \n",
       "Outer London                                  6.394737   \n",
       "\n",
       "                     Mortality_rate_from_causes_considered_preventable_2012/14  \\\n",
       "Inner/_Outer_London                                                              \n",
       "Inner London                                                184.785714           \n",
       "Outer London                                                162.578947           \n",
       "\n",
       "                     Proportion_of_seats_won_by_Conservatives_in_2014_election  \\\n",
       "Inner/_Outer_London                                                              \n",
       "Inner London                                                 23.646154           \n",
       "Outer London                                                 38.915789           \n",
       "\n",
       "                     Proportion_of_seats_won_by_Labour_in_2014_election  \\\n",
       "Inner/_Outer_London                                                       \n",
       "Inner London                                                 69.207692    \n",
       "Outer London                                                 48.544444    \n",
       "\n",
       "                     Proportion_of_seats_won_by_Lib_Dems_in_2014_election  \\\n",
       "Inner/_Outer_London                                                         \n",
       "Inner London                                                  3.507692      \n",
       "Outer London                                                  8.721053      \n",
       "\n",
       "                     Turnout_at_2014_local_elections  \n",
       "Inner/_Outer_London                                   \n",
       "Inner London                               37.446154  \n",
       "Outer London                               39.794737  \n",
       "\n",
       "[2 rows x 78 columns]"
      ]
     },
     "execution_count": 42,
     "metadata": {},
     "output_type": "execute_result"
    }
   ],
   "source": [
    "# %load https://raw.githubusercontent.com/IBMDeveloperUK/foss4g-geopandas/master/answers/geo_answer1a.py\n",
    "boroughs2 = boroughs.dissolve(by='Inner/_Outer_London',aggfunc='mean')\n",
    "boroughs2.head()\n"
   ]
  },
  {
   "cell_type": "code",
   "execution_count": 44,
   "metadata": {},
   "outputs": [
    {
     "data": {
      "image/png": "[encoded data removed]",
      "text/plain": [
       "<Figure size 720x432 with 1 Axes>"
      ]
     },
     "metadata": {
      "needs_background": "light"
     },
     "output_type": "display_data"
    }
   ],
   "source": [
    "# %load https://raw.githubusercontent.com/IBMDeveloperUK/foss4g-geopandas/master/answers/geo_answer1b.py\n",
    "[fig, ax] = plt.subplots(1, figsize=(10, 6))\n",
    "boroughs2.plot(column='id', cmap='Paired', linewidth=0.5, edgecolor='black', legend=False, ax=ax);\n",
    "ax.axis('off');\n"
   ]
  },
  {
   "cell_type": "code",
   "execution_count": null,
   "metadata": {},
   "outputs": [],
   "source": [
    "# answer 2: average gender pay gap map\n"
   ]
  },
  {
   "cell_type": "code",
   "execution_count": 46,
   "metadata": {},
   "outputs": [
    {
     "data": {
      "image/png": "[encoded data removed]",
      "text/plain": [
       "<Figure size 864x576 with 1 Axes>"
      ]
     },
     "metadata": {
      "needs_background": "light"
     },
     "output_type": "display_data"
    }
   ],
   "source": [
    "# %load https://raw.githubusercontent.com/IBMDeveloperUK/foss4g-geopandas/master/answers/geo_answer2.py\n",
    "boroughs['paygap'] = \\\n",
    "    ((boroughs['Gross_Annual_Pay_-_Male_(2016)'] - boroughs['Gross_Annual_Pay_-_Female_(2016)'])/ \\\n",
    "    boroughs['Gross_Annual_Pay_-_Male_(2016)']) * 100\n",
    "\n",
    "[fig,ax] = plt.subplots(1, figsize=(12, 8))\n",
    "\n",
    "boroughs.plot(ax=ax, color=\"lightgrey\", edgecolor='black', linewidth=0.5)\n",
    "\n",
    "boroughs.dropna().plot(column='paygap', cmap='Reds', edgecolor='black', linewidth=0.5,\n",
    "               legend=True, ax=ax, scheme='equal_interval');\n",
    "ax.axis('off');\n",
    "ax.set_title('Gender pay gap in London (2016)');\n"
   ]
  },
  {
   "cell_type": "code",
   "execution_count": null,
   "metadata": {},
   "outputs": [],
   "source": [
    "# answer 3: your turn to play!\n"
   ]
  },
  {
   "cell_type": "markdown",
   "metadata": {},
   "source": [
    "<a id=\"osm\"></a>\n",
    "## 4. Open Street Map data (OSM)\n",
    "\n",
    "<a id=\"load2\"></a>\n",
    "### 4.1 Load OSM data\n",
    "\n",
    "The Open Street Map data is pre-processed in this [notebook]().\n",
    "\n",
    "Data is downloaded from http://download.geofabrik.de/europe/great-britain.html and a more detailed decription of the data is [here](http://download.geofabrik.de/osm-data-in-gis-formats-free.pdf).\n",
    "\n",
    "The data format is a shape file that consists of several files combined into one zip file that can be read directly with GeoPandas:"
   ]
  },
  {
   "cell_type": "code",
   "execution_count": 47,
   "metadata": {},
   "outputs": [],
   "source": [
    "pois = gpd.read_file(\"zip://../data/london_pois.zip\")"
   ]
  },
  {
   "cell_type": "markdown",
   "metadata": {},
   "source": [
    "<div class=\"alert alert-danger\" style=\"font-size:100%\">\n",
    "If you are using <b>Watson Studio</b> to run the workshop you will get an error with the above, because you have no local files in the data folder. First store the file <b><font face=\"Courier\">london_pois.zip</font></b> in your Cloud Object Store (COS) through the menu at the right of the notebook (if you see no menu, click the <b><font face=\"Courier\">1010</font></b> button at the top first). Then load the data into the notebook by running the following two cells (<b>do not forget to uncomment the second cell</b>):\n",
    "</div> "
   ]
  },
  {
   "cell_type": "code",
   "execution_count": null,
   "metadata": {},
   "outputs": [],
   "source": [
    "# define the helper function \n",
    "def download_file_to_local(project_filename, local_file_destination=None, project=None):\n",
    "    \"\"\"\n",
    "    Uses project-lib to get a bytearray and then downloads this file to local.\n",
    "    Requires a valid `project` object.\n",
    "    \n",
    "    Args:\n",
    "        project_filename str: the filename to be passed to get_file\n",
    "        local_file_destination: the filename for the local file if different\n",
    "        \n",
    "    Returns:\n",
    "        0 if everything worked\n",
    "    \"\"\"\n",
    "    \n",
    "    project = project\n",
    "    \n",
    "    # get the file\n",
    "    print(\"Attempting to get file {}\".format(project_filename))\n",
    "    _bytes = project.get_file(project_filename).read()\n",
    "    \n",
    "    # check for new file name, download the file\n",
    "    print(\"Downloading...\")\n",
    "    if local_file_destination==None: local_file_destination = project_filename\n",
    "    \n",
    "    with open(local_file_destination, 'wb') as f: \n",
    "        f.write(bytearray(_bytes))\n",
    "        print(\"Completed writing to {}\".format(local_file_destination))\n",
    "        \n",
    "    return 0"
   ]
  },
  {
   "cell_type": "code",
   "execution_count": null,
   "metadata": {},
   "outputs": [],
   "source": [
    "#download_file_to_local('london_pois.zip', project=project)\n",
    "#pois = gpd.read_file(\"zip://./london_pois.zip\")"
   ]
  },
  {
   "cell_type": "code",
   "execution_count": 48,
   "metadata": {},
   "outputs": [
    {
     "data": {
      "text/html": [
       "<div>\n",
       "<style scoped>\n",
       "    .dataframe tbody tr th:only-of-type {\n",
       "        vertical-align: middle;\n",
       "    }\n",
       "\n",
       "    .dataframe tbody tr th {\n",
       "        vertical-align: top;\n",
       "    }\n",
       "\n",
       "    .dataframe thead th {\n",
       "        text-align: right;\n",
       "    }\n",
       "</style>\n",
       "<table border=\"1\" class=\"dataframe\">\n",
       "  <thead>\n",
       "    <tr style=\"text-align: right;\">\n",
       "      <th></th>\n",
       "      <th>osm_id</th>\n",
       "      <th>code</th>\n",
       "      <th>fclass</th>\n",
       "      <th>name</th>\n",
       "      <th>geometry</th>\n",
       "    </tr>\n",
       "  </thead>\n",
       "  <tbody>\n",
       "    <tr>\n",
       "      <th>0</th>\n",
       "      <td>108042</td>\n",
       "      <td>2304</td>\n",
       "      <td>pub</td>\n",
       "      <td>Simmons</td>\n",
       "      <td>POINT (-0.1355294 51.5235359)</td>\n",
       "    </tr>\n",
       "    <tr>\n",
       "      <th>1</th>\n",
       "      <td>108539</td>\n",
       "      <td>2566</td>\n",
       "      <td>bicycle_rental</td>\n",
       "      <td>Windsor Terrace</td>\n",
       "      <td>POINT (-0.09338780000000001 51.5291251)</td>\n",
       "    </tr>\n",
       "    <tr>\n",
       "      <th>2</th>\n",
       "      <td>283885</td>\n",
       "      <td>2204</td>\n",
       "      <td>park</td>\n",
       "      <td>Ecology Park</td>\n",
       "      <td>POINT (0.0155831 51.494974)</td>\n",
       "    </tr>\n",
       "    <tr>\n",
       "      <th>3</th>\n",
       "      <td>451152</td>\n",
       "      <td>2304</td>\n",
       "      <td>pub</td>\n",
       "      <td>The Dignity</td>\n",
       "      <td>POINT (-0.1946078 51.6008404)</td>\n",
       "    </tr>\n",
       "    <tr>\n",
       "      <th>4</th>\n",
       "      <td>451153</td>\n",
       "      <td>2301</td>\n",
       "      <td>restaurant</td>\n",
       "      <td>Central Restaurant</td>\n",
       "      <td>POINT (-0.1935029 51.6020306)</td>\n",
       "    </tr>\n",
       "  </tbody>\n",
       "</table>\n",
       "</div>"
      ],
      "text/plain": [
       "   osm_id  code          fclass                name  \\\n",
       "0  108042  2304             pub             Simmons   \n",
       "1  108539  2566  bicycle_rental     Windsor Terrace   \n",
       "2  283885  2204            park        Ecology Park   \n",
       "3  451152  2304             pub         The Dignity   \n",
       "4  451153  2301      restaurant  Central Restaurant   \n",
       "\n",
       "                                  geometry  \n",
       "0            POINT (-0.1355294 51.5235359)  \n",
       "1  POINT (-0.09338780000000001 51.5291251)  \n",
       "2              POINT (0.0155831 51.494974)  \n",
       "3            POINT (-0.1946078 51.6008404)  \n",
       "4            POINT (-0.1935029 51.6020306)  "
      ]
     },
     "execution_count": 48,
     "metadata": {},
     "output_type": "execute_result"
    }
   ],
   "source": [
    "pois.head()"
   ]
  },
  {
   "cell_type": "markdown",
   "metadata": {},
   "source": [
    "<a id=\"explore2\"></a>\n",
    "### 4.2 Explore OSM data"
   ]
  },
  {
   "cell_type": "code",
   "execution_count": 49,
   "metadata": {},
   "outputs": [
    {
     "data": {
      "text/plain": [
       "303130"
      ]
     },
     "execution_count": 49,
     "metadata": {},
     "output_type": "execute_result"
    }
   ],
   "source": [
    "pois.size"
   ]
  },
  {
   "cell_type": "code",
   "execution_count": 50,
   "metadata": {},
   "outputs": [
    {
     "data": {
      "text/plain": [
       "array(['pub', 'bicycle_rental', 'park', 'restaurant', 'post_box',\n",
       "       'post_office', 'library', 'memorial', 'telephone',\n",
       "       'public_building', 'fountain', 'artwork', 'museum', 'police',\n",
       "       'toilet', 'cafe', 'pitch', 'recycling', 'bar', 'attraction', 'atm',\n",
       "       'swimming_pool', 'kindergarten', 'cinema', 'waste_basket',\n",
       "       'monument', 'college', 'university', 'supermarket', 'graveyard',\n",
       "       'hotel', 'laundry', 'courthouse', 'school', 'sports_centre',\n",
       "       'pharmacy', 'convenience', 'bank', 'beverages', 'fast_food',\n",
       "       'fire_station', 'water_tower', 'doctors', 'department_store',\n",
       "       'theatre', 'viewpoint', 'playground', 'newsagent', 'gift_shop',\n",
       "       'clothes', 'recycling_paper', 'veterinary', 'wastewater_plant',\n",
       "       'dentist', 'recycling_glass', 'chemist', 'hospital', 'town_hall',\n",
       "       'tourist_info', 'bicycle_shop', 'car_rental', 'bakery',\n",
       "       'travel_agent', 'doityourself', 'windmill', 'comms_tower',\n",
       "       'car_sharing', 'camera_surveillance', 'garden_centre', 'tower',\n",
       "       'recycling_clothes', 'ruins', 'nursing_home', 'embassy', 'stadium',\n",
       "       'community_centre', 'computer_shop', 'water_works', 'arts_centre',\n",
       "       'butcher', 'car_dealership', 'nightclub', 'archaeological',\n",
       "       'castle', 'bookshop', 'hairdresser', 'car_wash', 'vending_any',\n",
       "       'drinking_water', 'prison', 'greengrocer', 'beauty_shop',\n",
       "       'stationery', 'bench', 'florist', 'optician', 'motel',\n",
       "       'mobile_phone_shop', 'kiosk', 'hostel', 'guesthouse',\n",
       "       'picnic_site', 'outdoor_shop', 'furniture_shop', 'jeweller',\n",
       "       'toy_shop', 'shoe_shop', 'video_shop', 'golf_course',\n",
       "       'sports_shop', 'camp_site', 'shelter', 'wayside_shrine', 'mall',\n",
       "       'zoo', 'vending_parking', 'bed_and_breakfast', 'theme_park',\n",
       "       'observation_tower', 'caravan_site', 'hunting_stand',\n",
       "       'vending_machine', 'water_well', 'lighthouse', 'battlefield',\n",
       "       'food_court', 'dog_park', 'chalet', 'water_mill',\n",
       "       'recycling_metal'], dtype=object)"
      ]
     },
     "execution_count": 50,
     "metadata": {},
     "output_type": "execute_result"
    }
   ],
   "source": [
    "pois['fclass'].unique()"
   ]
  },
  {
   "cell_type": "code",
   "execution_count": 51,
   "metadata": {},
   "outputs": [
    {
     "data": {
      "image/png": "[encoded data removed]",
      "text/plain": [
       "<Figure size 432x288 with 1 Axes>"
      ]
     },
     "metadata": {
      "needs_background": "light"
     },
     "output_type": "display_data"
    }
   ],
   "source": [
    "pois.plot(column='fclass');"
   ]
  },
  {
   "cell_type": "code",
   "execution_count": 52,
   "metadata": {},
   "outputs": [
    {
     "data": {
      "text/html": [
       "<div>\n",
       "<style scoped>\n",
       "    .dataframe tbody tr th:only-of-type {\n",
       "        vertical-align: middle;\n",
       "    }\n",
       "\n",
       "    .dataframe tbody tr th {\n",
       "        vertical-align: top;\n",
       "    }\n",
       "\n",
       "    .dataframe thead th {\n",
       "        text-align: right;\n",
       "    }\n",
       "</style>\n",
       "<table border=\"1\" class=\"dataframe\">\n",
       "  <thead>\n",
       "    <tr style=\"text-align: right;\">\n",
       "      <th></th>\n",
       "      <th>osm_id</th>\n",
       "      <th>code</th>\n",
       "      <th>name</th>\n",
       "      <th>geometry</th>\n",
       "    </tr>\n",
       "    <tr>\n",
       "      <th>fclass</th>\n",
       "      <th></th>\n",
       "      <th></th>\n",
       "      <th></th>\n",
       "      <th></th>\n",
       "    </tr>\n",
       "  </thead>\n",
       "  <tbody>\n",
       "    <tr>\n",
       "      <th>archaeological</th>\n",
       "      <td>33</td>\n",
       "      <td>33</td>\n",
       "      <td>31</td>\n",
       "      <td>33</td>\n",
       "    </tr>\n",
       "    <tr>\n",
       "      <th>arts_centre</th>\n",
       "      <td>37</td>\n",
       "      <td>37</td>\n",
       "      <td>35</td>\n",
       "      <td>37</td>\n",
       "    </tr>\n",
       "    <tr>\n",
       "      <th>artwork</th>\n",
       "      <td>622</td>\n",
       "      <td>622</td>\n",
       "      <td>447</td>\n",
       "      <td>622</td>\n",
       "    </tr>\n",
       "    <tr>\n",
       "      <th>atm</th>\n",
       "      <td>1418</td>\n",
       "      <td>1418</td>\n",
       "      <td>97</td>\n",
       "      <td>1418</td>\n",
       "    </tr>\n",
       "    <tr>\n",
       "      <th>attraction</th>\n",
       "      <td>162</td>\n",
       "      <td>162</td>\n",
       "      <td>150</td>\n",
       "      <td>162</td>\n",
       "    </tr>\n",
       "    <tr>\n",
       "      <th>bakery</th>\n",
       "      <td>338</td>\n",
       "      <td>338</td>\n",
       "      <td>320</td>\n",
       "      <td>338</td>\n",
       "    </tr>\n",
       "    <tr>\n",
       "      <th>bank</th>\n",
       "      <td>684</td>\n",
       "      <td>684</td>\n",
       "      <td>657</td>\n",
       "      <td>684</td>\n",
       "    </tr>\n",
       "    <tr>\n",
       "      <th>bar</th>\n",
       "      <td>627</td>\n",
       "      <td>627</td>\n",
       "      <td>604</td>\n",
       "      <td>627</td>\n",
       "    </tr>\n",
       "    <tr>\n",
       "      <th>battlefield</th>\n",
       "      <td>1</td>\n",
       "      <td>1</td>\n",
       "      <td>1</td>\n",
       "      <td>1</td>\n",
       "    </tr>\n",
       "    <tr>\n",
       "      <th>beauty_shop</th>\n",
       "      <td>664</td>\n",
       "      <td>664</td>\n",
       "      <td>643</td>\n",
       "      <td>664</td>\n",
       "    </tr>\n",
       "    <tr>\n",
       "      <th>bed_and_breakfast</th>\n",
       "      <td>1</td>\n",
       "      <td>1</td>\n",
       "      <td>1</td>\n",
       "      <td>1</td>\n",
       "    </tr>\n",
       "    <tr>\n",
       "      <th>bench</th>\n",
       "      <td>7160</td>\n",
       "      <td>7160</td>\n",
       "      <td>23</td>\n",
       "      <td>7160</td>\n",
       "    </tr>\n",
       "    <tr>\n",
       "      <th>beverages</th>\n",
       "      <td>223</td>\n",
       "      <td>223</td>\n",
       "      <td>206</td>\n",
       "      <td>223</td>\n",
       "    </tr>\n",
       "    <tr>\n",
       "      <th>bicycle_rental</th>\n",
       "      <td>665</td>\n",
       "      <td>665</td>\n",
       "      <td>529</td>\n",
       "      <td>665</td>\n",
       "    </tr>\n",
       "    <tr>\n",
       "      <th>bicycle_shop</th>\n",
       "      <td>219</td>\n",
       "      <td>219</td>\n",
       "      <td>212</td>\n",
       "      <td>219</td>\n",
       "    </tr>\n",
       "    <tr>\n",
       "      <th>bookshop</th>\n",
       "      <td>168</td>\n",
       "      <td>168</td>\n",
       "      <td>161</td>\n",
       "      <td>168</td>\n",
       "    </tr>\n",
       "    <tr>\n",
       "      <th>butcher</th>\n",
       "      <td>173</td>\n",
       "      <td>173</td>\n",
       "      <td>157</td>\n",
       "      <td>173</td>\n",
       "    </tr>\n",
       "    <tr>\n",
       "      <th>cafe</th>\n",
       "      <td>3189</td>\n",
       "      <td>3189</td>\n",
       "      <td>3010</td>\n",
       "      <td>3189</td>\n",
       "    </tr>\n",
       "    <tr>\n",
       "      <th>camera_surveillance</th>\n",
       "      <td>668</td>\n",
       "      <td>668</td>\n",
       "      <td>6</td>\n",
       "      <td>668</td>\n",
       "    </tr>\n",
       "    <tr>\n",
       "      <th>camp_site</th>\n",
       "      <td>5</td>\n",
       "      <td>5</td>\n",
       "      <td>5</td>\n",
       "      <td>5</td>\n",
       "    </tr>\n",
       "    <tr>\n",
       "      <th>car_dealership</th>\n",
       "      <td>142</td>\n",
       "      <td>142</td>\n",
       "      <td>129</td>\n",
       "      <td>142</td>\n",
       "    </tr>\n",
       "    <tr>\n",
       "      <th>car_rental</th>\n",
       "      <td>69</td>\n",
       "      <td>69</td>\n",
       "      <td>62</td>\n",
       "      <td>69</td>\n",
       "    </tr>\n",
       "    <tr>\n",
       "      <th>car_sharing</th>\n",
       "      <td>616</td>\n",
       "      <td>616</td>\n",
       "      <td>5</td>\n",
       "      <td>616</td>\n",
       "    </tr>\n",
       "    <tr>\n",
       "      <th>car_wash</th>\n",
       "      <td>72</td>\n",
       "      <td>72</td>\n",
       "      <td>34</td>\n",
       "      <td>72</td>\n",
       "    </tr>\n",
       "    <tr>\n",
       "      <th>caravan_site</th>\n",
       "      <td>3</td>\n",
       "      <td>3</td>\n",
       "      <td>2</td>\n",
       "      <td>3</td>\n",
       "    </tr>\n",
       "    <tr>\n",
       "      <th>castle</th>\n",
       "      <td>4</td>\n",
       "      <td>4</td>\n",
       "      <td>3</td>\n",
       "      <td>4</td>\n",
       "    </tr>\n",
       "    <tr>\n",
       "      <th>chalet</th>\n",
       "      <td>3</td>\n",
       "      <td>3</td>\n",
       "      <td>0</td>\n",
       "      <td>3</td>\n",
       "    </tr>\n",
       "    <tr>\n",
       "      <th>chemist</th>\n",
       "      <td>203</td>\n",
       "      <td>203</td>\n",
       "      <td>197</td>\n",
       "      <td>203</td>\n",
       "    </tr>\n",
       "    <tr>\n",
       "      <th>cinema</th>\n",
       "      <td>73</td>\n",
       "      <td>73</td>\n",
       "      <td>73</td>\n",
       "      <td>73</td>\n",
       "    </tr>\n",
       "    <tr>\n",
       "      <th>clothes</th>\n",
       "      <td>1502</td>\n",
       "      <td>1502</td>\n",
       "      <td>1473</td>\n",
       "      <td>1502</td>\n",
       "    </tr>\n",
       "    <tr>\n",
       "      <th>...</th>\n",
       "      <td>...</td>\n",
       "      <td>...</td>\n",
       "      <td>...</td>\n",
       "      <td>...</td>\n",
       "    </tr>\n",
       "    <tr>\n",
       "      <th>sports_shop</th>\n",
       "      <td>107</td>\n",
       "      <td>107</td>\n",
       "      <td>106</td>\n",
       "      <td>107</td>\n",
       "    </tr>\n",
       "    <tr>\n",
       "      <th>stadium</th>\n",
       "      <td>3</td>\n",
       "      <td>3</td>\n",
       "      <td>3</td>\n",
       "      <td>3</td>\n",
       "    </tr>\n",
       "    <tr>\n",
       "      <th>stationery</th>\n",
       "      <td>139</td>\n",
       "      <td>139</td>\n",
       "      <td>139</td>\n",
       "      <td>139</td>\n",
       "    </tr>\n",
       "    <tr>\n",
       "      <th>supermarket</th>\n",
       "      <td>772</td>\n",
       "      <td>772</td>\n",
       "      <td>749</td>\n",
       "      <td>772</td>\n",
       "    </tr>\n",
       "    <tr>\n",
       "      <th>swimming_pool</th>\n",
       "      <td>30</td>\n",
       "      <td>30</td>\n",
       "      <td>19</td>\n",
       "      <td>30</td>\n",
       "    </tr>\n",
       "    <tr>\n",
       "      <th>telephone</th>\n",
       "      <td>3025</td>\n",
       "      <td>3025</td>\n",
       "      <td>8</td>\n",
       "      <td>3025</td>\n",
       "    </tr>\n",
       "    <tr>\n",
       "      <th>theatre</th>\n",
       "      <td>89</td>\n",
       "      <td>89</td>\n",
       "      <td>86</td>\n",
       "      <td>89</td>\n",
       "    </tr>\n",
       "    <tr>\n",
       "      <th>theme_park</th>\n",
       "      <td>2</td>\n",
       "      <td>2</td>\n",
       "      <td>2</td>\n",
       "      <td>2</td>\n",
       "    </tr>\n",
       "    <tr>\n",
       "      <th>toilet</th>\n",
       "      <td>701</td>\n",
       "      <td>701</td>\n",
       "      <td>82</td>\n",
       "      <td>701</td>\n",
       "    </tr>\n",
       "    <tr>\n",
       "      <th>tourist_info</th>\n",
       "      <td>949</td>\n",
       "      <td>949</td>\n",
       "      <td>321</td>\n",
       "      <td>949</td>\n",
       "    </tr>\n",
       "    <tr>\n",
       "      <th>tower</th>\n",
       "      <td>63</td>\n",
       "      <td>63</td>\n",
       "      <td>6</td>\n",
       "      <td>63</td>\n",
       "    </tr>\n",
       "    <tr>\n",
       "      <th>town_hall</th>\n",
       "      <td>18</td>\n",
       "      <td>18</td>\n",
       "      <td>15</td>\n",
       "      <td>18</td>\n",
       "    </tr>\n",
       "    <tr>\n",
       "      <th>toy_shop</th>\n",
       "      <td>51</td>\n",
       "      <td>51</td>\n",
       "      <td>48</td>\n",
       "      <td>51</td>\n",
       "    </tr>\n",
       "    <tr>\n",
       "      <th>travel_agent</th>\n",
       "      <td>151</td>\n",
       "      <td>151</td>\n",
       "      <td>149</td>\n",
       "      <td>151</td>\n",
       "    </tr>\n",
       "    <tr>\n",
       "      <th>university</th>\n",
       "      <td>20</td>\n",
       "      <td>20</td>\n",
       "      <td>20</td>\n",
       "      <td>20</td>\n",
       "    </tr>\n",
       "    <tr>\n",
       "      <th>vending_any</th>\n",
       "      <td>122</td>\n",
       "      <td>122</td>\n",
       "      <td>7</td>\n",
       "      <td>122</td>\n",
       "    </tr>\n",
       "    <tr>\n",
       "      <th>vending_machine</th>\n",
       "      <td>11</td>\n",
       "      <td>11</td>\n",
       "      <td>2</td>\n",
       "      <td>11</td>\n",
       "    </tr>\n",
       "    <tr>\n",
       "      <th>vending_parking</th>\n",
       "      <td>214</td>\n",
       "      <td>214</td>\n",
       "      <td>0</td>\n",
       "      <td>214</td>\n",
       "    </tr>\n",
       "    <tr>\n",
       "      <th>veterinary</th>\n",
       "      <td>78</td>\n",
       "      <td>78</td>\n",
       "      <td>72</td>\n",
       "      <td>78</td>\n",
       "    </tr>\n",
       "    <tr>\n",
       "      <th>video_shop</th>\n",
       "      <td>5</td>\n",
       "      <td>5</td>\n",
       "      <td>5</td>\n",
       "      <td>5</td>\n",
       "    </tr>\n",
       "    <tr>\n",
       "      <th>viewpoint</th>\n",
       "      <td>115</td>\n",
       "      <td>115</td>\n",
       "      <td>31</td>\n",
       "      <td>115</td>\n",
       "    </tr>\n",
       "    <tr>\n",
       "      <th>waste_basket</th>\n",
       "      <td>3499</td>\n",
       "      <td>3499</td>\n",
       "      <td>1</td>\n",
       "      <td>3499</td>\n",
       "    </tr>\n",
       "    <tr>\n",
       "      <th>wastewater_plant</th>\n",
       "      <td>1</td>\n",
       "      <td>1</td>\n",
       "      <td>1</td>\n",
       "      <td>1</td>\n",
       "    </tr>\n",
       "    <tr>\n",
       "      <th>water_mill</th>\n",
       "      <td>1</td>\n",
       "      <td>1</td>\n",
       "      <td>1</td>\n",
       "      <td>1</td>\n",
       "    </tr>\n",
       "    <tr>\n",
       "      <th>water_tower</th>\n",
       "      <td>3</td>\n",
       "      <td>3</td>\n",
       "      <td>0</td>\n",
       "      <td>3</td>\n",
       "    </tr>\n",
       "    <tr>\n",
       "      <th>water_well</th>\n",
       "      <td>10</td>\n",
       "      <td>10</td>\n",
       "      <td>4</td>\n",
       "      <td>10</td>\n",
       "    </tr>\n",
       "    <tr>\n",
       "      <th>water_works</th>\n",
       "      <td>1</td>\n",
       "      <td>1</td>\n",
       "      <td>1</td>\n",
       "      <td>1</td>\n",
       "    </tr>\n",
       "    <tr>\n",
       "      <th>wayside_shrine</th>\n",
       "      <td>1</td>\n",
       "      <td>1</td>\n",
       "      <td>1</td>\n",
       "      <td>1</td>\n",
       "    </tr>\n",
       "    <tr>\n",
       "      <th>windmill</th>\n",
       "      <td>11</td>\n",
       "      <td>11</td>\n",
       "      <td>3</td>\n",
       "      <td>11</td>\n",
       "    </tr>\n",
       "    <tr>\n",
       "      <th>zoo</th>\n",
       "      <td>4</td>\n",
       "      <td>4</td>\n",
       "      <td>3</td>\n",
       "      <td>4</td>\n",
       "    </tr>\n",
       "  </tbody>\n",
       "</table>\n",
       "<p>130 rows × 4 columns</p>\n",
       "</div>"
      ],
      "text/plain": [
       "                osm_id  code  name  geometry\n",
       "fclass                                      \n",
       "archaeological      33    33    31        33\n",
       "arts_centre         37    37    35        37\n",
       "artwork            622   622   447       622\n",
       "atm               1418  1418    97      1418\n",
       "attraction         162   162   150       162\n",
       "...                ...   ...   ...       ...\n",
       "water_well          10    10     4        10\n",
       "water_works          1     1     1         1\n",
       "wayside_shrine       1     1     1         1\n",
       "windmill            11    11     3        11\n",
       "zoo                  4     4     3         4\n",
       "\n",
       "[130 rows x 4 columns]"
      ]
     },
     "execution_count": 52,
     "metadata": {},
     "output_type": "execute_result"
    }
   ],
   "source": [
    "pois.groupby('fclass').count()"
   ]
  },
  {
   "cell_type": "code",
   "execution_count": 65,
   "metadata": {},
   "outputs": [
    {
     "data": {
      "text/html": [
       "<div>\n",
       "<style scoped>\n",
       "    .dataframe tbody tr th:only-of-type {\n",
       "        vertical-align: middle;\n",
       "    }\n",
       "\n",
       "    .dataframe tbody tr th {\n",
       "        vertical-align: top;\n",
       "    }\n",
       "\n",
       "    .dataframe thead th {\n",
       "        text-align: right;\n",
       "    }\n",
       "</style>\n",
       "<table border=\"1\" class=\"dataframe\">\n",
       "  <thead>\n",
       "    <tr style=\"text-align: right;\">\n",
       "      <th></th>\n",
       "      <th>osm_id</th>\n",
       "      <th>code</th>\n",
       "      <th>fclass</th>\n",
       "      <th>name</th>\n",
       "      <th>geometry</th>\n",
       "    </tr>\n",
       "  </thead>\n",
       "  <tbody>\n",
       "    <tr>\n",
       "      <th>14363</th>\n",
       "      <td>715694321</td>\n",
       "      <td>2743</td>\n",
       "      <td>zoo</td>\n",
       "      <td>Beaver Water World</td>\n",
       "      <td>POINT (0.0173499 51.2891627)</td>\n",
       "    </tr>\n",
       "    <tr>\n",
       "      <th>20065</th>\n",
       "      <td>1333615707</td>\n",
       "      <td>2743</td>\n",
       "      <td>zoo</td>\n",
       "      <td>Old Macdonald Farm</td>\n",
       "      <td>POINT (0.2375653 51.6258833)</td>\n",
       "    </tr>\n",
       "    <tr>\n",
       "      <th>42765</th>\n",
       "      <td>4213593185</td>\n",
       "      <td>2743</td>\n",
       "      <td>zoo</td>\n",
       "      <td>Amazu</td>\n",
       "      <td>POINT (-0.3166278 51.3495078)</td>\n",
       "    </tr>\n",
       "    <tr>\n",
       "      <th>44139</th>\n",
       "      <td>4324851538</td>\n",
       "      <td>2743</td>\n",
       "      <td>zoo</td>\n",
       "      <td>None</td>\n",
       "      <td>POINT (-0.3864585 51.5926572)</td>\n",
       "    </tr>\n",
       "  </tbody>\n",
       "</table>\n",
       "</div>"
      ],
      "text/plain": [
       "           osm_id  code fclass                name  \\\n",
       "14363   715694321  2743    zoo  Beaver Water World   \n",
       "20065  1333615707  2743    zoo  Old Macdonald Farm   \n",
       "42765  4213593185  2743    zoo               Amazu   \n",
       "44139  4324851538  2743    zoo                None   \n",
       "\n",
       "                            geometry  \n",
       "14363   POINT (0.0173499 51.2891627)  \n",
       "20065   POINT (0.2375653 51.6258833)  \n",
       "42765  POINT (-0.3166278 51.3495078)  \n",
       "44139  POINT (-0.3864585 51.5926572)  "
      ]
     },
     "execution_count": 65,
     "metadata": {},
     "output_type": "execute_result"
    }
   ],
   "source": [
    "pois[pois['fclass']=='zoo']"
   ]
  },
  {
   "cell_type": "markdown",
   "metadata": {},
   "source": [
    "Let's count and plot the number of pubs by borough by:\n",
    "\n",
    "* checking the coordinate systems of the maps to combine. They need to be the same to use them together.\n",
    "* extracting the pubs from the `pois` DataFrame\n",
    "* joining the tables into a temporary table\n",
    "* counting the number of pubs in each borough\n",
    "* merging this new table back into the `boroughs` DataFrame"
   ]
  },
  {
   "cell_type": "code",
   "execution_count": 53,
   "metadata": {},
   "outputs": [
    {
     "data": {
      "image/png": "[encoded data removed]",
      "text/plain": [
       "<Figure size 432x288 with 1 Axes>"
      ]
     },
     "metadata": {
      "needs_background": "light"
     },
     "output_type": "display_data"
    }
   ],
   "source": [
    "pois[pois.fclass=='pub'].plot(column='fclass');"
   ]
  },
  {
   "cell_type": "markdown",
   "metadata": {},
   "source": [
    "The coordinate reference system (CRS) determines how the two-dimensional (planar) coordinates of the geometry objects should be related to actual places on the (non-planar) earth."
   ]
  },
  {
   "cell_type": "code",
   "execution_count": 54,
   "metadata": {},
   "outputs": [
    {
     "name": "stdout",
     "output_type": "stream",
     "text": [
      "{'init': 'epsg:4326'}\n",
      "{'init': 'epsg:4326'}\n"
     ]
    }
   ],
   "source": [
    "print(pois.crs)\n",
    "print(boroughs.crs)"
   ]
  },
  {
   "cell_type": "code",
   "execution_count": 55,
   "metadata": {},
   "outputs": [
    {
     "data": {
      "text/html": [
       "<div>\n",
       "<style scoped>\n",
       "    .dataframe tbody tr th:only-of-type {\n",
       "        vertical-align: middle;\n",
       "    }\n",
       "\n",
       "    .dataframe tbody tr th {\n",
       "        vertical-align: top;\n",
       "    }\n",
       "\n",
       "    .dataframe thead th {\n",
       "        text-align: right;\n",
       "    }\n",
       "</style>\n",
       "<table border=\"1\" class=\"dataframe\">\n",
       "  <thead>\n",
       "    <tr style=\"text-align: right;\">\n",
       "      <th></th>\n",
       "      <th>osm_id</th>\n",
       "      <th>code</th>\n",
       "      <th>fclass</th>\n",
       "      <th>name</th>\n",
       "      <th>geometry</th>\n",
       "    </tr>\n",
       "  </thead>\n",
       "  <tbody>\n",
       "    <tr>\n",
       "      <th>0</th>\n",
       "      <td>108042</td>\n",
       "      <td>2304</td>\n",
       "      <td>pub</td>\n",
       "      <td>Simmons</td>\n",
       "      <td>POINT (-0.1355294 51.5235359)</td>\n",
       "    </tr>\n",
       "    <tr>\n",
       "      <th>3</th>\n",
       "      <td>451152</td>\n",
       "      <td>2304</td>\n",
       "      <td>pub</td>\n",
       "      <td>The Dignity</td>\n",
       "      <td>POINT (-0.1946078 51.6008404)</td>\n",
       "    </tr>\n",
       "    <tr>\n",
       "      <th>5</th>\n",
       "      <td>451154</td>\n",
       "      <td>2304</td>\n",
       "      <td>pub</td>\n",
       "      <td>The Catcher in the Rye</td>\n",
       "      <td>POINT (-0.1960052 51.5995863)</td>\n",
       "    </tr>\n",
       "    <tr>\n",
       "      <th>6</th>\n",
       "      <td>451271</td>\n",
       "      <td>2304</td>\n",
       "      <td>pub</td>\n",
       "      <td>The Tally Ho</td>\n",
       "      <td>POINT (-0.1765046 51.6141038)</td>\n",
       "    </tr>\n",
       "    <tr>\n",
       "      <th>12</th>\n",
       "      <td>12242503</td>\n",
       "      <td>2304</td>\n",
       "      <td>pub</td>\n",
       "      <td>Railway Bell</td>\n",
       "      <td>POINT (0.0279621 51.5920158)</td>\n",
       "    </tr>\n",
       "  </tbody>\n",
       "</table>\n",
       "</div>"
      ],
      "text/plain": [
       "      osm_id  code fclass                    name  \\\n",
       "0     108042  2304    pub                 Simmons   \n",
       "3     451152  2304    pub             The Dignity   \n",
       "5     451154  2304    pub  The Catcher in the Rye   \n",
       "6     451271  2304    pub            The Tally Ho   \n",
       "12  12242503  2304    pub            Railway Bell   \n",
       "\n",
       "                         geometry  \n",
       "0   POINT (-0.1355294 51.5235359)  \n",
       "3   POINT (-0.1946078 51.6008404)  \n",
       "5   POINT (-0.1960052 51.5995863)  \n",
       "6   POINT (-0.1765046 51.6141038)  \n",
       "12   POINT (0.0279621 51.5920158)  "
      ]
     },
     "execution_count": 55,
     "metadata": {},
     "output_type": "execute_result"
    }
   ],
   "source": [
    "pubs = pois[pois['fclass']=='pub']\n",
    "pubs.head()"
   ]
  },
  {
   "cell_type": "code",
   "execution_count": 56,
   "metadata": {},
   "outputs": [
    {
     "data": {
      "text/html": [
       "<div>\n",
       "<style scoped>\n",
       "    .dataframe tbody tr th:only-of-type {\n",
       "        vertical-align: middle;\n",
       "    }\n",
       "\n",
       "    .dataframe tbody tr th {\n",
       "        vertical-align: top;\n",
       "    }\n",
       "\n",
       "    .dataframe thead th {\n",
       "        text-align: right;\n",
       "    }\n",
       "</style>\n",
       "<table border=\"1\" class=\"dataframe\">\n",
       "  <thead>\n",
       "    <tr style=\"text-align: right;\">\n",
       "      <th></th>\n",
       "      <th>id</th>\n",
       "      <th>name_left</th>\n",
       "      <th>area_hectares</th>\n",
       "      <th>inner_statistical</th>\n",
       "      <th>geometry</th>\n",
       "      <th>all</th>\n",
       "      <th>Area_name</th>\n",
       "      <th>Inner/_Outer_London</th>\n",
       "      <th>GLA_Population_Estimate_2017</th>\n",
       "      <th>GLA_Household_Estimate_2017</th>\n",
       "      <th>...</th>\n",
       "      <th>Proportion_of_seats_won_by_Conservatives_in_2014_election</th>\n",
       "      <th>Proportion_of_seats_won_by_Labour_in_2014_election</th>\n",
       "      <th>Proportion_of_seats_won_by_Lib_Dems_in_2014_election</th>\n",
       "      <th>Turnout_at_2014_local_elections</th>\n",
       "      <th>paygap</th>\n",
       "      <th>index_right</th>\n",
       "      <th>osm_id</th>\n",
       "      <th>code</th>\n",
       "      <th>fclass</th>\n",
       "      <th>name_right</th>\n",
       "    </tr>\n",
       "  </thead>\n",
       "  <tbody>\n",
       "    <tr>\n",
       "      <th>E09000001</th>\n",
       "      <td>33</td>\n",
       "      <td>City of London</td>\n",
       "      <td>314.942</td>\n",
       "      <td>1</td>\n",
       "      <td>(POLYGON ((-0.111574406694964 51.5107549197, -...</td>\n",
       "      <td>1</td>\n",
       "      <td>City of London</td>\n",
       "      <td>Inner London</td>\n",
       "      <td>8800.0</td>\n",
       "      <td>5326.0</td>\n",
       "      <td>...</td>\n",
       "      <td>NaN</td>\n",
       "      <td>NaN</td>\n",
       "      <td>NaN</td>\n",
       "      <td>NaN</td>\n",
       "      <td>NaN</td>\n",
       "      <td>5709</td>\n",
       "      <td>316763478</td>\n",
       "      <td>2304</td>\n",
       "      <td>pub</td>\n",
       "      <td>The Paternoster</td>\n",
       "    </tr>\n",
       "    <tr>\n",
       "      <th>E09000001</th>\n",
       "      <td>33</td>\n",
       "      <td>City of London</td>\n",
       "      <td>314.942</td>\n",
       "      <td>1</td>\n",
       "      <td>(POLYGON ((-0.111574406694964 51.5107549197, -...</td>\n",
       "      <td>1</td>\n",
       "      <td>City of London</td>\n",
       "      <td>Inner London</td>\n",
       "      <td>8800.0</td>\n",
       "      <td>5326.0</td>\n",
       "      <td>...</td>\n",
       "      <td>NaN</td>\n",
       "      <td>NaN</td>\n",
       "      <td>NaN</td>\n",
       "      <td>NaN</td>\n",
       "      <td>NaN</td>\n",
       "      <td>59</td>\n",
       "      <td>21693791</td>\n",
       "      <td>2304</td>\n",
       "      <td>pub</td>\n",
       "      <td>The Saint</td>\n",
       "    </tr>\n",
       "    <tr>\n",
       "      <th>E09000001</th>\n",
       "      <td>33</td>\n",
       "      <td>City of London</td>\n",
       "      <td>314.942</td>\n",
       "      <td>1</td>\n",
       "      <td>(POLYGON ((-0.111574406694964 51.5107549197, -...</td>\n",
       "      <td>1</td>\n",
       "      <td>City of London</td>\n",
       "      <td>Inner London</td>\n",
       "      <td>8800.0</td>\n",
       "      <td>5326.0</td>\n",
       "      <td>...</td>\n",
       "      <td>NaN</td>\n",
       "      <td>NaN</td>\n",
       "      <td>NaN</td>\n",
       "      <td>NaN</td>\n",
       "      <td>NaN</td>\n",
       "      <td>41578</td>\n",
       "      <td>4009487830</td>\n",
       "      <td>2304</td>\n",
       "      <td>pub</td>\n",
       "      <td>City Bar &amp; Kitchen</td>\n",
       "    </tr>\n",
       "    <tr>\n",
       "      <th>E09000001</th>\n",
       "      <td>33</td>\n",
       "      <td>City of London</td>\n",
       "      <td>314.942</td>\n",
       "      <td>1</td>\n",
       "      <td>(POLYGON ((-0.111574406694964 51.5107549197, -...</td>\n",
       "      <td>1</td>\n",
       "      <td>City of London</td>\n",
       "      <td>Inner London</td>\n",
       "      <td>8800.0</td>\n",
       "      <td>5326.0</td>\n",
       "      <td>...</td>\n",
       "      <td>NaN</td>\n",
       "      <td>NaN</td>\n",
       "      <td>NaN</td>\n",
       "      <td>NaN</td>\n",
       "      <td>NaN</td>\n",
       "      <td>5405</td>\n",
       "      <td>306478017</td>\n",
       "      <td>2304</td>\n",
       "      <td>pub</td>\n",
       "      <td>The Telegraph</td>\n",
       "    </tr>\n",
       "    <tr>\n",
       "      <th>E09000001</th>\n",
       "      <td>33</td>\n",
       "      <td>City of London</td>\n",
       "      <td>314.942</td>\n",
       "      <td>1</td>\n",
       "      <td>(POLYGON ((-0.111574406694964 51.5107549197, -...</td>\n",
       "      <td>1</td>\n",
       "      <td>City of London</td>\n",
       "      <td>Inner London</td>\n",
       "      <td>8800.0</td>\n",
       "      <td>5326.0</td>\n",
       "      <td>...</td>\n",
       "      <td>NaN</td>\n",
       "      <td>NaN</td>\n",
       "      <td>NaN</td>\n",
       "      <td>NaN</td>\n",
       "      <td>NaN</td>\n",
       "      <td>3622</td>\n",
       "      <td>276920899</td>\n",
       "      <td>2304</td>\n",
       "      <td>pub</td>\n",
       "      <td>The Gable</td>\n",
       "    </tr>\n",
       "  </tbody>\n",
       "</table>\n",
       "<p>5 rows × 95 columns</p>\n",
       "</div>"
      ],
      "text/plain": [
       "           id       name_left  area_hectares  inner_statistical  \\\n",
       "E09000001  33  City of London        314.942                  1   \n",
       "E09000001  33  City of London        314.942                  1   \n",
       "E09000001  33  City of London        314.942                  1   \n",
       "E09000001  33  City of London        314.942                  1   \n",
       "E09000001  33  City of London        314.942                  1   \n",
       "\n",
       "                                                    geometry  all  \\\n",
       "E09000001  (POLYGON ((-0.111574406694964 51.5107549197, -...    1   \n",
       "E09000001  (POLYGON ((-0.111574406694964 51.5107549197, -...    1   \n",
       "E09000001  (POLYGON ((-0.111574406694964 51.5107549197, -...    1   \n",
       "E09000001  (POLYGON ((-0.111574406694964 51.5107549197, -...    1   \n",
       "E09000001  (POLYGON ((-0.111574406694964 51.5107549197, -...    1   \n",
       "\n",
       "                Area_name Inner/_Outer_London  GLA_Population_Estimate_2017  \\\n",
       "E09000001  City of London        Inner London                        8800.0   \n",
       "E09000001  City of London        Inner London                        8800.0   \n",
       "E09000001  City of London        Inner London                        8800.0   \n",
       "E09000001  City of London        Inner London                        8800.0   \n",
       "E09000001  City of London        Inner London                        8800.0   \n",
       "\n",
       "           GLA_Household_Estimate_2017  ...  \\\n",
       "E09000001                       5326.0  ...   \n",
       "E09000001                       5326.0  ...   \n",
       "E09000001                       5326.0  ...   \n",
       "E09000001                       5326.0  ...   \n",
       "E09000001                       5326.0  ...   \n",
       "\n",
       "           Proportion_of_seats_won_by_Conservatives_in_2014_election  \\\n",
       "E09000001                                                NaN           \n",
       "E09000001                                                NaN           \n",
       "E09000001                                                NaN           \n",
       "E09000001                                                NaN           \n",
       "E09000001                                                NaN           \n",
       "\n",
       "           Proportion_of_seats_won_by_Labour_in_2014_election  \\\n",
       "E09000001                                                NaN    \n",
       "E09000001                                                NaN    \n",
       "E09000001                                                NaN    \n",
       "E09000001                                                NaN    \n",
       "E09000001                                                NaN    \n",
       "\n",
       "           Proportion_of_seats_won_by_Lib_Dems_in_2014_election  \\\n",
       "E09000001                                                NaN      \n",
       "E09000001                                                NaN      \n",
       "E09000001                                                NaN      \n",
       "E09000001                                                NaN      \n",
       "E09000001                                                NaN      \n",
       "\n",
       "           Turnout_at_2014_local_elections  paygap  index_right      osm_id  \\\n",
       "E09000001                              NaN     NaN         5709   316763478   \n",
       "E09000001                              NaN     NaN           59    21693791   \n",
       "E09000001                              NaN     NaN        41578  4009487830   \n",
       "E09000001                              NaN     NaN         5405   306478017   \n",
       "E09000001                              NaN     NaN         3622   276920899   \n",
       "\n",
       "           code  fclass          name_right  \n",
       "E09000001  2304     pub     The Paternoster  \n",
       "E09000001  2304     pub           The Saint  \n",
       "E09000001  2304     pub  City Bar & Kitchen  \n",
       "E09000001  2304     pub       The Telegraph  \n",
       "E09000001  2304     pub           The Gable  \n",
       "\n",
       "[5 rows x 95 columns]"
      ]
     },
     "execution_count": 56,
     "metadata": {},
     "output_type": "execute_result"
    }
   ],
   "source": [
    "pubs2 = gpd.sjoin(boroughs,pubs) \n",
    "pubs2.head()"
   ]
  },
  {
   "cell_type": "code",
   "execution_count": 67,
   "metadata": {},
   "outputs": [
    {
     "data": {
      "text/plain": [
       "name_left\n",
       "Barking and Dagenham        9\n",
       "Barnet                     42\n",
       "Bexley                     60\n",
       "Brent                      25\n",
       "Bromley                    81\n",
       "Camden                    115\n",
       "City of London             95\n",
       "Croydon                    49\n",
       "Ealing                     69\n",
       "Enfield                    58\n",
       "Greenwich                  51\n",
       "Hackney                    53\n",
       "Hammersmith and Fulham     65\n",
       "Haringey                   48\n",
       "Harrow                     25\n",
       "Havering                   41\n",
       "Hillingdon                 59\n",
       "Hounslow                   68\n",
       "Islington                 101\n",
       "Kensington and Chelsea     57\n",
       "Kingston upon Thames       46\n",
       "Lambeth                   104\n",
       "Lewisham                   54\n",
       "Merton                     32\n",
       "Newham                     42\n",
       "Redbridge                  19\n",
       "Richmond upon Thames       42\n",
       "Southwark                  91\n",
       "Sutton                     34\n",
       "Tower Hamlets              52\n",
       "Waltham Forest             25\n",
       "Wandsworth                 81\n",
       "Westminster               122\n",
       "Name: id, dtype: int64"
      ]
     },
     "execution_count": 67,
     "metadata": {},
     "output_type": "execute_result"
    }
   ],
   "source": [
    "pubs2.groupby('name_left').count()['id']"
   ]
  },
  {
   "cell_type": "code",
   "execution_count": 57,
   "metadata": {},
   "outputs": [
    {
     "data": {
      "text/html": [
       "<div>\n",
       "<style scoped>\n",
       "    .dataframe tbody tr th:only-of-type {\n",
       "        vertical-align: middle;\n",
       "    }\n",
       "\n",
       "    .dataframe tbody tr th {\n",
       "        vertical-align: top;\n",
       "    }\n",
       "\n",
       "    .dataframe thead th {\n",
       "        text-align: right;\n",
       "    }\n",
       "</style>\n",
       "<table border=\"1\" class=\"dataframe\">\n",
       "  <thead>\n",
       "    <tr style=\"text-align: right;\">\n",
       "      <th>fclass</th>\n",
       "      <th>name_left</th>\n",
       "      <th>pub</th>\n",
       "    </tr>\n",
       "  </thead>\n",
       "  <tbody>\n",
       "    <tr>\n",
       "      <th>0</th>\n",
       "      <td>Barking and Dagenham</td>\n",
       "      <td>9</td>\n",
       "    </tr>\n",
       "    <tr>\n",
       "      <th>1</th>\n",
       "      <td>Barnet</td>\n",
       "      <td>42</td>\n",
       "    </tr>\n",
       "    <tr>\n",
       "      <th>2</th>\n",
       "      <td>Bexley</td>\n",
       "      <td>60</td>\n",
       "    </tr>\n",
       "    <tr>\n",
       "      <th>3</th>\n",
       "      <td>Brent</td>\n",
       "      <td>25</td>\n",
       "    </tr>\n",
       "    <tr>\n",
       "      <th>4</th>\n",
       "      <td>Bromley</td>\n",
       "      <td>81</td>\n",
       "    </tr>\n",
       "  </tbody>\n",
       "</table>\n",
       "</div>"
      ],
      "text/plain": [
       "fclass             name_left  pub\n",
       "0       Barking and Dagenham    9\n",
       "1                     Barnet   42\n",
       "2                     Bexley   60\n",
       "3                      Brent   25\n",
       "4                    Bromley   81"
      ]
     },
     "execution_count": 57,
     "metadata": {},
     "output_type": "execute_result"
    }
   ],
   "source": [
    "pubs3 = pd.pivot_table(pubs2,index='name_left',columns='fclass',aggfunc={'fclass':'count'})\n",
    "pubs3.columns = pubs3.columns.droplevel()\n",
    "pubs3 = pubs3.reset_index()\n",
    "pubs3.head()"
   ]
  },
  {
   "cell_type": "code",
   "execution_count": 58,
   "metadata": {},
   "outputs": [
    {
     "data": {
      "text/html": [
       "<div>\n",
       "<style scoped>\n",
       "    .dataframe tbody tr th:only-of-type {\n",
       "        vertical-align: middle;\n",
       "    }\n",
       "\n",
       "    .dataframe tbody tr th {\n",
       "        vertical-align: top;\n",
       "    }\n",
       "\n",
       "    .dataframe thead th {\n",
       "        text-align: right;\n",
       "    }\n",
       "</style>\n",
       "<table border=\"1\" class=\"dataframe\">\n",
       "  <thead>\n",
       "    <tr style=\"text-align: right;\">\n",
       "      <th></th>\n",
       "      <th>id</th>\n",
       "      <th>name</th>\n",
       "      <th>area_hectares</th>\n",
       "      <th>inner_statistical</th>\n",
       "      <th>geometry</th>\n",
       "      <th>all</th>\n",
       "      <th>Area_name</th>\n",
       "      <th>Inner/_Outer_London</th>\n",
       "      <th>GLA_Population_Estimate_2017</th>\n",
       "      <th>GLA_Household_Estimate_2017</th>\n",
       "      <th>...</th>\n",
       "      <th>People_aged_17+_with_diabetes_(%)</th>\n",
       "      <th>Mortality_rate_from_causes_considered_preventable_2012/14</th>\n",
       "      <th>Political_control_in_council</th>\n",
       "      <th>Proportion_of_seats_won_by_Conservatives_in_2014_election</th>\n",
       "      <th>Proportion_of_seats_won_by_Labour_in_2014_election</th>\n",
       "      <th>Proportion_of_seats_won_by_Lib_Dems_in_2014_election</th>\n",
       "      <th>Turnout_at_2014_local_elections</th>\n",
       "      <th>paygap</th>\n",
       "      <th>name_left</th>\n",
       "      <th>pub</th>\n",
       "    </tr>\n",
       "  </thead>\n",
       "  <tbody>\n",
       "    <tr>\n",
       "      <th>0</th>\n",
       "      <td>33</td>\n",
       "      <td>City of London</td>\n",
       "      <td>314.942</td>\n",
       "      <td>1</td>\n",
       "      <td>(POLYGON ((-0.111574406694964 51.5107549197, -...</td>\n",
       "      <td>1</td>\n",
       "      <td>City of London</td>\n",
       "      <td>Inner London</td>\n",
       "      <td>8800.0</td>\n",
       "      <td>5326.0</td>\n",
       "      <td>...</td>\n",
       "      <td>2.6</td>\n",
       "      <td>129.0</td>\n",
       "      <td>NaN</td>\n",
       "      <td>NaN</td>\n",
       "      <td>NaN</td>\n",
       "      <td>NaN</td>\n",
       "      <td>NaN</td>\n",
       "      <td>NaN</td>\n",
       "      <td>City of London</td>\n",
       "      <td>95</td>\n",
       "    </tr>\n",
       "    <tr>\n",
       "      <th>1</th>\n",
       "      <td>32</td>\n",
       "      <td>Barking and Dagenham</td>\n",
       "      <td>3779.934</td>\n",
       "      <td>0</td>\n",
       "      <td>(POLYGON ((0.07316567606867801 51.529370200593...</td>\n",
       "      <td>1</td>\n",
       "      <td>Barking and Dagenham</td>\n",
       "      <td>Outer London</td>\n",
       "      <td>209000.0</td>\n",
       "      <td>78188.0</td>\n",
       "      <td>...</td>\n",
       "      <td>7.3</td>\n",
       "      <td>228.0</td>\n",
       "      <td>Lab</td>\n",
       "      <td>0.0</td>\n",
       "      <td>100.0</td>\n",
       "      <td>0.0</td>\n",
       "      <td>36.5</td>\n",
       "      <td>18.276641</td>\n",
       "      <td>Barking and Dagenham</td>\n",
       "      <td>9</td>\n",
       "    </tr>\n",
       "    <tr>\n",
       "      <th>2</th>\n",
       "      <td>10</td>\n",
       "      <td>Barnet</td>\n",
       "      <td>8674.837</td>\n",
       "      <td>0</td>\n",
       "      <td>(POLYGON ((-0.199896404443971 51.6701668576827...</td>\n",
       "      <td>1</td>\n",
       "      <td>Barnet</td>\n",
       "      <td>Outer London</td>\n",
       "      <td>389600.0</td>\n",
       "      <td>151423.0</td>\n",
       "      <td>...</td>\n",
       "      <td>6.0</td>\n",
       "      <td>134.0</td>\n",
       "      <td>Cons</td>\n",
       "      <td>50.8</td>\n",
       "      <td>NaN</td>\n",
       "      <td>1.6</td>\n",
       "      <td>40.5</td>\n",
       "      <td>14.366004</td>\n",
       "      <td>Barnet</td>\n",
       "      <td>42</td>\n",
       "    </tr>\n",
       "    <tr>\n",
       "      <th>3</th>\n",
       "      <td>15</td>\n",
       "      <td>Bexley</td>\n",
       "      <td>6428.649</td>\n",
       "      <td>0</td>\n",
       "      <td>(POLYGON ((0.120210839063794 51.5114446653239,...</td>\n",
       "      <td>1</td>\n",
       "      <td>Bexley</td>\n",
       "      <td>Outer London</td>\n",
       "      <td>244300.0</td>\n",
       "      <td>97736.0</td>\n",
       "      <td>...</td>\n",
       "      <td>6.9</td>\n",
       "      <td>164.0</td>\n",
       "      <td>Cons</td>\n",
       "      <td>71.4</td>\n",
       "      <td>23.8</td>\n",
       "      <td>0.0</td>\n",
       "      <td>39.6</td>\n",
       "      <td>23.645099</td>\n",
       "      <td>Bexley</td>\n",
       "      <td>60</td>\n",
       "    </tr>\n",
       "    <tr>\n",
       "      <th>4</th>\n",
       "      <td>9</td>\n",
       "      <td>Brent</td>\n",
       "      <td>4323.270</td>\n",
       "      <td>0</td>\n",
       "      <td>(POLYGON ((-0.196568746300418 51.5276540106305...</td>\n",
       "      <td>1</td>\n",
       "      <td>Brent</td>\n",
       "      <td>Outer London</td>\n",
       "      <td>332100.0</td>\n",
       "      <td>121048.0</td>\n",
       "      <td>...</td>\n",
       "      <td>7.9</td>\n",
       "      <td>169.0</td>\n",
       "      <td>Lab</td>\n",
       "      <td>9.5</td>\n",
       "      <td>88.9</td>\n",
       "      <td>1.6</td>\n",
       "      <td>36.3</td>\n",
       "      <td>1.755783</td>\n",
       "      <td>Brent</td>\n",
       "      <td>25</td>\n",
       "    </tr>\n",
       "  </tbody>\n",
       "</table>\n",
       "<p>5 rows × 92 columns</p>\n",
       "</div>"
      ],
      "text/plain": [
       "   id                  name  area_hectares  inner_statistical  \\\n",
       "0  33        City of London        314.942                  1   \n",
       "1  32  Barking and Dagenham       3779.934                  0   \n",
       "2  10                Barnet       8674.837                  0   \n",
       "3  15                Bexley       6428.649                  0   \n",
       "4   9                 Brent       4323.270                  0   \n",
       "\n",
       "                                            geometry  all  \\\n",
       "0  (POLYGON ((-0.111574406694964 51.5107549197, -...    1   \n",
       "1  (POLYGON ((0.07316567606867801 51.529370200593...    1   \n",
       "2  (POLYGON ((-0.199896404443971 51.6701668576827...    1   \n",
       "3  (POLYGON ((0.120210839063794 51.5114446653239,...    1   \n",
       "4  (POLYGON ((-0.196568746300418 51.5276540106305...    1   \n",
       "\n",
       "              Area_name Inner/_Outer_London  GLA_Population_Estimate_2017  \\\n",
       "0        City of London        Inner London                        8800.0   \n",
       "1  Barking and Dagenham        Outer London                      209000.0   \n",
       "2                Barnet        Outer London                      389600.0   \n",
       "3                Bexley        Outer London                      244300.0   \n",
       "4                 Brent        Outer London                      332100.0   \n",
       "\n",
       "   GLA_Household_Estimate_2017  ...  People_aged_17+_with_diabetes_(%)  \\\n",
       "0                       5326.0  ...                                2.6   \n",
       "1                      78188.0  ...                                7.3   \n",
       "2                     151423.0  ...                                6.0   \n",
       "3                      97736.0  ...                                6.9   \n",
       "4                     121048.0  ...                                7.9   \n",
       "\n",
       "   Mortality_rate_from_causes_considered_preventable_2012/14  \\\n",
       "0                                              129.0           \n",
       "1                                              228.0           \n",
       "2                                              134.0           \n",
       "3                                              164.0           \n",
       "4                                              169.0           \n",
       "\n",
       "   Political_control_in_council  \\\n",
       "0                           NaN   \n",
       "1                           Lab   \n",
       "2                          Cons   \n",
       "3                          Cons   \n",
       "4                           Lab   \n",
       "\n",
       "   Proportion_of_seats_won_by_Conservatives_in_2014_election  \\\n",
       "0                                                NaN           \n",
       "1                                                0.0           \n",
       "2                                               50.8           \n",
       "3                                               71.4           \n",
       "4                                                9.5           \n",
       "\n",
       "   Proportion_of_seats_won_by_Labour_in_2014_election  \\\n",
       "0                                                NaN    \n",
       "1                                              100.0    \n",
       "2                                                NaN    \n",
       "3                                               23.8    \n",
       "4                                               88.9    \n",
       "\n",
       "   Proportion_of_seats_won_by_Lib_Dems_in_2014_election  \\\n",
       "0                                                NaN      \n",
       "1                                                0.0      \n",
       "2                                                1.6      \n",
       "3                                                0.0      \n",
       "4                                                1.6      \n",
       "\n",
       "   Turnout_at_2014_local_elections     paygap             name_left  pub  \n",
       "0                              NaN        NaN        City of London   95  \n",
       "1                             36.5  18.276641  Barking and Dagenham    9  \n",
       "2                             40.5  14.366004                Barnet   42  \n",
       "3                             39.6  23.645099                Bexley   60  \n",
       "4                             36.3   1.755783                 Brent   25  \n",
       "\n",
       "[5 rows x 92 columns]"
      ]
     },
     "execution_count": 58,
     "metadata": {},
     "output_type": "execute_result"
    }
   ],
   "source": [
    "boroughs = boroughs.merge(pubs3, left_on='name',right_on='name_left')\n",
    "boroughs.head()"
   ]
  },
  {
   "cell_type": "code",
   "execution_count": 59,
   "metadata": {},
   "outputs": [
    {
     "data": {
      "image/png": "[encoded data removed]",
      "text/plain": [
       "<Figure size 864x576 with 1 Axes>"
      ]
     },
     "metadata": {
      "needs_background": "light"
     },
     "output_type": "display_data"
    }
   ],
   "source": [
    "[fig,ax] = plt.subplots(1, figsize=(12, 8))\n",
    "\n",
    "boroughs.plot(column='pub',cmap='Blues', edgecolor='black', linewidth=0.5, \n",
    "              legend=True, ax=ax, scheme='equal_interval');\n",
    "ax.axis('off');\n",
    "ax.set_title('Pubs in London');\n"
   ]
  },
  {
   "cell_type": "markdown",
   "metadata": {},
   "source": [
    "A different way to visualize this is with a heatmap:"
   ]
  },
  {
   "cell_type": "code",
   "execution_count": 60,
   "metadata": {},
   "outputs": [
    {
     "data": {
      "text/plain": [
       "<matplotlib.axes._subplots.AxesSubplot at 0x7f552eb7c250>"
      ]
     },
     "execution_count": 60,
     "metadata": {},
     "output_type": "execute_result"
    },
    {
     "data": {
      "image/png": "[encoded data removed]",
      "text/plain": [
       "<Figure size 864x576 with 1 Axes>"
      ]
     },
     "metadata": {
      "needs_background": "light"
     },
     "output_type": "display_data"
    }
   ],
   "source": [
    "import geoplot \n",
    "[fig,ax] = plt.subplots(1, figsize=(12, 8))\n",
    "\n",
    "geoplot.kdeplot(\n",
    "    pubs, clip=boroughs.geometry, n_levels=10, \n",
    "    shade=True, cmap='Greens', ax=ax)\n",
    "geoplot.polyplot(boroughs, ax=ax, alpha=1, edgecolor='black', linewidth=0.5)"
   ]
  },
  {
   "cell_type": "markdown",
   "metadata": {},
   "source": [
    "<div class=\"alert alert-success\">\n",
    " <b>EXERCISE</b> <br/> \n",
    " Explore the data further with GeoPandas. Some suggestions of what to look at: <br/> \n",
    "   <ul>\n",
    "  <li> Create a map that only shows all points of one of the POI classes for one of the boroughs.  </li>\n",
    "  <li> Add another POI class to the boroughs table.</li>\n",
    "  <li> Are the columns in the borough table related to any of the POI classes. Try making scatter plots or bar charts.  </li>     \n",
    "  </ul> \n",
    "</div>  "
   ]
  },
  {
   "cell_type": "code",
   "execution_count": null,
   "metadata": {},
   "outputs": [],
   "source": [
    "# your answers (add as many cells as you need)\n"
   ]
  },
  {
   "cell_type": "markdown",
   "metadata": {},
   "source": [
    "Hopefully you got an idea of the possibilities with geospatial data now. There is a lot more to explore with this data. Let me know if you find anything interesting! I am on Twitter as @MargrietGr. \n",
    "\n",
    "### Author\n",
    "Margriet Groenendijk is a Data & AI Developer Advocate for IBM. She develops and presents talks and workshops about data science and AI. She is active in the local developer communities through attending, presenting and organising meetups. She has a background in climate science where she explored large observational datasets of carbon uptake by forests during her PhD, and global scale weather and climate models as a postdoctoral fellow. \n",
    "\n",
    "Copyright © 2019 IBM. This notebook and its source code are released under the terms of the MIT License."
   ]
  },
  {
   "cell_type": "code",
   "execution_count": 68,
   "metadata": {},
   "outputs": [
    {
     "data": {
      "text/plain": [
       "Index(['id', 'name', 'area_hectares', 'inner_statistical', 'geometry', 'all',\n",
       "       'Area_name', 'Inner/_Outer_London', 'GLA_Population_Estimate_2017',\n",
       "       'GLA_Household_Estimate_2017', 'Inland_Area_(Hectares)',\n",
       "       'Population_density_(per_hectare)_2017', 'Average_Age,_2017',\n",
       "       'Proportion_of_population_aged_0-15,_2015',\n",
       "       'Proportion_of_population_of_working-age,_2015',\n",
       "       'Proportion_of_population_aged_65_and_over,_2015',\n",
       "       'Net_internal_migration_(2015)', 'Net_international_migration_(2015)',\n",
       "       'Net_natural_change_(2015)',\n",
       "       '%_of_resident_population_born_abroad_(2015)',\n",
       "       'Largest_migrant_population_by_country_of_birth_(2011)',\n",
       "       '%_of_largest_migrant_population_(2011)',\n",
       "       'Second_largest_migrant_population_by_country_of_birth_(2011)',\n",
       "       '%_of_second_largest_migrant_population_(2011)',\n",
       "       'Third_largest_migrant_population_by_country_of_birth_(2011)',\n",
       "       '%_of_third_largest_migrant_population_(2011)',\n",
       "       '%_of_population_from_BAME_groups_(2016)',\n",
       "       '%_people_aged_3+_whose_main_language_is_not_English_(2011_Census)',\n",
       "       'Overseas_nationals_entering_the_UK_(NINo),_(2015/16)',\n",
       "       'New_migrant_(NINo)_rates,_(2015/16)',\n",
       "       'Largest_migrant_population_arrived_during_2015/16',\n",
       "       'Second_largest_migrant_population_arrived_during_2015/16',\n",
       "       'Third_largest_migrant_population_arrived_during_2015/16',\n",
       "       'Employment_rate_(%)_(2015)', 'Male_employment_rate_(2015)',\n",
       "       'Female_employment_rate_(2015)', 'Unemployment_rate_(2015)',\n",
       "       'Youth_Unemployment_(claimant)_rate_18-24_(Dec-15)',\n",
       "       'Proportion_of_16-18_year_olds_who_are_NEET_(%)_(2014)',\n",
       "       'Proportion_of_the_working-age_population_who_claim_out-of-work_benefits_(%)_(May-2016)',\n",
       "       '%_working-age_with_a_disability_(2015)',\n",
       "       'Proportion_of_working_age_people_with_no_qualifications_(%)_2015',\n",
       "       'Proportion_of_working_age_with_degree_or_equivalent_and_above_(%)_2015',\n",
       "       'Gross_Annual_Pay,_(2016)', 'Gross_Annual_Pay_-_Male_(2016)',\n",
       "       'Gross_Annual_Pay_-_Female_(2016)',\n",
       "       'Modelled_Household_median_income_estimates_2012/13',\n",
       "       '%_adults_that_volunteered_in_past_12_months_(2010/11_to_2012/13)',\n",
       "       'Number_of_jobs_by_workplace_(2014)',\n",
       "       '%_of_employment_that_is_in_public_sector_(2014)', 'Jobs_Density,_2015',\n",
       "       'Number_of_active_businesses,_2015',\n",
       "       'Two-year_business_survival_rates_(started_in_2013)',\n",
       "       'Crime_rates_per_thousand_population_2014/15',\n",
       "       'Fires_per_thousand_population_(2014)',\n",
       "       'Ambulance_incidents_per_hundred_population_(2014)',\n",
       "       'Median_House_Price,_2015',\n",
       "       'Average_Band_D_Council_Tax_charge_(£),_2015/16',\n",
       "       'New_Homes_(net)_2015/16_(provisional)',\n",
       "       'Homes_Owned_outright,_(2014)_%',\n",
       "       'Being_bought_with_mortgage_or_loan,_(2014)_%',\n",
       "       'Rented_from_Local_Authority_or_Housing_Association,_(2014)_%',\n",
       "       'Rented_from_Private_landlord,_(2014)_%',\n",
       "       '%_of_area_that_is_Greenspace,_2005', 'Total_carbon_emissions_(2014)',\n",
       "       'Household_Waste_Recycling_Rate,_2014/15',\n",
       "       'Number_of_cars,_(2011_Census)',\n",
       "       'Number_of_cars_per_household,_(2011_Census)',\n",
       "       '%_of_adults_who_cycle_at_least_once_per_month,_2014/15',\n",
       "       'Average_Public_Transport_Accessibility_score,_2014',\n",
       "       'Achievement_of_5_or_more_A*-_C_grades_at_GCSE_or_equivalent_including_English_and_Maths,_2013/14',\n",
       "       'Rates_of_Children_Looked_After_(2016)',\n",
       "       '%_of_pupils_whose_first_language_is_not_English_(2015)',\n",
       "       '%_children_living_in_out-of-work_households_(2015)',\n",
       "       'Male_life_expectancy,_(2012-14)', 'Female_life_expectancy,_(2012-14)',\n",
       "       'Teenage_conception_rate_(2014)',\n",
       "       'Life_satisfaction_score_2011-14_(out_of_10)',\n",
       "       'Worthwhileness_score_2011-14_(out_of_10)',\n",
       "       'Happiness_score_2011-14_(out_of_10)',\n",
       "       'Anxiety_score_2011-14_(out_of_10)',\n",
       "       'Childhood_Obesity_Prevalance_(%)_2015/16',\n",
       "       'People_aged_17+_with_diabetes_(%)',\n",
       "       'Mortality_rate_from_causes_considered_preventable_2012/14',\n",
       "       'Political_control_in_council',\n",
       "       'Proportion_of_seats_won_by_Conservatives_in_2014_election',\n",
       "       'Proportion_of_seats_won_by_Labour_in_2014_election',\n",
       "       'Proportion_of_seats_won_by_Lib_Dems_in_2014_election',\n",
       "       'Turnout_at_2014_local_elections', 'paygap', 'name_left', 'pub'],\n",
       "      dtype='object')"
      ]
     },
     "execution_count": 68,
     "metadata": {},
     "output_type": "execute_result"
    }
   ],
   "source": [
    "boroughs.columns"
   ]
  },
  {
   "cell_type": "code",
   "execution_count": 69,
   "metadata": {},
   "outputs": [],
   "source": [
    "%matplotlib inline\n",
    "\n",
    "import matplotlib.pyplot as plt"
   ]
  },
  {
   "cell_type": "code",
   "execution_count": 70,
   "metadata": {},
   "outputs": [],
   "source": [
    "import seaborn as sns"
   ]
  },
  {
   "cell_type": "code",
   "execution_count": 71,
   "metadata": {},
   "outputs": [
    {
     "data": {
      "image/png": "[encoded data removed]",
      "text/plain": [
       "<Figure size 432x288 with 1 Axes>"
      ]
     },
     "metadata": {
      "needs_background": "light"
     },
     "output_type": "display_data"
    }
   ],
   "source": [
    "sns.distplot(boroughs['Population_density_(per_hectare)_2017'].dropna());"
   ]
  },
  {
   "cell_type": "code",
   "execution_count": 72,
   "metadata": {},
   "outputs": [
    {
     "data": {
      "image/png": "[encoded data removed]",
      "text/plain": [
       "<Figure size 360x360 with 1 Axes>"
      ]
     },
     "metadata": {
      "needs_background": "light"
     },
     "output_type": "display_data"
    }
   ],
   "source": [
    "sns.catplot(x='Turnout_at_2014_local_elections', y='Political_control_in_council', data=boroughs);"
   ]
  },
  {
   "cell_type": "code",
   "execution_count": 75,
   "metadata": {},
   "outputs": [
    {
     "data": {
      "text/plain": [
       "<seaborn.axisgrid.FacetGrid at 0x7f55340f3d90>"
      ]
     },
     "execution_count": 75,
     "metadata": {},
     "output_type": "execute_result"
    },
    {
     "data": {
      "image/png": "[encoded data removed]",
      "text/plain": [
       "<Figure size 360x360 with 1 Axes>"
      ]
     },
     "metadata": {
      "needs_background": "light"
     },
     "output_type": "display_data"
    }
   ],
   "source": [
    "sns.catplot(x='Gross_Annual_Pay,_(2016)', y='pub', data=boroughs)"
   ]
  },
  {
   "cell_type": "code",
   "execution_count": 77,
   "metadata": {},
   "outputs": [
    {
     "data": {
      "text/plain": [
       "<matplotlib.collections.PathCollection at 0x7f552e92fad0>"
      ]
     },
     "execution_count": 77,
     "metadata": {},
     "output_type": "execute_result"
    },
    {
     "data": {
      "image/png": "[encoded data removed]",
      "text/plain": [
       "<Figure size 432x288 with 1 Axes>"
      ]
     },
     "metadata": {
      "needs_background": "light"
     },
     "output_type": "display_data"
    }
   ],
   "source": [
    "plt.scatter(boroughs['Gross_Annual_Pay,_(2016)'], boroughs['pub'])"
   ]
  },
  {
   "cell_type": "code",
   "execution_count": 80,
   "metadata": {},
   "outputs": [
    {
     "data": {
      "text/plain": [
       "<matplotlib.collections.PathCollection at 0x7f552e849850>"
      ]
     },
     "execution_count": 80,
     "metadata": {},
     "output_type": "execute_result"
    },
    {
     "data": {
      "image/png": "[encoded data removed]",
      "text/plain": [
       "<Figure size 432x288 with 1 Axes>"
      ]
     },
     "metadata": {
      "needs_background": "light"
     },
     "output_type": "display_data"
    }
   ],
   "source": [
    "plt.scatter(boroughs['pub'], boroughs['Happiness_score_2011-14_(out_of_10)'])"
   ]
  },
  {
   "cell_type": "code",
   "execution_count": 81,
   "metadata": {},
   "outputs": [
    {
     "data": {
      "text/plain": [
       "<matplotlib.collections.PathCollection at 0x7f552e8187d0>"
      ]
     },
     "execution_count": 81,
     "metadata": {},
     "output_type": "execute_result"
    },
    {
     "data": {
      "image/png": "[encoded data removed]",
      "text/plain": [
       "<Figure size 432x288 with 1 Axes>"
      ]
     },
     "metadata": {
      "needs_background": "light"
     },
     "output_type": "display_data"
    }
   ],
   "source": [
    "plt.scatter(boroughs['pub'], boroughs['Crime_rates_per_thousand_population_2014/15'])"
   ]
  },
  {
   "cell_type": "code",
   "execution_count": null,
   "metadata": {},
   "outputs": [],
   "source": []
  }
 ],
 "metadata": {
  "kernelspec": {
   "display_name": "Python (foss4g)",
   "language": "python",
   "name": "foss4g"
  },
  "language_info": {
   "codemirror_mode": {
    "name": "ipython",
    "version": 3
   },
   "file_extension": ".py",
   "mimetype": "text/x-python",
   "name": "python",
   "nbconvert_exporter": "python",
   "pygments_lexer": "ipython3",
   "version": "3.7.4"
  }
 },
 "nbformat": 4,
 "nbformat_minor": 1
}
