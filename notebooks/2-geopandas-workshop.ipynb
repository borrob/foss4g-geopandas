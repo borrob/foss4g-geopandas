{
 "cells": [
  {
   "cell_type": "markdown",
   "metadata": {},
   "source": [
    "# Introduction to GeoPandas\n",
    "\n",
    "\n",
    "## Table of Contents\n",
    "\n",
    "1. [Points, lines and polygons](#GeoDataFrames)<br>\n",
    "2. [Spatial relationships](#spatial)<br>\n",
    "3. [London boroughs](#boroughs)<br>\n",
    "    3.1. [Load geodpatial data](#load1)<br>\n",
    "    3.2. [Explore data](#explore1)<br>\n",
    "4. [Open Street Map data (OSM)](#osm)<br>\n",
    "    4.1. [Load data](#load2)<br>\n",
    "    4.2. [Explore data](#explore2)<br>\n"
   ]
  },
  {
   "cell_type": "markdown",
   "metadata": {},
   "source": [
    "<div class=\"alert alert-danger\" style=\"font-size:100%\">\n",
    "If you are using <b>Watson Studio</b> to run the workshop you will need to add the project token to your notebook that you created earlier to be able to access the shape files. \n",
    "\n",
    "Click the 3 dots at the top of the notebook to insert the project token. This will create a new cell in the notebook that you will need to run first before continuing with the rest of the notebook. If you are sharing this notebook you should remove this cell, else anyone can use you Cloud Object Storage from this project.\n",
    "\n",
    "If you cannot find the new cell it is probably at the top of this notebook. Scroll up, run the cell and continue with the rest of the notebook\n",
    "\n",
    "</div> "
   ]
  },
  {
   "cell_type": "code",
   "execution_count": 1,
   "metadata": {},
   "outputs": [],
   "source": [
    "import pandas as pd\n",
    "import geopandas as gpd\n",
    "#import numpy as np\n",
    "from shapely.geometry import Point, LineString, Polygon\n",
    "import matplotlib.pyplot as plt\n",
    "\n",
    "%matplotlib inline"
   ]
  },
  {
   "cell_type": "markdown",
   "metadata": {},
   "source": [
    "<a id=\"GeoDataFrames\"></a>\n",
    "## 1. Points, lines and polygons\n",
    "\n",
    "A [`GeoDataSeries`](http://geopandas.org/data_structures.html) is a vector where each row is a set of shapes corresponding to one observation. A row may consist of only one shape (like a single polygon) or multiple shapes that are meant to be thought of as one observation.\n",
    "\n",
    "A `GeoDataFrame` is very similar to a Pandas `DataFrame`, but has an additional column with the shape or `geometry`. You can load a file, or create your own `GeoDataFrame`. \n",
    "\n",
    "Below the latitude and longitude of 5 cities are used to create a `POINT` geometry variable that is used to create a `GeoDataFrame` from a `DataFrame`: "
   ]
  },
  {
   "cell_type": "code",
   "execution_count": 2,
   "metadata": {},
   "outputs": [
    {
     "data": {
      "text/html": [
       "<div>\n",
       "<style scoped>\n",
       "    .dataframe tbody tr th:only-of-type {\n",
       "        vertical-align: middle;\n",
       "    }\n",
       "\n",
       "    .dataframe tbody tr th {\n",
       "        vertical-align: top;\n",
       "    }\n",
       "\n",
       "    .dataframe thead th {\n",
       "        text-align: right;\n",
       "    }\n",
       "</style>\n",
       "<table border=\"1\" class=\"dataframe\">\n",
       "  <thead>\n",
       "    <tr style=\"text-align: right;\">\n",
       "      <th></th>\n",
       "      <th>city</th>\n",
       "      <th>population</th>\n",
       "      <th>area</th>\n",
       "      <th>latitude</th>\n",
       "      <th>longitude</th>\n",
       "      <th>geometry</th>\n",
       "    </tr>\n",
       "  </thead>\n",
       "  <tbody>\n",
       "    <tr>\n",
       "      <th>0</th>\n",
       "      <td>London</td>\n",
       "      <td>9787426</td>\n",
       "      <td>1737.9</td>\n",
       "      <td>51.50853</td>\n",
       "      <td>-0.12574</td>\n",
       "      <td>POINT (-0.12574 51.50853)</td>\n",
       "    </tr>\n",
       "    <tr>\n",
       "      <th>1</th>\n",
       "      <td>Manchester</td>\n",
       "      <td>2553379</td>\n",
       "      <td>630.3</td>\n",
       "      <td>53.48095</td>\n",
       "      <td>-2.23743</td>\n",
       "      <td>POINT (-2.23743 53.48095)</td>\n",
       "    </tr>\n",
       "    <tr>\n",
       "      <th>2</th>\n",
       "      <td>Birmingham</td>\n",
       "      <td>2440986</td>\n",
       "      <td>598.9</td>\n",
       "      <td>52.48142</td>\n",
       "      <td>-1.89983</td>\n",
       "      <td>POINT (-1.89983 52.48142)</td>\n",
       "    </tr>\n",
       "    <tr>\n",
       "      <th>3</th>\n",
       "      <td>Leeds</td>\n",
       "      <td>1777934</td>\n",
       "      <td>487.8</td>\n",
       "      <td>53.79648</td>\n",
       "      <td>-1.54785</td>\n",
       "      <td>POINT (-1.54785 53.79648)</td>\n",
       "    </tr>\n",
       "    <tr>\n",
       "      <th>4</th>\n",
       "      <td>Glasgow</td>\n",
       "      <td>1209143</td>\n",
       "      <td>368.5</td>\n",
       "      <td>55.86515</td>\n",
       "      <td>-4.25763</td>\n",
       "      <td>POINT (-4.25763 55.86515)</td>\n",
       "    </tr>\n",
       "  </tbody>\n",
       "</table>\n",
       "</div>"
      ],
      "text/plain": [
       "         city  population    area  latitude  longitude  \\\n",
       "0      London     9787426  1737.9  51.50853   -0.12574   \n",
       "1  Manchester     2553379   630.3  53.48095   -2.23743   \n",
       "2  Birmingham     2440986   598.9  52.48142   -1.89983   \n",
       "3       Leeds     1777934   487.8  53.79648   -1.54785   \n",
       "4     Glasgow     1209143   368.5  55.86515   -4.25763   \n",
       "\n",
       "                    geometry  \n",
       "0  POINT (-0.12574 51.50853)  \n",
       "1  POINT (-2.23743 53.48095)  \n",
       "2  POINT (-1.89983 52.48142)  \n",
       "3  POINT (-1.54785 53.79648)  \n",
       "4  POINT (-4.25763 55.86515)  "
      ]
     },
     "execution_count": 2,
     "metadata": {},
     "output_type": "execute_result"
    }
   ],
   "source": [
    "df = pd.DataFrame({'city':       ['London','Manchester','Birmingham','Leeds','Glasgow'],\n",
    "        'population': [9787426,  2553379,     2440986,    1777934, 1209143],\n",
    "        'area':       [1737.9,   630.3,       598.9,      487.8,   368.5 ],\n",
    "        'latitude':   [51.50853, 53.48095,    52.48142,   53.79648,55.86515],\n",
    "        'longitude':  [-0.12574, -2.23743,    -1.89983,   -1.54785,-4.25763]})\n",
    "\n",
    "df['geometry']  = list(zip(df.longitude, df.latitude))\n",
    "\n",
    "df['geometry'] = df['geometry'].apply(Point)\n",
    "\n",
    "cities = gpd.GeoDataFrame(df, geometry='geometry')\n",
    "cities.head()"
   ]
  },
  {
   "cell_type": "markdown",
   "metadata": {},
   "source": [
    "Creating a basic map from this data is similar to creating a plot from a Pandas DataFrame by using `.plot()`. Below the column name defines what to use for the colours in the map. (We will come back to creating and editing more maps later) "
   ]
  },
  {
   "cell_type": "code",
   "execution_count": 3,
   "metadata": {},
   "outputs": [
    {
     "data": {
      "image/png": "[encoded data removed]",
      "text/plain": [
       "<Figure size 432x288 with 1 Axes>"
      ]
     },
     "metadata": {
      "needs_background": "light"
     },
     "output_type": "display_data"
    }
   ],
   "source": [
    "cities.plot(column='population');"
   ]
  },
  {
   "cell_type": "markdown",
   "metadata": {},
   "source": [
    "As `cities` is still a DataFrame you can apply the same data manipulations, for instance:"
   ]
  },
  {
   "cell_type": "code",
   "execution_count": 4,
   "metadata": {},
   "outputs": [
    {
     "data": {
      "text/plain": [
       "3553773.6"
      ]
     },
     "execution_count": 4,
     "metadata": {},
     "output_type": "execute_result"
    }
   ],
   "source": [
    "cities['population'].mean()"
   ]
  },
  {
   "cell_type": "code",
   "execution_count": 5,
   "metadata": {},
   "outputs": [
    {
     "data": {
      "text/plain": [
       "368.5"
      ]
     },
     "execution_count": 5,
     "metadata": {},
     "output_type": "execute_result"
    }
   ],
   "source": [
    "cities['area'].min()"
   ]
  },
  {
   "cell_type": "code",
   "execution_count": 6,
   "metadata": {},
   "outputs": [
    {
     "data": {
      "text/html": [
       "<div>\n",
       "<style scoped>\n",
       "    .dataframe tbody tr th:only-of-type {\n",
       "        vertical-align: middle;\n",
       "    }\n",
       "\n",
       "    .dataframe tbody tr th {\n",
       "        vertical-align: top;\n",
       "    }\n",
       "\n",
       "    .dataframe thead th {\n",
       "        text-align: right;\n",
       "    }\n",
       "</style>\n",
       "<table border=\"1\" class=\"dataframe\">\n",
       "  <thead>\n",
       "    <tr style=\"text-align: right;\">\n",
       "      <th></th>\n",
       "      <th>city</th>\n",
       "      <th>population</th>\n",
       "      <th>area</th>\n",
       "      <th>latitude</th>\n",
       "      <th>longitude</th>\n",
       "      <th>geometry</th>\n",
       "      <th>density</th>\n",
       "    </tr>\n",
       "  </thead>\n",
       "  <tbody>\n",
       "    <tr>\n",
       "      <th>0</th>\n",
       "      <td>London</td>\n",
       "      <td>9787426</td>\n",
       "      <td>1737.9</td>\n",
       "      <td>51.50853</td>\n",
       "      <td>-0.12574</td>\n",
       "      <td>POINT (-0.12574 51.50853)</td>\n",
       "      <td>5631.754416</td>\n",
       "    </tr>\n",
       "    <tr>\n",
       "      <th>1</th>\n",
       "      <td>Manchester</td>\n",
       "      <td>2553379</td>\n",
       "      <td>630.3</td>\n",
       "      <td>53.48095</td>\n",
       "      <td>-2.23743</td>\n",
       "      <td>POINT (-2.23743 53.48095)</td>\n",
       "      <td>4051.053467</td>\n",
       "    </tr>\n",
       "    <tr>\n",
       "      <th>2</th>\n",
       "      <td>Birmingham</td>\n",
       "      <td>2440986</td>\n",
       "      <td>598.9</td>\n",
       "      <td>52.48142</td>\n",
       "      <td>-1.89983</td>\n",
       "      <td>POINT (-1.89983 52.48142)</td>\n",
       "      <td>4075.782267</td>\n",
       "    </tr>\n",
       "    <tr>\n",
       "      <th>3</th>\n",
       "      <td>Leeds</td>\n",
       "      <td>1777934</td>\n",
       "      <td>487.8</td>\n",
       "      <td>53.79648</td>\n",
       "      <td>-1.54785</td>\n",
       "      <td>POINT (-1.54785 53.79648)</td>\n",
       "      <td>3644.801148</td>\n",
       "    </tr>\n",
       "    <tr>\n",
       "      <th>4</th>\n",
       "      <td>Glasgow</td>\n",
       "      <td>1209143</td>\n",
       "      <td>368.5</td>\n",
       "      <td>55.86515</td>\n",
       "      <td>-4.25763</td>\n",
       "      <td>POINT (-4.25763 55.86515)</td>\n",
       "      <td>3281.256445</td>\n",
       "    </tr>\n",
       "  </tbody>\n",
       "</table>\n",
       "</div>"
      ],
      "text/plain": [
       "         city  population    area  latitude  longitude  \\\n",
       "0      London     9787426  1737.9  51.50853   -0.12574   \n",
       "1  Manchester     2553379   630.3  53.48095   -2.23743   \n",
       "2  Birmingham     2440986   598.9  52.48142   -1.89983   \n",
       "3       Leeds     1777934   487.8  53.79648   -1.54785   \n",
       "4     Glasgow     1209143   368.5  55.86515   -4.25763   \n",
       "\n",
       "                    geometry      density  \n",
       "0  POINT (-0.12574 51.50853)  5631.754416  \n",
       "1  POINT (-2.23743 53.48095)  4051.053467  \n",
       "2  POINT (-1.89983 52.48142)  4075.782267  \n",
       "3  POINT (-1.54785 53.79648)  3644.801148  \n",
       "4  POINT (-4.25763 55.86515)  3281.256445  "
      ]
     },
     "execution_count": 6,
     "metadata": {},
     "output_type": "execute_result"
    }
   ],
   "source": [
    "cities['density'] = cities['population']/cities['area']\n",
    "cities"
   ]
  },
  {
   "cell_type": "markdown",
   "metadata": {},
   "source": [
    "But there are additional methods you can use (from the [geopandas documentation](http://geopandas.org/data_structures.html#overview-of-attributes-and-methods)):\n",
    "\n",
    "### Attributes\n",
    "* `area`: shape area\n",
    "* `bounds`: tuple of max and min coordinates on each axis for each shape\n",
    "* `total_bounds`: tuple of max and min coordinates on each axis for entire GeoSeries\n",
    "* `geom_type`: type of geometry\n",
    "* `is_valid`: tests if coordinates make a shape that is reasonable geometric shape\n",
    "\n",
    "### Basic Methods\n",
    "* `distance(other)`: returns Series with minimum distance from each entry to other\n",
    "* `centroid`: returns GeoSeries of centroids\n",
    "* `representative_point()`: returns GeoSeries of points that are guaranteed to be within each geometry. It does NOT return centroids\n",
    "* `to_crs()`: change coordinate reference system\n",
    "* `plot()`: plot GeoSeries\n",
    "\n",
    "### Relationship Tests\n",
    "* `geom_almost_equals(other)`: is shape almost the same as other (good when floating point precision issues make shapes slightly different)\n",
    "* `contains(other)`: is shape contained within other\n",
    "* `intersects(other)`: does shape intersect other\n",
    "\n",
    "\n",
    "We can explore a few of these with the cities data:"
   ]
  },
  {
   "cell_type": "code",
   "execution_count": 7,
   "metadata": {},
   "outputs": [
    {
     "data": {
      "text/plain": [
       "0    0.0\n",
       "1    0.0\n",
       "2    0.0\n",
       "3    0.0\n",
       "4    0.0\n",
       "dtype: float64"
      ]
     },
     "execution_count": 7,
     "metadata": {},
     "output_type": "execute_result"
    }
   ],
   "source": [
    "cities.area"
   ]
  },
  {
   "cell_type": "code",
   "execution_count": 8,
   "metadata": {},
   "outputs": [
    {
     "data": {
      "text/plain": [
       "array([-4.25763, 51.50853, -0.12574, 55.86515])"
      ]
     },
     "execution_count": 8,
     "metadata": {},
     "output_type": "execute_result"
    }
   ],
   "source": [
    "cities.total_bounds"
   ]
  },
  {
   "cell_type": "code",
   "execution_count": 9,
   "metadata": {},
   "outputs": [
    {
     "data": {
      "text/plain": [
       "0    Point\n",
       "1    Point\n",
       "2    Point\n",
       "3    Point\n",
       "4    Point\n",
       "dtype: object"
      ]
     },
     "execution_count": 9,
     "metadata": {},
     "output_type": "execute_result"
    }
   ],
   "source": [
    "cities.geom_type"
   ]
  },
  {
   "cell_type": "code",
   "execution_count": 10,
   "metadata": {},
   "outputs": [
    {
     "data": {
      "text/plain": [
       "0    0.000000\n",
       "1    2.889580\n",
       "2    2.023341\n",
       "3    2.693903\n",
       "4    6.004386\n",
       "dtype: float64"
      ]
     },
     "execution_count": 10,
     "metadata": {},
     "output_type": "execute_result"
    }
   ],
   "source": [
    "cities.distance(cities.geometry[0])"
   ]
  },
  {
   "cell_type": "markdown",
   "metadata": {},
   "source": [
    "For the other attributes and methods we need some more data. \n",
    "\n",
    "* A line between 2 cities by squeezing out the geometry and then creating a LineString\n",
    "* Circles around the cities by adding a buffer around the points"
   ]
  },
  {
   "cell_type": "code",
   "execution_count": 11,
   "metadata": {},
   "outputs": [
    {
     "data": {
      "image/png": "[encoded data removed]",
      "text/plain": [
       "<Figure size 432x288 with 1 Axes>"
      ]
     },
     "metadata": {
      "needs_background": "light"
     },
     "output_type": "display_data"
    }
   ],
   "source": [
    "london = cities.loc[cities['city'] == 'London', 'geometry'].squeeze()\n",
    "manchester = cities.loc[cities['city'] == 'Manchester', 'geometry'].squeeze()\n",
    "\n",
    "line = gpd.GeoSeries(LineString([london, manchester]))\n",
    "line.plot();"
   ]
  },
  {
   "cell_type": "code",
   "execution_count": 12,
   "metadata": {},
   "outputs": [
    {
     "data": {
      "text/html": [
       "<div>\n",
       "<style scoped>\n",
       "    .dataframe tbody tr th:only-of-type {\n",
       "        vertical-align: middle;\n",
       "    }\n",
       "\n",
       "    .dataframe tbody tr th {\n",
       "        vertical-align: top;\n",
       "    }\n",
       "\n",
       "    .dataframe thead th {\n",
       "        text-align: right;\n",
       "    }\n",
       "</style>\n",
       "<table border=\"1\" class=\"dataframe\">\n",
       "  <thead>\n",
       "    <tr style=\"text-align: right;\">\n",
       "      <th></th>\n",
       "      <th>city</th>\n",
       "      <th>population</th>\n",
       "      <th>area</th>\n",
       "      <th>latitude</th>\n",
       "      <th>longitude</th>\n",
       "      <th>geometry</th>\n",
       "      <th>density</th>\n",
       "    </tr>\n",
       "  </thead>\n",
       "  <tbody>\n",
       "    <tr>\n",
       "      <th>0</th>\n",
       "      <td>London</td>\n",
       "      <td>9787426</td>\n",
       "      <td>1737.9</td>\n",
       "      <td>51.50853</td>\n",
       "      <td>-0.12574</td>\n",
       "      <td>POLYGON ((0.87426 51.50853, 0.869444726672197 ...</td>\n",
       "      <td>5631.754416</td>\n",
       "    </tr>\n",
       "    <tr>\n",
       "      <th>3</th>\n",
       "      <td>Leeds</td>\n",
       "      <td>1777934</td>\n",
       "      <td>487.8</td>\n",
       "      <td>53.79648</td>\n",
       "      <td>-1.54785</td>\n",
       "      <td>POLYGON ((-0.5478499999999999 53.79648, -0.552...</td>\n",
       "      <td>3644.801148</td>\n",
       "    </tr>\n",
       "    <tr>\n",
       "      <th>4</th>\n",
       "      <td>Glasgow</td>\n",
       "      <td>1209143</td>\n",
       "      <td>368.5</td>\n",
       "      <td>55.86515</td>\n",
       "      <td>-4.25763</td>\n",
       "      <td>POLYGON ((-3.25763 55.86515, -3.26244527332780...</td>\n",
       "      <td>3281.256445</td>\n",
       "    </tr>\n",
       "  </tbody>\n",
       "</table>\n",
       "</div>"
      ],
      "text/plain": [
       "      city  population    area  latitude  longitude  \\\n",
       "0   London     9787426  1737.9  51.50853   -0.12574   \n",
       "3    Leeds     1777934   487.8  53.79648   -1.54785   \n",
       "4  Glasgow     1209143   368.5  55.86515   -4.25763   \n",
       "\n",
       "                                            geometry      density  \n",
       "0  POLYGON ((0.87426 51.50853, 0.869444726672197 ...  5631.754416  \n",
       "3  POLYGON ((-0.5478499999999999 53.79648, -0.552...  3644.801148  \n",
       "4  POLYGON ((-3.25763 55.86515, -3.26244527332780...  3281.256445  "
      ]
     },
     "execution_count": 12,
     "metadata": {},
     "output_type": "execute_result"
    }
   ],
   "source": [
    "cities2 = cities.copy()\n",
    "cities2['geometry'] = cities2.buffer(1)\n",
    "cities2 = cities2.drop([1, 2])\n",
    "cities2.head()"
   ]
  },
  {
   "cell_type": "code",
   "execution_count": 13,
   "metadata": {},
   "outputs": [
    {
     "data": {
      "image/png": "[encoded data removed]",
      "text/plain": [
       "<Figure size 432x288 with 1 Axes>"
      ]
     },
     "metadata": {
      "needs_background": "light"
     },
     "output_type": "display_data"
    }
   ],
   "source": [
    "cities2.plot();"
   ]
  },
  {
   "cell_type": "markdown",
   "metadata": {},
   "source": [
    "And plot all of them together:"
   ]
  },
  {
   "cell_type": "code",
   "execution_count": 14,
   "metadata": {},
   "outputs": [
    {
     "data": {
      "image/png": "[encoded data removed]",
      "text/plain": [
       "<Figure size 432x288 with 1 Axes>"
      ]
     },
     "metadata": {
      "needs_background": "light"
     },
     "output_type": "display_data"
    }
   ],
   "source": [
    "base = cities2.plot(color='lightblue', edgecolor='black')\n",
    "cities.plot(ax=base, marker='o', color='red', markersize=10);\n",
    "line.plot(ax=base);"
   ]
  },
  {
   "cell_type": "markdown",
   "metadata": {},
   "source": [
    "Polygons can be of any shape as you will see later in the workshop, using circles here as a quick example. \n",
    "\n",
    "Polygons can contain holes. Let's subtract a small circle from three larger ones to see what that looks like:"
   ]
  },
  {
   "cell_type": "code",
   "execution_count": 15,
   "metadata": {},
   "outputs": [
    {
     "data": {
      "image/png": "[encoded data removed]",
      "text/plain": [
       "<Figure size 432x288 with 1 Axes>"
      ]
     },
     "metadata": {
      "needs_background": "light"
     },
     "output_type": "display_data"
    }
   ],
   "source": [
    "cities3 = cities.copy()\n",
    "cities3['geometry'] = cities3.buffer(2)\n",
    "cities3 = cities3.drop([1, 2])\n",
    "\n",
    "gpd.overlay(cities3, cities2, how='difference').plot();"
   ]
  },
  {
   "cell_type": "markdown",
   "metadata": {},
   "source": [
    "With these new shapes let's explore some more methods:"
   ]
  },
  {
   "cell_type": "code",
   "execution_count": 16,
   "metadata": {},
   "outputs": [
    {
     "data": {
      "text/plain": [
       "0    3.136548\n",
       "3    3.136548\n",
       "4    3.136548\n",
       "dtype: float64"
      ]
     },
     "execution_count": 16,
     "metadata": {},
     "output_type": "execute_result"
    }
   ],
   "source": [
    "cities2.area"
   ]
  },
  {
   "cell_type": "code",
   "execution_count": 17,
   "metadata": {},
   "outputs": [
    {
     "data": {
      "text/html": [
       "<div>\n",
       "<style scoped>\n",
       "    .dataframe tbody tr th:only-of-type {\n",
       "        vertical-align: middle;\n",
       "    }\n",
       "\n",
       "    .dataframe tbody tr th {\n",
       "        vertical-align: top;\n",
       "    }\n",
       "\n",
       "    .dataframe thead th {\n",
       "        text-align: right;\n",
       "    }\n",
       "</style>\n",
       "<table border=\"1\" class=\"dataframe\">\n",
       "  <thead>\n",
       "    <tr style=\"text-align: right;\">\n",
       "      <th></th>\n",
       "      <th>minx</th>\n",
       "      <th>miny</th>\n",
       "      <th>maxx</th>\n",
       "      <th>maxy</th>\n",
       "    </tr>\n",
       "  </thead>\n",
       "  <tbody>\n",
       "    <tr>\n",
       "      <th>0</th>\n",
       "      <td>-1.12574</td>\n",
       "      <td>50.50853</td>\n",
       "      <td>0.87426</td>\n",
       "      <td>52.50853</td>\n",
       "    </tr>\n",
       "    <tr>\n",
       "      <th>3</th>\n",
       "      <td>-2.54785</td>\n",
       "      <td>52.79648</td>\n",
       "      <td>-0.54785</td>\n",
       "      <td>54.79648</td>\n",
       "    </tr>\n",
       "    <tr>\n",
       "      <th>4</th>\n",
       "      <td>-5.25763</td>\n",
       "      <td>54.86515</td>\n",
       "      <td>-3.25763</td>\n",
       "      <td>56.86515</td>\n",
       "    </tr>\n",
       "  </tbody>\n",
       "</table>\n",
       "</div>"
      ],
      "text/plain": [
       "      minx      miny     maxx      maxy\n",
       "0 -1.12574  50.50853  0.87426  52.50853\n",
       "3 -2.54785  52.79648 -0.54785  54.79648\n",
       "4 -5.25763  54.86515 -3.25763  56.86515"
      ]
     },
     "execution_count": 17,
     "metadata": {},
     "output_type": "execute_result"
    }
   ],
   "source": [
    "cities2.bounds"
   ]
  },
  {
   "cell_type": "code",
   "execution_count": 18,
   "metadata": {},
   "outputs": [
    {
     "data": {
      "text/plain": [
       "0    POINT (-0.1257399999999998 51.50853000000002)\n",
       "3                        POINT (-1.54785 53.79648)\n",
       "4              POINT (-4.257630000000002 55.86515)\n",
       "dtype: object"
      ]
     },
     "execution_count": 18,
     "metadata": {},
     "output_type": "execute_result"
    }
   ],
   "source": [
    "cities2.centroid"
   ]
  },
  {
   "cell_type": "code",
   "execution_count": 19,
   "metadata": {},
   "outputs": [
    {
     "data": {
      "text/plain": [
       "0    POINT (-0.1257399999999997 51.50853000000001)\n",
       "3               POINT (-1.54785 53.79648000000001)\n",
       "4               POINT (-4.25763 55.86515000000001)\n",
       "dtype: object"
      ]
     },
     "execution_count": 19,
     "metadata": {},
     "output_type": "execute_result"
    }
   ],
   "source": [
    "cities3.representative_point()"
   ]
  },
  {
   "cell_type": "markdown",
   "metadata": {},
   "source": [
    "<a id=\"spatial\"></a>\n",
    "## 2. Spatial relationships\n",
    "\n",
    "What can you do with these geospatial relationships?  \n",
    "\n",
    "There are several functions to check geospatial relationships: `equals`, `contains`, `crosses`, `disjoint`,`intersects`,`overlaps`,`touches`,`within` and `covers`. These all use `shapely`: read more [here](https://shapely.readthedocs.io/en/stable/manual.html#predicates-and-relationships) and some more background [here](https://en.wikipedia.org/wiki/Spatial_relation).\n",
    "\n",
    "A few examples:"
   ]
  },
  {
   "cell_type": "code",
   "execution_count": 20,
   "metadata": {},
   "outputs": [
    {
     "data": {
      "text/plain": [
       "0     True\n",
       "3    False\n",
       "4    False\n",
       "dtype: bool"
      ]
     },
     "execution_count": 20,
     "metadata": {},
     "output_type": "execute_result"
    }
   ],
   "source": [
    "cities2.contains(cities.geometry[0])"
   ]
  },
  {
   "cell_type": "code",
   "execution_count": 21,
   "metadata": {},
   "outputs": [
    {
     "data": {
      "text/plain": [
       "0     True\n",
       "3    False\n",
       "4    False\n",
       "dtype: bool"
      ]
     },
     "execution_count": 21,
     "metadata": {},
     "output_type": "execute_result"
    }
   ],
   "source": [
    "cities2.contains(london)"
   ]
  },
  {
   "cell_type": "code",
   "execution_count": 22,
   "metadata": {},
   "outputs": [
    {
     "data": {
      "text/html": [
       "<div>\n",
       "<style scoped>\n",
       "    .dataframe tbody tr th:only-of-type {\n",
       "        vertical-align: middle;\n",
       "    }\n",
       "\n",
       "    .dataframe tbody tr th {\n",
       "        vertical-align: top;\n",
       "    }\n",
       "\n",
       "    .dataframe thead th {\n",
       "        text-align: right;\n",
       "    }\n",
       "</style>\n",
       "<table border=\"1\" class=\"dataframe\">\n",
       "  <thead>\n",
       "    <tr style=\"text-align: right;\">\n",
       "      <th></th>\n",
       "      <th>city</th>\n",
       "      <th>population</th>\n",
       "      <th>area</th>\n",
       "      <th>latitude</th>\n",
       "      <th>longitude</th>\n",
       "      <th>geometry</th>\n",
       "      <th>density</th>\n",
       "    </tr>\n",
       "  </thead>\n",
       "  <tbody>\n",
       "    <tr>\n",
       "      <th>0</th>\n",
       "      <td>London</td>\n",
       "      <td>9787426</td>\n",
       "      <td>1737.9</td>\n",
       "      <td>51.50853</td>\n",
       "      <td>-0.12574</td>\n",
       "      <td>POLYGON ((0.87426 51.50853, 0.869444726672197 ...</td>\n",
       "      <td>5631.754416</td>\n",
       "    </tr>\n",
       "  </tbody>\n",
       "</table>\n",
       "</div>"
      ],
      "text/plain": [
       "     city  population    area  latitude  longitude  \\\n",
       "0  London     9787426  1737.9  51.50853   -0.12574   \n",
       "\n",
       "                                            geometry      density  \n",
       "0  POLYGON ((0.87426 51.50853, 0.869444726672197 ...  5631.754416  "
      ]
     },
     "execution_count": 22,
     "metadata": {},
     "output_type": "execute_result"
    }
   ],
   "source": [
    "cities2[cities2.contains(london)]"
   ]
  },
  {
   "cell_type": "code",
   "execution_count": 23,
   "metadata": {},
   "outputs": [
    {
     "data": {
      "text/html": [
       "<div>\n",
       "<style scoped>\n",
       "    .dataframe tbody tr th:only-of-type {\n",
       "        vertical-align: middle;\n",
       "    }\n",
       "\n",
       "    .dataframe tbody tr th {\n",
       "        vertical-align: top;\n",
       "    }\n",
       "\n",
       "    .dataframe thead th {\n",
       "        text-align: right;\n",
       "    }\n",
       "</style>\n",
       "<table border=\"1\" class=\"dataframe\">\n",
       "  <thead>\n",
       "    <tr style=\"text-align: right;\">\n",
       "      <th></th>\n",
       "      <th>city</th>\n",
       "      <th>population</th>\n",
       "      <th>area</th>\n",
       "      <th>latitude</th>\n",
       "      <th>longitude</th>\n",
       "      <th>geometry</th>\n",
       "      <th>density</th>\n",
       "    </tr>\n",
       "  </thead>\n",
       "  <tbody>\n",
       "    <tr>\n",
       "      <th>3</th>\n",
       "      <td>Leeds</td>\n",
       "      <td>1777934</td>\n",
       "      <td>487.8</td>\n",
       "      <td>53.79648</td>\n",
       "      <td>-1.54785</td>\n",
       "      <td>POLYGON ((-0.5478499999999999 53.79648, -0.552...</td>\n",
       "      <td>3644.801148</td>\n",
       "    </tr>\n",
       "  </tbody>\n",
       "</table>\n",
       "</div>"
      ],
      "text/plain": [
       "    city  population   area  latitude  longitude  \\\n",
       "3  Leeds     1777934  487.8  53.79648   -1.54785   \n",
       "\n",
       "                                            geometry      density  \n",
       "3  POLYGON ((-0.5478499999999999 53.79648, -0.552...  3644.801148  "
      ]
     },
     "execution_count": 23,
     "metadata": {},
     "output_type": "execute_result"
    }
   ],
   "source": [
    "cities2[cities2.contains(manchester)]"
   ]
  },
  {
   "cell_type": "markdown",
   "metadata": {},
   "source": [
    "The inverse of `contains`:"
   ]
  },
  {
   "cell_type": "code",
   "execution_count": 24,
   "metadata": {},
   "outputs": [
    {
     "data": {
      "text/html": [
       "<div>\n",
       "<style scoped>\n",
       "    .dataframe tbody tr th:only-of-type {\n",
       "        vertical-align: middle;\n",
       "    }\n",
       "\n",
       "    .dataframe tbody tr th {\n",
       "        vertical-align: top;\n",
       "    }\n",
       "\n",
       "    .dataframe thead th {\n",
       "        text-align: right;\n",
       "    }\n",
       "</style>\n",
       "<table border=\"1\" class=\"dataframe\">\n",
       "  <thead>\n",
       "    <tr style=\"text-align: right;\">\n",
       "      <th></th>\n",
       "      <th>city</th>\n",
       "      <th>population</th>\n",
       "      <th>area</th>\n",
       "      <th>latitude</th>\n",
       "      <th>longitude</th>\n",
       "      <th>geometry</th>\n",
       "      <th>density</th>\n",
       "    </tr>\n",
       "  </thead>\n",
       "  <tbody>\n",
       "    <tr>\n",
       "      <th>0</th>\n",
       "      <td>London</td>\n",
       "      <td>9787426</td>\n",
       "      <td>1737.9</td>\n",
       "      <td>51.50853</td>\n",
       "      <td>-0.12574</td>\n",
       "      <td>POINT (-0.12574 51.50853)</td>\n",
       "      <td>5631.754416</td>\n",
       "    </tr>\n",
       "    <tr>\n",
       "      <th>3</th>\n",
       "      <td>Leeds</td>\n",
       "      <td>1777934</td>\n",
       "      <td>487.8</td>\n",
       "      <td>53.79648</td>\n",
       "      <td>-1.54785</td>\n",
       "      <td>POINT (-1.54785 53.79648)</td>\n",
       "      <td>3644.801148</td>\n",
       "    </tr>\n",
       "    <tr>\n",
       "      <th>4</th>\n",
       "      <td>Glasgow</td>\n",
       "      <td>1209143</td>\n",
       "      <td>368.5</td>\n",
       "      <td>55.86515</td>\n",
       "      <td>-4.25763</td>\n",
       "      <td>POINT (-4.25763 55.86515)</td>\n",
       "      <td>3281.256445</td>\n",
       "    </tr>\n",
       "  </tbody>\n",
       "</table>\n",
       "</div>"
      ],
      "text/plain": [
       "      city  population    area  latitude  longitude  \\\n",
       "0   London     9787426  1737.9  51.50853   -0.12574   \n",
       "3    Leeds     1777934   487.8  53.79648   -1.54785   \n",
       "4  Glasgow     1209143   368.5  55.86515   -4.25763   \n",
       "\n",
       "                    geometry      density  \n",
       "0  POINT (-0.12574 51.50853)  5631.754416  \n",
       "3  POINT (-1.54785 53.79648)  3644.801148  \n",
       "4  POINT (-4.25763 55.86515)  3281.256445  "
      ]
     },
     "execution_count": 24,
     "metadata": {},
     "output_type": "execute_result"
    }
   ],
   "source": [
    "cities[cities.within(cities2)]"
   ]
  },
  {
   "cell_type": "code",
   "execution_count": 25,
   "metadata": {},
   "outputs": [
    {
     "data": {
      "text/plain": [
       "0     True\n",
       "3    False\n",
       "4    False\n",
       "dtype: bool"
      ]
     },
     "execution_count": 25,
     "metadata": {},
     "output_type": "execute_result"
    }
   ],
   "source": [
    "cities2.intersects(line)"
   ]
  },
  {
   "cell_type": "code",
   "execution_count": 26,
   "metadata": {},
   "outputs": [
    {
     "data": {
      "text/html": [
       "<div>\n",
       "<style scoped>\n",
       "    .dataframe tbody tr th:only-of-type {\n",
       "        vertical-align: middle;\n",
       "    }\n",
       "\n",
       "    .dataframe tbody tr th {\n",
       "        vertical-align: top;\n",
       "    }\n",
       "\n",
       "    .dataframe thead th {\n",
       "        text-align: right;\n",
       "    }\n",
       "</style>\n",
       "<table border=\"1\" class=\"dataframe\">\n",
       "  <thead>\n",
       "    <tr style=\"text-align: right;\">\n",
       "      <th></th>\n",
       "      <th>city</th>\n",
       "      <th>population</th>\n",
       "      <th>area</th>\n",
       "      <th>latitude</th>\n",
       "      <th>longitude</th>\n",
       "      <th>geometry</th>\n",
       "      <th>density</th>\n",
       "    </tr>\n",
       "  </thead>\n",
       "  <tbody>\n",
       "    <tr>\n",
       "      <th>0</th>\n",
       "      <td>London</td>\n",
       "      <td>9787426</td>\n",
       "      <td>1737.9</td>\n",
       "      <td>51.50853</td>\n",
       "      <td>-0.12574</td>\n",
       "      <td>POLYGON ((0.87426 51.50853, 0.869444726672197 ...</td>\n",
       "      <td>5631.754416</td>\n",
       "    </tr>\n",
       "  </tbody>\n",
       "</table>\n",
       "</div>"
      ],
      "text/plain": [
       "     city  population    area  latitude  longitude  \\\n",
       "0  London     9787426  1737.9  51.50853   -0.12574   \n",
       "\n",
       "                                            geometry      density  \n",
       "0  POLYGON ((0.87426 51.50853, 0.869444726672197 ...  5631.754416  "
      ]
     },
     "execution_count": 26,
     "metadata": {},
     "output_type": "execute_result"
    }
   ],
   "source": [
    "cities2[cities2.crosses(line)]"
   ]
  },
  {
   "cell_type": "code",
   "execution_count": 27,
   "metadata": {},
   "outputs": [
    {
     "data": {
      "text/html": [
       "<div>\n",
       "<style scoped>\n",
       "    .dataframe tbody tr th:only-of-type {\n",
       "        vertical-align: middle;\n",
       "    }\n",
       "\n",
       "    .dataframe tbody tr th {\n",
       "        vertical-align: top;\n",
       "    }\n",
       "\n",
       "    .dataframe thead th {\n",
       "        text-align: right;\n",
       "    }\n",
       "</style>\n",
       "<table border=\"1\" class=\"dataframe\">\n",
       "  <thead>\n",
       "    <tr style=\"text-align: right;\">\n",
       "      <th></th>\n",
       "      <th>city</th>\n",
       "      <th>population</th>\n",
       "      <th>area</th>\n",
       "      <th>latitude</th>\n",
       "      <th>longitude</th>\n",
       "      <th>geometry</th>\n",
       "      <th>density</th>\n",
       "    </tr>\n",
       "  </thead>\n",
       "  <tbody>\n",
       "    <tr>\n",
       "      <th>3</th>\n",
       "      <td>Leeds</td>\n",
       "      <td>1777934</td>\n",
       "      <td>487.8</td>\n",
       "      <td>53.79648</td>\n",
       "      <td>-1.54785</td>\n",
       "      <td>POLYGON ((-0.5478499999999999 53.79648, -0.552...</td>\n",
       "      <td>3644.801148</td>\n",
       "    </tr>\n",
       "    <tr>\n",
       "      <th>4</th>\n",
       "      <td>Glasgow</td>\n",
       "      <td>1209143</td>\n",
       "      <td>368.5</td>\n",
       "      <td>55.86515</td>\n",
       "      <td>-4.25763</td>\n",
       "      <td>POLYGON ((-3.25763 55.86515, -3.26244527332780...</td>\n",
       "      <td>3281.256445</td>\n",
       "    </tr>\n",
       "  </tbody>\n",
       "</table>\n",
       "</div>"
      ],
      "text/plain": [
       "      city  population   area  latitude  longitude  \\\n",
       "3    Leeds     1777934  487.8  53.79648   -1.54785   \n",
       "4  Glasgow     1209143  368.5  55.86515   -4.25763   \n",
       "\n",
       "                                            geometry      density  \n",
       "3  POLYGON ((-0.5478499999999999 53.79648, -0.552...  3644.801148  \n",
       "4  POLYGON ((-3.25763 55.86515, -3.26244527332780...  3281.256445  "
      ]
     },
     "execution_count": 27,
     "metadata": {},
     "output_type": "execute_result"
    }
   ],
   "source": [
    "cities2[cities2.disjoint(london)]"
   ]
  },
  {
   "cell_type": "markdown",
   "metadata": {},
   "source": [
    "<a id=\"boroughs\"></a>\n",
    "## 3. London boroughs\n",
    "\n",
    "<a id=\"load1\"></a>\n",
    "### 3.1 Load geospatial data\n",
    "\n",
    "Geospatial data comes in many formats, but with GeoPandas you can read most files with just one command. For example this geojson file with the London boroughs: "
   ]
  },
  {
   "cell_type": "code",
   "execution_count": 28,
   "metadata": {},
   "outputs": [
    {
     "data": {
      "text/html": [
       "<div>\n",
       "<style scoped>\n",
       "    .dataframe tbody tr th:only-of-type {\n",
       "        vertical-align: middle;\n",
       "    }\n",
       "\n",
       "    .dataframe tbody tr th {\n",
       "        vertical-align: top;\n",
       "    }\n",
       "\n",
       "    .dataframe thead th {\n",
       "        text-align: right;\n",
       "    }\n",
       "</style>\n",
       "<table border=\"1\" class=\"dataframe\">\n",
       "  <thead>\n",
       "    <tr style=\"text-align: right;\">\n",
       "      <th></th>\n",
       "      <th>id</th>\n",
       "      <th>name</th>\n",
       "      <th>code</th>\n",
       "      <th>area_hectares</th>\n",
       "      <th>inner_statistical</th>\n",
       "      <th>geometry</th>\n",
       "    </tr>\n",
       "  </thead>\n",
       "  <tbody>\n",
       "    <tr>\n",
       "      <th>0</th>\n",
       "      <td>1</td>\n",
       "      <td>Kingston upon Thames</td>\n",
       "      <td>E09000021</td>\n",
       "      <td>3726.117</td>\n",
       "      <td>0</td>\n",
       "      <td>(POLYGON ((-0.330679062942453 51.3290110106029...</td>\n",
       "    </tr>\n",
       "    <tr>\n",
       "      <th>1</th>\n",
       "      <td>2</td>\n",
       "      <td>Croydon</td>\n",
       "      <td>E09000008</td>\n",
       "      <td>8649.441</td>\n",
       "      <td>0</td>\n",
       "      <td>(POLYGON ((-0.064021239620113 51.3186376598749...</td>\n",
       "    </tr>\n",
       "    <tr>\n",
       "      <th>2</th>\n",
       "      <td>3</td>\n",
       "      <td>Bromley</td>\n",
       "      <td>E09000006</td>\n",
       "      <td>15013.487</td>\n",
       "      <td>0</td>\n",
       "      <td>(POLYGON ((0.012130938509177 51.2995990596564,...</td>\n",
       "    </tr>\n",
       "    <tr>\n",
       "      <th>3</th>\n",
       "      <td>4</td>\n",
       "      <td>Hounslow</td>\n",
       "      <td>E09000018</td>\n",
       "      <td>5658.541</td>\n",
       "      <td>0</td>\n",
       "      <td>(POLYGON ((-0.244562394525054 51.48870217634, ...</td>\n",
       "    </tr>\n",
       "    <tr>\n",
       "      <th>4</th>\n",
       "      <td>5</td>\n",
       "      <td>Ealing</td>\n",
       "      <td>E09000009</td>\n",
       "      <td>5554.428</td>\n",
       "      <td>0</td>\n",
       "      <td>(POLYGON ((-0.411832689731467 51.5340838625761...</td>\n",
       "    </tr>\n",
       "  </tbody>\n",
       "</table>\n",
       "</div>"
      ],
      "text/plain": [
       "   id                  name       code  area_hectares  inner_statistical  \\\n",
       "0   1  Kingston upon Thames  E09000021       3726.117                  0   \n",
       "1   2               Croydon  E09000008       8649.441                  0   \n",
       "2   3               Bromley  E09000006      15013.487                  0   \n",
       "3   4              Hounslow  E09000018       5658.541                  0   \n",
       "4   5                Ealing  E09000009       5554.428                  0   \n",
       "\n",
       "                                            geometry  \n",
       "0  (POLYGON ((-0.330679062942453 51.3290110106029...  \n",
       "1  (POLYGON ((-0.064021239620113 51.3186376598749...  \n",
       "2  (POLYGON ((0.012130938509177 51.2995990596564,...  \n",
       "3  (POLYGON ((-0.244562394525054 51.48870217634, ...  \n",
       "4  (POLYGON ((-0.411832689731467 51.5340838625761...  "
      ]
     },
     "execution_count": 28,
     "metadata": {},
     "output_type": "execute_result"
    }
   ],
   "source": [
    "# load data from a url\n",
    "boroughs = gpd.read_file(\"https://skgrange.github.io/www/data/london_boroughs.json\")\n",
    "boroughs.head()"
   ]
  },
  {
   "cell_type": "markdown",
   "metadata": {},
   "source": [
    "<a id=\"explore1\"></a>\n",
    "### 3.2 Explore  data"
   ]
  },
  {
   "cell_type": "code",
   "execution_count": 29,
   "metadata": {},
   "outputs": [
    {
     "data": {
      "image/png": "[encoded data removed]",
      "text/plain": [
       "<Figure size 432x288 with 1 Axes>"
      ]
     },
     "metadata": {
      "needs_background": "light"
     },
     "output_type": "display_data"
    }
   ],
   "source": [
    "boroughs.plot();"
   ]
  },
  {
   "cell_type": "markdown",
   "metadata": {},
   "source": [
    "Adding a column will colour the map based on the classes in this column:"
   ]
  },
  {
   "cell_type": "code",
   "execution_count": 30,
   "metadata": {},
   "outputs": [
    {
     "data": {
      "image/png": "[encoded data removed]",
      "text/plain": [
       "<Figure size 432x288 with 1 Axes>"
      ]
     },
     "metadata": {
      "needs_background": "light"
     },
     "output_type": "display_data"
    }
   ],
   "source": [
    "boroughs.plot(column='code');"
   ]
  },
  {
   "cell_type": "code",
   "execution_count": 31,
   "metadata": {},
   "outputs": [
    {
     "data": {
      "image/png": "[encoded data removed]",
      "text/plain": [
       "<Figure size 432x288 with 1 Axes>"
      ]
     },
     "metadata": {
      "needs_background": "light"
     },
     "output_type": "display_data"
    }
   ],
   "source": [
    "boroughs.plot(column='area_hectares');"
   ]
  },
  {
   "cell_type": "markdown",
   "metadata": {},
   "source": [
    "The boroughs are made up of many districts that you might want to combine. This can be done by adding a new column and then use `.dissolve()`:"
   ]
  },
  {
   "cell_type": "code",
   "execution_count": 32,
   "metadata": {},
   "outputs": [
    {
     "data": {
      "text/html": [
       "<div>\n",
       "<style scoped>\n",
       "    .dataframe tbody tr th:only-of-type {\n",
       "        vertical-align: middle;\n",
       "    }\n",
       "\n",
       "    .dataframe tbody tr th {\n",
       "        vertical-align: top;\n",
       "    }\n",
       "\n",
       "    .dataframe thead th {\n",
       "        text-align: right;\n",
       "    }\n",
       "</style>\n",
       "<table border=\"1\" class=\"dataframe\">\n",
       "  <thead>\n",
       "    <tr style=\"text-align: right;\">\n",
       "      <th></th>\n",
       "      <th>geometry</th>\n",
       "      <th>id</th>\n",
       "      <th>area_hectares</th>\n",
       "      <th>inner_statistical</th>\n",
       "    </tr>\n",
       "    <tr>\n",
       "      <th>all</th>\n",
       "      <th></th>\n",
       "      <th></th>\n",
       "      <th></th>\n",
       "      <th></th>\n",
       "    </tr>\n",
       "  </thead>\n",
       "  <tbody>\n",
       "    <tr>\n",
       "      <th>1</th>\n",
       "      <td>POLYGON ((-0.064021239620113 51.3186376598749,...</td>\n",
       "      <td>561</td>\n",
       "      <td>159469.725</td>\n",
       "      <td>14</td>\n",
       "    </tr>\n",
       "  </tbody>\n",
       "</table>\n",
       "</div>"
      ],
      "text/plain": [
       "                                              geometry   id  area_hectares  \\\n",
       "all                                                                          \n",
       "1    POLYGON ((-0.064021239620113 51.3186376598749,...  561     159469.725   \n",
       "\n",
       "     inner_statistical  \n",
       "all                     \n",
       "1                   14  "
      ]
     },
     "execution_count": 32,
     "metadata": {},
     "output_type": "execute_result"
    }
   ],
   "source": [
    "boroughs['all'] = 1\n",
    "allboroughs = boroughs.dissolve(by='all',aggfunc='sum')\n",
    "allboroughs.head()"
   ]
  },
  {
   "cell_type": "code",
   "execution_count": 33,
   "metadata": {},
   "outputs": [
    {
     "data": {
      "image/png": "[encoded data removed]",
      "text/plain": [
       "<Figure size 432x288 with 1 Axes>"
      ]
     },
     "metadata": {
      "needs_background": "light"
     },
     "output_type": "display_data"
    }
   ],
   "source": [
    "allboroughs.plot();"
   ]
  },
  {
   "cell_type": "markdown",
   "metadata": {},
   "source": [
    "To change the size of the map and remove the box around the map, run the below:"
   ]
  },
  {
   "cell_type": "code",
   "execution_count": 34,
   "metadata": {},
   "outputs": [
    {
     "data": {
      "image/png": "[encoded data removed]",
      "text/plain": [
       "<Figure size 720x432 with 1 Axes>"
      ]
     },
     "metadata": {
      "needs_background": "light"
     },
     "output_type": "display_data"
    }
   ],
   "source": [
    "[fig, ax] = plt.subplots(1, figsize=(10, 6))\n",
    "allboroughs.plot(ax=ax);\n",
    "ax.axis('off');"
   ]
  },
  {
   "cell_type": "markdown",
   "metadata": {},
   "source": [
    "Let's combine the data from the Pandas notebook with the boroughs GeoDataFrame:"
   ]
  },
  {
   "cell_type": "code",
   "execution_count": 35,
   "metadata": {},
   "outputs": [],
   "source": [
    "df = pd.read_csv('../data/london-borough-profiles.csv',encoding = 'unicode_escape')"
   ]
  },
  {
   "cell_type": "markdown",
   "metadata": {},
   "source": [
    "<div class=\"alert alert-danger\" style=\"font-size:100%\">\n",
    "If you are using <b>Watson Studio</b> to run the workshop you will get an error with the above, because you have no local files in the data folder. First store the data in your Cloud Object Store (COS) by adding the files in the menu on the right of the notebook (if you see no menu, click the <b><font face=\"Courier\">1010</font></b> button at the top first) and then load the data by following these steps:\n",
    "\n",
    "<ul>\n",
    "  <li>Activate the below cell, move the cursor to the empty line under  <b><font face=\"Courier\"># add data</font></b></li>\n",
    "  <li>Click on <b><font face=\"Courier\">Insert to code</font></b> under the file from the right menu</li>\n",
    "  <li>Select <b><font face=\"Courier\">Insert pandas DataFrame</font></b></li>\n",
    "  <li>Code to load the file will be inserted</li>\n",
    "  <li>Change the default name of the data from <b><font face=\"Courier\">df_data_1</font></b> to <b><font face=\"Courier\">df</font></b> at the bottom two lines of the inserted code and add <b><font face=\"Courier\">encoding = 'unicode_escape'</font></b> </li>\n",
    "    <li>Then run the cell to load the data and continue with the rest of the notebook</li>\n",
    "  </ul>\n",
    "</div>"
   ]
  },
  {
   "cell_type": "code",
   "execution_count": 36,
   "metadata": {},
   "outputs": [],
   "source": [
    "# add data\n"
   ]
  },
  {
   "cell_type": "code",
   "execution_count": 37,
   "metadata": {},
   "outputs": [
    {
     "data": {
      "text/html": [
       "<div>\n",
       "<style scoped>\n",
       "    .dataframe tbody tr th:only-of-type {\n",
       "        vertical-align: middle;\n",
       "    }\n",
       "\n",
       "    .dataframe tbody tr th {\n",
       "        vertical-align: top;\n",
       "    }\n",
       "\n",
       "    .dataframe thead th {\n",
       "        text-align: right;\n",
       "    }\n",
       "</style>\n",
       "<table border=\"1\" class=\"dataframe\">\n",
       "  <thead>\n",
       "    <tr style=\"text-align: right;\">\n",
       "      <th></th>\n",
       "      <th>Code</th>\n",
       "      <th>Area_name</th>\n",
       "      <th>Inner/_Outer_London</th>\n",
       "      <th>GLA_Population_Estimate_2017</th>\n",
       "      <th>GLA_Household_Estimate_2017</th>\n",
       "      <th>Inland_Area_(Hectares)</th>\n",
       "      <th>Population_density_(per_hectare)_2017</th>\n",
       "      <th>Average_Age,_2017</th>\n",
       "      <th>Proportion_of_population_aged_0-15,_2015</th>\n",
       "      <th>Proportion_of_population_of_working-age,_2015</th>\n",
       "      <th>...</th>\n",
       "      <th>Happiness_score_2011-14_(out_of_10)</th>\n",
       "      <th>Anxiety_score_2011-14_(out_of_10)</th>\n",
       "      <th>Childhood_Obesity_Prevalance_(%)_2015/16</th>\n",
       "      <th>People_aged_17+_with_diabetes_(%)</th>\n",
       "      <th>Mortality_rate_from_causes_considered_preventable_2012/14</th>\n",
       "      <th>Political_control_in_council</th>\n",
       "      <th>Proportion_of_seats_won_by_Conservatives_in_2014_election</th>\n",
       "      <th>Proportion_of_seats_won_by_Labour_in_2014_election</th>\n",
       "      <th>Proportion_of_seats_won_by_Lib_Dems_in_2014_election</th>\n",
       "      <th>Turnout_at_2014_local_elections</th>\n",
       "    </tr>\n",
       "  </thead>\n",
       "  <tbody>\n",
       "    <tr>\n",
       "      <th>0</th>\n",
       "      <td>E09000001</td>\n",
       "      <td>City of London</td>\n",
       "      <td>Inner London</td>\n",
       "      <td>8800</td>\n",
       "      <td>5326.0</td>\n",
       "      <td>290</td>\n",
       "      <td>30.3</td>\n",
       "      <td>43.2</td>\n",
       "      <td>11.4</td>\n",
       "      <td>73.1</td>\n",
       "      <td>...</td>\n",
       "      <td>6.0</td>\n",
       "      <td>5.6</td>\n",
       "      <td>NaN</td>\n",
       "      <td>2.6</td>\n",
       "      <td>129.0</td>\n",
       "      <td>NaN</td>\n",
       "      <td>NaN</td>\n",
       "      <td>NaN</td>\n",
       "      <td>NaN</td>\n",
       "      <td>NaN</td>\n",
       "    </tr>\n",
       "    <tr>\n",
       "      <th>1</th>\n",
       "      <td>E09000002</td>\n",
       "      <td>Barking and Dagenham</td>\n",
       "      <td>Outer London</td>\n",
       "      <td>209000</td>\n",
       "      <td>78188.0</td>\n",
       "      <td>3,611</td>\n",
       "      <td>57.9</td>\n",
       "      <td>32.9</td>\n",
       "      <td>27.2</td>\n",
       "      <td>63.1</td>\n",
       "      <td>...</td>\n",
       "      <td>7.1</td>\n",
       "      <td>3.1</td>\n",
       "      <td>28.5</td>\n",
       "      <td>7.3</td>\n",
       "      <td>228.0</td>\n",
       "      <td>Lab</td>\n",
       "      <td>0.0</td>\n",
       "      <td>100.0</td>\n",
       "      <td>0.0</td>\n",
       "      <td>36.5</td>\n",
       "    </tr>\n",
       "    <tr>\n",
       "      <th>2</th>\n",
       "      <td>E09000003</td>\n",
       "      <td>Barnet</td>\n",
       "      <td>Outer London</td>\n",
       "      <td>389600</td>\n",
       "      <td>151423.0</td>\n",
       "      <td>8,675</td>\n",
       "      <td>44.9</td>\n",
       "      <td>37.3</td>\n",
       "      <td>21.1</td>\n",
       "      <td>64.9</td>\n",
       "      <td>...</td>\n",
       "      <td>7.4</td>\n",
       "      <td>2.8</td>\n",
       "      <td>20.7</td>\n",
       "      <td>6.0</td>\n",
       "      <td>134.0</td>\n",
       "      <td>Cons</td>\n",
       "      <td>50.8</td>\n",
       "      <td>NaN</td>\n",
       "      <td>1.6</td>\n",
       "      <td>40.5</td>\n",
       "    </tr>\n",
       "    <tr>\n",
       "      <th>3</th>\n",
       "      <td>E09000004</td>\n",
       "      <td>Bexley</td>\n",
       "      <td>Outer London</td>\n",
       "      <td>244300</td>\n",
       "      <td>97736.0</td>\n",
       "      <td>6,058</td>\n",
       "      <td>40.3</td>\n",
       "      <td>39.0</td>\n",
       "      <td>20.6</td>\n",
       "      <td>62.9</td>\n",
       "      <td>...</td>\n",
       "      <td>7.2</td>\n",
       "      <td>3.3</td>\n",
       "      <td>22.7</td>\n",
       "      <td>6.9</td>\n",
       "      <td>164.0</td>\n",
       "      <td>Cons</td>\n",
       "      <td>71.4</td>\n",
       "      <td>23.8</td>\n",
       "      <td>0.0</td>\n",
       "      <td>39.6</td>\n",
       "    </tr>\n",
       "    <tr>\n",
       "      <th>4</th>\n",
       "      <td>E09000005</td>\n",
       "      <td>Brent</td>\n",
       "      <td>Outer London</td>\n",
       "      <td>332100</td>\n",
       "      <td>121048.0</td>\n",
       "      <td>4,323</td>\n",
       "      <td>76.8</td>\n",
       "      <td>35.6</td>\n",
       "      <td>20.9</td>\n",
       "      <td>67.8</td>\n",
       "      <td>...</td>\n",
       "      <td>7.2</td>\n",
       "      <td>2.9</td>\n",
       "      <td>24.3</td>\n",
       "      <td>7.9</td>\n",
       "      <td>169.0</td>\n",
       "      <td>Lab</td>\n",
       "      <td>9.5</td>\n",
       "      <td>88.9</td>\n",
       "      <td>1.6</td>\n",
       "      <td>36.3</td>\n",
       "    </tr>\n",
       "  </tbody>\n",
       "</table>\n",
       "<p>5 rows × 84 columns</p>\n",
       "</div>"
      ],
      "text/plain": [
       "        Code             Area_name Inner/_Outer_London  \\\n",
       "0  E09000001        City of London        Inner London   \n",
       "1  E09000002  Barking and Dagenham        Outer London   \n",
       "2  E09000003                Barnet        Outer London   \n",
       "3  E09000004                Bexley        Outer London   \n",
       "4  E09000005                 Brent        Outer London   \n",
       "\n",
       "   GLA_Population_Estimate_2017  GLA_Household_Estimate_2017  \\\n",
       "0                          8800                       5326.0   \n",
       "1                        209000                      78188.0   \n",
       "2                        389600                     151423.0   \n",
       "3                        244300                      97736.0   \n",
       "4                        332100                     121048.0   \n",
       "\n",
       "  Inland_Area_(Hectares)  Population_density_(per_hectare)_2017  \\\n",
       "0                    290                                   30.3   \n",
       "1                  3,611                                   57.9   \n",
       "2                  8,675                                   44.9   \n",
       "3                  6,058                                   40.3   \n",
       "4                  4,323                                   76.8   \n",
       "\n",
       "   Average_Age,_2017  Proportion_of_population_aged_0-15,_2015  \\\n",
       "0               43.2                                      11.4   \n",
       "1               32.9                                      27.2   \n",
       "2               37.3                                      21.1   \n",
       "3               39.0                                      20.6   \n",
       "4               35.6                                      20.9   \n",
       "\n",
       "   Proportion_of_population_of_working-age,_2015  ...  \\\n",
       "0                                           73.1  ...   \n",
       "1                                           63.1  ...   \n",
       "2                                           64.9  ...   \n",
       "3                                           62.9  ...   \n",
       "4                                           67.8  ...   \n",
       "\n",
       "   Happiness_score_2011-14_(out_of_10) Anxiety_score_2011-14_(out_of_10)  \\\n",
       "0                                  6.0                               5.6   \n",
       "1                                  7.1                               3.1   \n",
       "2                                  7.4                               2.8   \n",
       "3                                  7.2                               3.3   \n",
       "4                                  7.2                               2.9   \n",
       "\n",
       "  Childhood_Obesity_Prevalance_(%)_2015/16 People_aged_17+_with_diabetes_(%)  \\\n",
       "0                                      NaN                               2.6   \n",
       "1                                     28.5                               7.3   \n",
       "2                                     20.7                               6.0   \n",
       "3                                     22.7                               6.9   \n",
       "4                                     24.3                               7.9   \n",
       "\n",
       "   Mortality_rate_from_causes_considered_preventable_2012/14  \\\n",
       "0                                              129.0           \n",
       "1                                              228.0           \n",
       "2                                              134.0           \n",
       "3                                              164.0           \n",
       "4                                              169.0           \n",
       "\n",
       "  Political_control_in_council  \\\n",
       "0                          NaN   \n",
       "1                          Lab   \n",
       "2                         Cons   \n",
       "3                         Cons   \n",
       "4                          Lab   \n",
       "\n",
       "   Proportion_of_seats_won_by_Conservatives_in_2014_election  \\\n",
       "0                                                NaN           \n",
       "1                                                0.0           \n",
       "2                                               50.8           \n",
       "3                                               71.4           \n",
       "4                                                9.5           \n",
       "\n",
       "  Proportion_of_seats_won_by_Labour_in_2014_election  \\\n",
       "0                                                NaN   \n",
       "1                                              100.0   \n",
       "2                                                NaN   \n",
       "3                                               23.8   \n",
       "4                                               88.9   \n",
       "\n",
       "   Proportion_of_seats_won_by_Lib_Dems_in_2014_election  \\\n",
       "0                                                NaN      \n",
       "1                                                0.0      \n",
       "2                                                1.6      \n",
       "3                                                0.0      \n",
       "4                                                1.6      \n",
       "\n",
       "  Turnout_at_2014_local_elections  \n",
       "0                             NaN  \n",
       "1                            36.5  \n",
       "2                            40.5  \n",
       "3                            39.6  \n",
       "4                            36.3  \n",
       "\n",
       "[5 rows x 84 columns]"
      ]
     },
     "execution_count": 37,
     "metadata": {},
     "output_type": "execute_result"
    }
   ],
   "source": [
    "df.head()"
   ]
  },
  {
   "cell_type": "code",
   "execution_count": 38,
   "metadata": {},
   "outputs": [
    {
     "data": {
      "text/html": [
       "<div>\n",
       "<style scoped>\n",
       "    .dataframe tbody tr th:only-of-type {\n",
       "        vertical-align: middle;\n",
       "    }\n",
       "\n",
       "    .dataframe tbody tr th {\n",
       "        vertical-align: top;\n",
       "    }\n",
       "\n",
       "    .dataframe thead th {\n",
       "        text-align: right;\n",
       "    }\n",
       "</style>\n",
       "<table border=\"1\" class=\"dataframe\">\n",
       "  <thead>\n",
       "    <tr style=\"text-align: right;\">\n",
       "      <th></th>\n",
       "      <th>id</th>\n",
       "      <th>name</th>\n",
       "      <th>code</th>\n",
       "      <th>area_hectares</th>\n",
       "      <th>inner_statistical</th>\n",
       "      <th>geometry</th>\n",
       "      <th>all</th>\n",
       "    </tr>\n",
       "  </thead>\n",
       "  <tbody>\n",
       "    <tr>\n",
       "      <th>0</th>\n",
       "      <td>1</td>\n",
       "      <td>Kingston upon Thames</td>\n",
       "      <td>E09000021</td>\n",
       "      <td>3726.117</td>\n",
       "      <td>0</td>\n",
       "      <td>(POLYGON ((-0.330679062942453 51.3290110106029...</td>\n",
       "      <td>1</td>\n",
       "    </tr>\n",
       "    <tr>\n",
       "      <th>1</th>\n",
       "      <td>2</td>\n",
       "      <td>Croydon</td>\n",
       "      <td>E09000008</td>\n",
       "      <td>8649.441</td>\n",
       "      <td>0</td>\n",
       "      <td>(POLYGON ((-0.064021239620113 51.3186376598749...</td>\n",
       "      <td>1</td>\n",
       "    </tr>\n",
       "    <tr>\n",
       "      <th>2</th>\n",
       "      <td>3</td>\n",
       "      <td>Bromley</td>\n",
       "      <td>E09000006</td>\n",
       "      <td>15013.487</td>\n",
       "      <td>0</td>\n",
       "      <td>(POLYGON ((0.012130938509177 51.2995990596564,...</td>\n",
       "      <td>1</td>\n",
       "    </tr>\n",
       "    <tr>\n",
       "      <th>3</th>\n",
       "      <td>4</td>\n",
       "      <td>Hounslow</td>\n",
       "      <td>E09000018</td>\n",
       "      <td>5658.541</td>\n",
       "      <td>0</td>\n",
       "      <td>(POLYGON ((-0.244562394525054 51.48870217634, ...</td>\n",
       "      <td>1</td>\n",
       "    </tr>\n",
       "    <tr>\n",
       "      <th>4</th>\n",
       "      <td>5</td>\n",
       "      <td>Ealing</td>\n",
       "      <td>E09000009</td>\n",
       "      <td>5554.428</td>\n",
       "      <td>0</td>\n",
       "      <td>(POLYGON ((-0.411832689731467 51.5340838625761...</td>\n",
       "      <td>1</td>\n",
       "    </tr>\n",
       "  </tbody>\n",
       "</table>\n",
       "</div>"
      ],
      "text/plain": [
       "   id                  name       code  area_hectares  inner_statistical  \\\n",
       "0   1  Kingston upon Thames  E09000021       3726.117                  0   \n",
       "1   2               Croydon  E09000008       8649.441                  0   \n",
       "2   3               Bromley  E09000006      15013.487                  0   \n",
       "3   4              Hounslow  E09000018       5658.541                  0   \n",
       "4   5                Ealing  E09000009       5554.428                  0   \n",
       "\n",
       "                                            geometry  all  \n",
       "0  (POLYGON ((-0.330679062942453 51.3290110106029...    1  \n",
       "1  (POLYGON ((-0.064021239620113 51.3186376598749...    1  \n",
       "2  (POLYGON ((0.012130938509177 51.2995990596564,...    1  \n",
       "3  (POLYGON ((-0.244562394525054 51.48870217634, ...    1  \n",
       "4  (POLYGON ((-0.411832689731467 51.5340838625761...    1  "
      ]
     },
     "execution_count": 38,
     "metadata": {},
     "output_type": "execute_result"
    }
   ],
   "source": [
    "boroughs.head()"
   ]
  },
  {
   "cell_type": "markdown",
   "metadata": {},
   "source": [
    "The columns to join the two tables on are `code` and `Code`. To use the [`join` method](https://pandas.pydata.org/pandas-docs/stable/reference/api/pandas.DataFrame.join.html), first the index of both tables has to be set to this column. \n",
    "\n",
    "The below adds the columns from `df` to `boroughs`:"
   ]
  },
  {
   "cell_type": "code",
   "execution_count": 39,
   "metadata": {},
   "outputs": [
    {
     "data": {
      "text/html": [
       "<div>\n",
       "<style scoped>\n",
       "    .dataframe tbody tr th:only-of-type {\n",
       "        vertical-align: middle;\n",
       "    }\n",
       "\n",
       "    .dataframe tbody tr th {\n",
       "        vertical-align: top;\n",
       "    }\n",
       "\n",
       "    .dataframe thead th {\n",
       "        text-align: right;\n",
       "    }\n",
       "</style>\n",
       "<table border=\"1\" class=\"dataframe\">\n",
       "  <thead>\n",
       "    <tr style=\"text-align: right;\">\n",
       "      <th></th>\n",
       "      <th>id</th>\n",
       "      <th>name</th>\n",
       "      <th>area_hectares</th>\n",
       "      <th>inner_statistical</th>\n",
       "      <th>geometry</th>\n",
       "      <th>all</th>\n",
       "      <th>Area_name</th>\n",
       "      <th>Inner/_Outer_London</th>\n",
       "      <th>GLA_Population_Estimate_2017</th>\n",
       "      <th>GLA_Household_Estimate_2017</th>\n",
       "      <th>...</th>\n",
       "      <th>Happiness_score_2011-14_(out_of_10)</th>\n",
       "      <th>Anxiety_score_2011-14_(out_of_10)</th>\n",
       "      <th>Childhood_Obesity_Prevalance_(%)_2015/16</th>\n",
       "      <th>People_aged_17+_with_diabetes_(%)</th>\n",
       "      <th>Mortality_rate_from_causes_considered_preventable_2012/14</th>\n",
       "      <th>Political_control_in_council</th>\n",
       "      <th>Proportion_of_seats_won_by_Conservatives_in_2014_election</th>\n",
       "      <th>Proportion_of_seats_won_by_Labour_in_2014_election</th>\n",
       "      <th>Proportion_of_seats_won_by_Lib_Dems_in_2014_election</th>\n",
       "      <th>Turnout_at_2014_local_elections</th>\n",
       "    </tr>\n",
       "    <tr>\n",
       "      <th>code</th>\n",
       "      <th></th>\n",
       "      <th></th>\n",
       "      <th></th>\n",
       "      <th></th>\n",
       "      <th></th>\n",
       "      <th></th>\n",
       "      <th></th>\n",
       "      <th></th>\n",
       "      <th></th>\n",
       "      <th></th>\n",
       "      <th></th>\n",
       "      <th></th>\n",
       "      <th></th>\n",
       "      <th></th>\n",
       "      <th></th>\n",
       "      <th></th>\n",
       "      <th></th>\n",
       "      <th></th>\n",
       "      <th></th>\n",
       "      <th></th>\n",
       "      <th></th>\n",
       "    </tr>\n",
       "  </thead>\n",
       "  <tbody>\n",
       "    <tr>\n",
       "      <th>E09000021</th>\n",
       "      <td>1</td>\n",
       "      <td>Kingston upon Thames</td>\n",
       "      <td>3726.117</td>\n",
       "      <td>0</td>\n",
       "      <td>(POLYGON ((-0.330679062942453 51.3290110106029...</td>\n",
       "      <td>1</td>\n",
       "      <td>Kingston upon Thames</td>\n",
       "      <td>Outer London</td>\n",
       "      <td>175400</td>\n",
       "      <td>69849.0</td>\n",
       "      <td>...</td>\n",
       "      <td>7.4</td>\n",
       "      <td>3.3</td>\n",
       "      <td>16.9</td>\n",
       "      <td>4.9</td>\n",
       "      <td>141.0</td>\n",
       "      <td>Cons</td>\n",
       "      <td>58.3</td>\n",
       "      <td>4.2</td>\n",
       "      <td>37.5</td>\n",
       "      <td>43.1</td>\n",
       "    </tr>\n",
       "    <tr>\n",
       "      <th>E09000008</th>\n",
       "      <td>2</td>\n",
       "      <td>Croydon</td>\n",
       "      <td>8649.441</td>\n",
       "      <td>0</td>\n",
       "      <td>(POLYGON ((-0.064021239620113 51.3186376598749...</td>\n",
       "      <td>1</td>\n",
       "      <td>Croydon</td>\n",
       "      <td>Outer London</td>\n",
       "      <td>386500</td>\n",
       "      <td>159010.0</td>\n",
       "      <td>...</td>\n",
       "      <td>7.2</td>\n",
       "      <td>3.3</td>\n",
       "      <td>24.5</td>\n",
       "      <td>6.5</td>\n",
       "      <td>178.0</td>\n",
       "      <td>Lab</td>\n",
       "      <td>42.9</td>\n",
       "      <td>57.1</td>\n",
       "      <td>0.0</td>\n",
       "      <td>38.6</td>\n",
       "    </tr>\n",
       "    <tr>\n",
       "      <th>E09000006</th>\n",
       "      <td>3</td>\n",
       "      <td>Bromley</td>\n",
       "      <td>15013.487</td>\n",
       "      <td>0</td>\n",
       "      <td>(POLYGON ((0.012130938509177 51.2995990596564,...</td>\n",
       "      <td>1</td>\n",
       "      <td>Bromley</td>\n",
       "      <td>Outer London</td>\n",
       "      <td>327900</td>\n",
       "      <td>140602.0</td>\n",
       "      <td>...</td>\n",
       "      <td>7.4</td>\n",
       "      <td>3.3</td>\n",
       "      <td>16</td>\n",
       "      <td>5.2</td>\n",
       "      <td>148.0</td>\n",
       "      <td>Cons</td>\n",
       "      <td>85.0</td>\n",
       "      <td>11.7</td>\n",
       "      <td>0.0</td>\n",
       "      <td>40.8</td>\n",
       "    </tr>\n",
       "    <tr>\n",
       "      <th>E09000018</th>\n",
       "      <td>4</td>\n",
       "      <td>Hounslow</td>\n",
       "      <td>5658.541</td>\n",
       "      <td>0</td>\n",
       "      <td>(POLYGON ((-0.244562394525054 51.48870217634, ...</td>\n",
       "      <td>1</td>\n",
       "      <td>Hounslow</td>\n",
       "      <td>Outer London</td>\n",
       "      <td>274200</td>\n",
       "      <td>105887.0</td>\n",
       "      <td>...</td>\n",
       "      <td>7.4</td>\n",
       "      <td>3.4</td>\n",
       "      <td>24.1</td>\n",
       "      <td>6.5</td>\n",
       "      <td>166.0</td>\n",
       "      <td>Lab</td>\n",
       "      <td>18.3</td>\n",
       "      <td>81.7</td>\n",
       "      <td>0.0</td>\n",
       "      <td>36.8</td>\n",
       "    </tr>\n",
       "    <tr>\n",
       "      <th>E09000009</th>\n",
       "      <td>5</td>\n",
       "      <td>Ealing</td>\n",
       "      <td>5554.428</td>\n",
       "      <td>0</td>\n",
       "      <td>(POLYGON ((-0.411832689731467 51.5340838625761...</td>\n",
       "      <td>1</td>\n",
       "      <td>Ealing</td>\n",
       "      <td>Outer London</td>\n",
       "      <td>351600</td>\n",
       "      <td>132663.0</td>\n",
       "      <td>...</td>\n",
       "      <td>7.3</td>\n",
       "      <td>3.6</td>\n",
       "      <td>23.8</td>\n",
       "      <td>6.9</td>\n",
       "      <td>164.0</td>\n",
       "      <td>Lab</td>\n",
       "      <td>17.4</td>\n",
       "      <td>76.8</td>\n",
       "      <td>5.8</td>\n",
       "      <td>41.2</td>\n",
       "    </tr>\n",
       "  </tbody>\n",
       "</table>\n",
       "<p>5 rows × 89 columns</p>\n",
       "</div>"
      ],
      "text/plain": [
       "           id                  name  area_hectares  inner_statistical  \\\n",
       "code                                                                    \n",
       "E09000021   1  Kingston upon Thames       3726.117                  0   \n",
       "E09000008   2               Croydon       8649.441                  0   \n",
       "E09000006   3               Bromley      15013.487                  0   \n",
       "E09000018   4              Hounslow       5658.541                  0   \n",
       "E09000009   5                Ealing       5554.428                  0   \n",
       "\n",
       "                                                    geometry  all  \\\n",
       "code                                                                \n",
       "E09000021  (POLYGON ((-0.330679062942453 51.3290110106029...    1   \n",
       "E09000008  (POLYGON ((-0.064021239620113 51.3186376598749...    1   \n",
       "E09000006  (POLYGON ((0.012130938509177 51.2995990596564,...    1   \n",
       "E09000018  (POLYGON ((-0.244562394525054 51.48870217634, ...    1   \n",
       "E09000009  (POLYGON ((-0.411832689731467 51.5340838625761...    1   \n",
       "\n",
       "                      Area_name Inner/_Outer_London  \\\n",
       "code                                                  \n",
       "E09000021  Kingston upon Thames        Outer London   \n",
       "E09000008               Croydon        Outer London   \n",
       "E09000006               Bromley        Outer London   \n",
       "E09000018              Hounslow        Outer London   \n",
       "E09000009                Ealing        Outer London   \n",
       "\n",
       "           GLA_Population_Estimate_2017  GLA_Household_Estimate_2017  ...  \\\n",
       "code                                                                  ...   \n",
       "E09000021                        175400                      69849.0  ...   \n",
       "E09000008                        386500                     159010.0  ...   \n",
       "E09000006                        327900                     140602.0  ...   \n",
       "E09000018                        274200                     105887.0  ...   \n",
       "E09000009                        351600                     132663.0  ...   \n",
       "\n",
       "          Happiness_score_2011-14_(out_of_10)  \\\n",
       "code                                            \n",
       "E09000021                                 7.4   \n",
       "E09000008                                 7.2   \n",
       "E09000006                                 7.4   \n",
       "E09000018                                 7.4   \n",
       "E09000009                                 7.3   \n",
       "\n",
       "           Anxiety_score_2011-14_(out_of_10)  \\\n",
       "code                                           \n",
       "E09000021                                3.3   \n",
       "E09000008                                3.3   \n",
       "E09000006                                3.3   \n",
       "E09000018                                3.4   \n",
       "E09000009                                3.6   \n",
       "\n",
       "           Childhood_Obesity_Prevalance_(%)_2015/16  \\\n",
       "code                                                  \n",
       "E09000021                                      16.9   \n",
       "E09000008                                      24.5   \n",
       "E09000006                                        16   \n",
       "E09000018                                      24.1   \n",
       "E09000009                                      23.8   \n",
       "\n",
       "           People_aged_17+_with_diabetes_(%)  \\\n",
       "code                                           \n",
       "E09000021                                4.9   \n",
       "E09000008                                6.5   \n",
       "E09000006                                5.2   \n",
       "E09000018                                6.5   \n",
       "E09000009                                6.9   \n",
       "\n",
       "           Mortality_rate_from_causes_considered_preventable_2012/14  \\\n",
       "code                                                                   \n",
       "E09000021                                              141.0           \n",
       "E09000008                                              178.0           \n",
       "E09000006                                              148.0           \n",
       "E09000018                                              166.0           \n",
       "E09000009                                              164.0           \n",
       "\n",
       "           Political_control_in_council  \\\n",
       "code                                      \n",
       "E09000021                          Cons   \n",
       "E09000008                           Lab   \n",
       "E09000006                          Cons   \n",
       "E09000018                           Lab   \n",
       "E09000009                           Lab   \n",
       "\n",
       "          Proportion_of_seats_won_by_Conservatives_in_2014_election  \\\n",
       "code                                                                  \n",
       "E09000021                                               58.3          \n",
       "E09000008                                               42.9          \n",
       "E09000006                                               85.0          \n",
       "E09000018                                               18.3          \n",
       "E09000009                                               17.4          \n",
       "\n",
       "          Proportion_of_seats_won_by_Labour_in_2014_election  \\\n",
       "code                                                           \n",
       "E09000021                                                4.2   \n",
       "E09000008                                               57.1   \n",
       "E09000006                                               11.7   \n",
       "E09000018                                               81.7   \n",
       "E09000009                                               76.8   \n",
       "\n",
       "          Proportion_of_seats_won_by_Lib_Dems_in_2014_election  \\\n",
       "code                                                             \n",
       "E09000021                                               37.5     \n",
       "E09000008                                                0.0     \n",
       "E09000006                                                0.0     \n",
       "E09000018                                                0.0     \n",
       "E09000009                                                5.8     \n",
       "\n",
       "           Turnout_at_2014_local_elections  \n",
       "code                                        \n",
       "E09000021                             43.1  \n",
       "E09000008                             38.6  \n",
       "E09000006                             40.8  \n",
       "E09000018                             36.8  \n",
       "E09000009                             41.2  \n",
       "\n",
       "[5 rows x 89 columns]"
      ]
     },
     "execution_count": 39,
     "metadata": {},
     "output_type": "execute_result"
    }
   ],
   "source": [
    "boroughs = boroughs.set_index('code').join(df.set_index('Code'))\n",
    "boroughs.head()"
   ]
  },
  {
   "cell_type": "markdown",
   "metadata": {},
   "source": [
    "<div class=\"alert alert-success\">\n",
    " <b>EXERCISE</b> <br/> \n",
    " Explore the data:\n",
    "  <ul>\n",
    "  <li>Create a map that shows two regions: Inner and Outer London </li>\n",
    "  <li>  </li> \n",
    "  <li>Create another map that shows the political control in each borough / council (<font face=\"Courier\">Political_control_in_council</font>). Before creating this map the data needs to be cleaned or use a few other columns to add a new column to the DataFrame. </font></li>\n",
    " </ul> \n",
    "</div>  "
   ]
  },
  {
   "cell_type": "code",
   "execution_count": 40,
   "metadata": {},
   "outputs": [],
   "source": [
    "# your answers (add as many cells as you need)\n"
   ]
  },
  {
   "cell_type": "code",
   "execution_count": 41,
   "metadata": {},
   "outputs": [
    {
     "data": {
      "text/html": [
       "<div>\n",
       "<style scoped>\n",
       "    .dataframe tbody tr th:only-of-type {\n",
       "        vertical-align: middle;\n",
       "    }\n",
       "\n",
       "    .dataframe tbody tr th {\n",
       "        vertical-align: top;\n",
       "    }\n",
       "\n",
       "    .dataframe thead th {\n",
       "        text-align: right;\n",
       "    }\n",
       "</style>\n",
       "<table border=\"1\" class=\"dataframe\">\n",
       "  <thead>\n",
       "    <tr style=\"text-align: right;\">\n",
       "      <th></th>\n",
       "      <th>geometry</th>\n",
       "      <th>id</th>\n",
       "      <th>area_hectares</th>\n",
       "      <th>inner_statistical</th>\n",
       "      <th>all</th>\n",
       "      <th>GLA_Population_Estimate_2017</th>\n",
       "      <th>GLA_Household_Estimate_2017</th>\n",
       "      <th>Population_density_(per_hectare)_2017</th>\n",
       "      <th>Average_Age,_2017</th>\n",
       "      <th>Proportion_of_population_aged_0-15,_2015</th>\n",
       "      <th>...</th>\n",
       "      <th>Life_satisfaction_score_2011-14_(out_of_10)</th>\n",
       "      <th>Worthwhileness_score_2011-14_(out_of_10)</th>\n",
       "      <th>Happiness_score_2011-14_(out_of_10)</th>\n",
       "      <th>Anxiety_score_2011-14_(out_of_10)</th>\n",
       "      <th>People_aged_17+_with_diabetes_(%)</th>\n",
       "      <th>Mortality_rate_from_causes_considered_preventable_2012/14</th>\n",
       "      <th>Proportion_of_seats_won_by_Conservatives_in_2014_election</th>\n",
       "      <th>Proportion_of_seats_won_by_Labour_in_2014_election</th>\n",
       "      <th>Proportion_of_seats_won_by_Lib_Dems_in_2014_election</th>\n",
       "      <th>Turnout_at_2014_local_elections</th>\n",
       "    </tr>\n",
       "    <tr>\n",
       "      <th>Inner/_Outer_London</th>\n",
       "      <th></th>\n",
       "      <th></th>\n",
       "      <th></th>\n",
       "      <th></th>\n",
       "      <th></th>\n",
       "      <th></th>\n",
       "      <th></th>\n",
       "      <th></th>\n",
       "      <th></th>\n",
       "      <th></th>\n",
       "      <th></th>\n",
       "      <th></th>\n",
       "      <th></th>\n",
       "      <th></th>\n",
       "      <th></th>\n",
       "      <th></th>\n",
       "      <th></th>\n",
       "      <th></th>\n",
       "      <th></th>\n",
       "      <th></th>\n",
       "      <th></th>\n",
       "    </tr>\n",
       "  </thead>\n",
       "  <tbody>\n",
       "    <tr>\n",
       "      <th>Inner London</th>\n",
       "      <td>(POLYGON ((0.075487345438734 51.5298237426242,...</td>\n",
       "      <td>23.857143</td>\n",
       "      <td>2341.884643</td>\n",
       "      <td>1.0</td>\n",
       "      <td>1.0</td>\n",
       "      <td>252550.000000</td>\n",
       "      <td>108752.928571</td>\n",
       "      <td>110.850000</td>\n",
       "      <td>35.550000</td>\n",
       "      <td>18.028571</td>\n",
       "      <td>...</td>\n",
       "      <td>7.207143</td>\n",
       "      <td>7.478571</td>\n",
       "      <td>7.135714</td>\n",
       "      <td>3.578571</td>\n",
       "      <td>5.085714</td>\n",
       "      <td>184.785714</td>\n",
       "      <td>23.646154</td>\n",
       "      <td>69.207692</td>\n",
       "      <td>3.507692</td>\n",
       "      <td>37.446154</td>\n",
       "    </tr>\n",
       "    <tr>\n",
       "      <th>Outer London</th>\n",
       "      <td>(POLYGON ((-0.024847351506038 51.4855462016976...</td>\n",
       "      <td>11.947368</td>\n",
       "      <td>6667.544211</td>\n",
       "      <td>0.0</td>\n",
       "      <td>1.0</td>\n",
       "      <td>278931.578947</td>\n",
       "      <td>109443.210526</td>\n",
       "      <td>47.673684</td>\n",
       "      <td>36.984211</td>\n",
       "      <td>21.378947</td>\n",
       "      <td>...</td>\n",
       "      <td>7.326316</td>\n",
       "      <td>7.631579</td>\n",
       "      <td>7.263158</td>\n",
       "      <td>3.200000</td>\n",
       "      <td>6.394737</td>\n",
       "      <td>162.578947</td>\n",
       "      <td>38.915789</td>\n",
       "      <td>48.544444</td>\n",
       "      <td>8.721053</td>\n",
       "      <td>39.794737</td>\n",
       "    </tr>\n",
       "  </tbody>\n",
       "</table>\n",
       "<p>2 rows × 72 columns</p>\n",
       "</div>"
      ],
      "text/plain": [
       "                                                              geometry  \\\n",
       "Inner/_Outer_London                                                      \n",
       "Inner London         (POLYGON ((0.075487345438734 51.5298237426242,...   \n",
       "Outer London         (POLYGON ((-0.024847351506038 51.4855462016976...   \n",
       "\n",
       "                            id  area_hectares  inner_statistical  all  \\\n",
       "Inner/_Outer_London                                                     \n",
       "Inner London         23.857143    2341.884643                1.0  1.0   \n",
       "Outer London         11.947368    6667.544211                0.0  1.0   \n",
       "\n",
       "                     GLA_Population_Estimate_2017  \\\n",
       "Inner/_Outer_London                                 \n",
       "Inner London                        252550.000000   \n",
       "Outer London                        278931.578947   \n",
       "\n",
       "                     GLA_Household_Estimate_2017  \\\n",
       "Inner/_Outer_London                                \n",
       "Inner London                       108752.928571   \n",
       "Outer London                       109443.210526   \n",
       "\n",
       "                     Population_density_(per_hectare)_2017  Average_Age,_2017  \\\n",
       "Inner/_Outer_London                                                             \n",
       "Inner London                                    110.850000          35.550000   \n",
       "Outer London                                     47.673684          36.984211   \n",
       "\n",
       "                     Proportion_of_population_aged_0-15,_2015  ...  \\\n",
       "Inner/_Outer_London                                            ...   \n",
       "Inner London                                        18.028571  ...   \n",
       "Outer London                                        21.378947  ...   \n",
       "\n",
       "                     Life_satisfaction_score_2011-14_(out_of_10)  \\\n",
       "Inner/_Outer_London                                                \n",
       "Inner London                                            7.207143   \n",
       "Outer London                                            7.326316   \n",
       "\n",
       "                     Worthwhileness_score_2011-14_(out_of_10)  \\\n",
       "Inner/_Outer_London                                             \n",
       "Inner London                                         7.478571   \n",
       "Outer London                                         7.631579   \n",
       "\n",
       "                     Happiness_score_2011-14_(out_of_10)  \\\n",
       "Inner/_Outer_London                                        \n",
       "Inner London                                    7.135714   \n",
       "Outer London                                    7.263158   \n",
       "\n",
       "                     Anxiety_score_2011-14_(out_of_10)  \\\n",
       "Inner/_Outer_London                                      \n",
       "Inner London                                  3.578571   \n",
       "Outer London                                  3.200000   \n",
       "\n",
       "                     People_aged_17+_with_diabetes_(%)  \\\n",
       "Inner/_Outer_London                                      \n",
       "Inner London                                  5.085714   \n",
       "Outer London                                  6.394737   \n",
       "\n",
       "                     Mortality_rate_from_causes_considered_preventable_2012/14  \\\n",
       "Inner/_Outer_London                                                              \n",
       "Inner London                                                184.785714           \n",
       "Outer London                                                162.578947           \n",
       "\n",
       "                     Proportion_of_seats_won_by_Conservatives_in_2014_election  \\\n",
       "Inner/_Outer_London                                                              \n",
       "Inner London                                                 23.646154           \n",
       "Outer London                                                 38.915789           \n",
       "\n",
       "                     Proportion_of_seats_won_by_Labour_in_2014_election  \\\n",
       "Inner/_Outer_London                                                       \n",
       "Inner London                                                 69.207692    \n",
       "Outer London                                                 48.544444    \n",
       "\n",
       "                     Proportion_of_seats_won_by_Lib_Dems_in_2014_election  \\\n",
       "Inner/_Outer_London                                                         \n",
       "Inner London                                                  3.507692      \n",
       "Outer London                                                  8.721053      \n",
       "\n",
       "                     Turnout_at_2014_local_elections  \n",
       "Inner/_Outer_London                                   \n",
       "Inner London                               37.446154  \n",
       "Outer London                               39.794737  \n",
       "\n",
       "[2 rows x 72 columns]"
      ]
     },
     "execution_count": 41,
     "metadata": {},
     "output_type": "execute_result"
    }
   ],
   "source": [
    "# %load https://raw.githubusercontent.com/IBMDeveloperUK/foss4g_geopandas/master/answers/geo_answer1a.py\n",
    "boroughs2 = boroughs.dissolve(by='Inner/_Outer_London',aggfunc='mean')\n",
    "boroughs2.head()"
   ]
  },
  {
   "cell_type": "code",
   "execution_count": 42,
   "metadata": {},
   "outputs": [
    {
     "data": {
      "image/png": "[encoded data removed]",
      "text/plain": [
       "<Figure size 720x432 with 1 Axes>"
      ]
     },
     "metadata": {
      "needs_background": "light"
     },
     "output_type": "display_data"
    }
   ],
   "source": [
    "# %load https://raw.githubusercontent.com/IBMDeveloperUK/foss4g_geopandas/master/answers/geo_answer1b.py\n",
    "[fig, ax] = plt.subplots(1, figsize=(10, 6))\n",
    "boroughs2.plot(column='id', cmap='Paired', linewidth=0.5, edgecolor='black', legend=False, ax=ax);\n",
    "ax.axis('off');\n"
   ]
  },
  {
   "cell_type": "code",
   "execution_count": 43,
   "metadata": {},
   "outputs": [
    {
     "data": {
      "text/plain": [
       "array(['Cons', 'Lab', 'No Overall Control', 'Lib Dem',\n",
       "       'Tower Hamlets First', nan], dtype=object)"
      ]
     },
     "execution_count": 43,
     "metadata": {},
     "output_type": "execute_result"
    }
   ],
   "source": [
    "boroughs['Political_control_in_council'].unique()"
   ]
  },
  {
   "cell_type": "code",
   "execution_count": null,
   "metadata": {},
   "outputs": [],
   "source": [
    "# %load https://raw.githubusercontent.com/IBMDeveloperUK/foss4g_geopandas/master/answers/geo_answer2.py\n",
    "[fig, ax] = plt.subplots(1, figsize=(10, 6))\n",
    "boroughs.plot(column='Political_control_in_council', cmap='bwr', linewidth=0.5, edgecolor='black', legend=False, ax=ax);\n",
    "ax.axis('off');\n",
    "#ax.set_title('Number of households', fontdict={'fontsize': '20', 'fontweight' : '3'});\n"
   ]
  },
  {
   "cell_type": "code",
   "execution_count": null,
   "metadata": {},
   "outputs": [],
   "source": [
    "# %load https://raw.githubusercontent.com/IBMDeveloperUK/foss4g_geopandas/master/answers/geo_answer2.py\n",
    "[fig, ax] = plt.subplots(1, figsize=(10, 6))\n",
    "boroughs2.plot(column='id', cmap='Greens', linewidth=0.5, edgecolor='black', legend=False, ax=ax);\n",
    "ax.axis('off');\n",
    "#ax.set_title('Number of households', fontdict={'fontsize': '20', 'fontweight' : '3'});\n",
    "\n",
    "\n",
    "https://matplotlib.org/users/colormaps.html"
   ]
  },
  {
   "cell_type": "code",
   "execution_count": null,
   "metadata": {},
   "outputs": [],
   "source": []
  },
  {
   "cell_type": "markdown",
   "metadata": {},
   "source": [
    "<a id=\"osm\"></a>\n",
    "## 4. Open Street Map data (OSM)\n",
    "\n",
    "<a id=\"load2\"></a>\n",
    "### 4.1 Load OSM data\n",
    "\n",
    "The Open Street Map data is pre-processed in this [notebook]().\n",
    "\n",
    "Data is downloaded from http://download.geofabrik.de/europe/great-britain.html and a more detailed decription of the data is [here](http://download.geofabrik.de/osm-data-in-gis-formats-free.pdf).\n",
    "\n",
    "The data format is a shape file that consists of several files combined into one zip file that can be read directly with GeoPandas:"
   ]
  },
  {
   "cell_type": "code",
   "execution_count": 45,
   "metadata": {},
   "outputs": [],
   "source": [
    "pois = gpd.read_file(\"zip://../data/london_inner_pois.zip\")"
   ]
  },
  {
   "cell_type": "markdown",
   "metadata": {},
   "source": [
    "<div class=\"alert alert-danger\" style=\"font-size:100%\">\n",
    "If you are using <b>Watson Studio</b> to run the workshop you will get an error with the above, because you have no local files in the data folder. First store the file <b><font face=\"Courier\">london_inner_pois.zip</font></b> in your Cloud Object Store (COS) through the menu at the right of the notebook (if you see no menu, click the <b><font face=\"Courier\">1010</font></b> button at the top first). Then load the data into the notebook by running the following two cells (<b>do not forget to uncomment the second cell</b>):\n",
    "</div> "
   ]
  },
  {
   "cell_type": "code",
   "execution_count": null,
   "metadata": {},
   "outputs": [],
   "source": [
    "# define the helper function \n",
    "def download_file_to_local(project_filename, local_file_destination=None, project=None):\n",
    "    \"\"\"\n",
    "    Uses project-lib to get a bytearray and then downloads this file to local.\n",
    "    Requires a valid `project` object.\n",
    "    \n",
    "    Args:\n",
    "        project_filename str: the filename to be passed to get_file\n",
    "        local_file_destination: the filename for the local file if different\n",
    "        \n",
    "    Returns:\n",
    "        0 if everything worked\n",
    "    \"\"\"\n",
    "    \n",
    "    project = project\n",
    "    \n",
    "    # get the file\n",
    "    print(\"Attempting to get file {}\".format(project_filename))\n",
    "    _bytes = project.get_file(project_filename).read()\n",
    "    \n",
    "    # check for new file name, download the file\n",
    "    print(\"Downloading...\")\n",
    "    if local_file_destination==None: local_file_destination = project_filename\n",
    "    \n",
    "    with open(local_file_destination, 'wb') as f: \n",
    "        f.write(bytearray(_bytes))\n",
    "        print(\"Completed writing to {}\".format(local_file_destination))\n",
    "        \n",
    "    return 0"
   ]
  },
  {
   "cell_type": "code",
   "execution_count": null,
   "metadata": {},
   "outputs": [],
   "source": [
    "#download_file_to_local('london_inner_pois.zip', project=project)\n",
    "#pois = gpd.read_file(\"zip://./london_inner_pois.zip\")"
   ]
  },
  {
   "cell_type": "code",
   "execution_count": 46,
   "metadata": {},
   "outputs": [
    {
     "data": {
      "text/html": [
       "<div>\n",
       "<style scoped>\n",
       "    .dataframe tbody tr th:only-of-type {\n",
       "        vertical-align: middle;\n",
       "    }\n",
       "\n",
       "    .dataframe tbody tr th {\n",
       "        vertical-align: top;\n",
       "    }\n",
       "\n",
       "    .dataframe thead th {\n",
       "        text-align: right;\n",
       "    }\n",
       "</style>\n",
       "<table border=\"1\" class=\"dataframe\">\n",
       "  <thead>\n",
       "    <tr style=\"text-align: right;\">\n",
       "      <th></th>\n",
       "      <th>osm_id</th>\n",
       "      <th>code</th>\n",
       "      <th>fclass</th>\n",
       "      <th>name</th>\n",
       "      <th>geometry</th>\n",
       "    </tr>\n",
       "  </thead>\n",
       "  <tbody>\n",
       "    <tr>\n",
       "      <th>0</th>\n",
       "      <td>108042</td>\n",
       "      <td>2304</td>\n",
       "      <td>pub</td>\n",
       "      <td>Simmons</td>\n",
       "      <td>POINT (-0.1355294 51.5235359)</td>\n",
       "    </tr>\n",
       "    <tr>\n",
       "      <th>1</th>\n",
       "      <td>108539</td>\n",
       "      <td>2566</td>\n",
       "      <td>bicycle_rental</td>\n",
       "      <td>Windsor Terrace</td>\n",
       "      <td>POINT (-0.09338780000000001 51.5291251)</td>\n",
       "    </tr>\n",
       "    <tr>\n",
       "      <th>2</th>\n",
       "      <td>283885</td>\n",
       "      <td>2204</td>\n",
       "      <td>park</td>\n",
       "      <td>Ecology Park</td>\n",
       "      <td>POINT (0.0155831 51.494974)</td>\n",
       "    </tr>\n",
       "    <tr>\n",
       "      <th>3</th>\n",
       "      <td>451152</td>\n",
       "      <td>2304</td>\n",
       "      <td>pub</td>\n",
       "      <td>The Dignity</td>\n",
       "      <td>POINT (-0.1946078 51.6008404)</td>\n",
       "    </tr>\n",
       "    <tr>\n",
       "      <th>4</th>\n",
       "      <td>451153</td>\n",
       "      <td>2301</td>\n",
       "      <td>restaurant</td>\n",
       "      <td>Central Restaurant</td>\n",
       "      <td>POINT (-0.1935029 51.6020306)</td>\n",
       "    </tr>\n",
       "  </tbody>\n",
       "</table>\n",
       "</div>"
      ],
      "text/plain": [
       "   osm_id  code          fclass                name  \\\n",
       "0  108042  2304             pub             Simmons   \n",
       "1  108539  2566  bicycle_rental     Windsor Terrace   \n",
       "2  283885  2204            park        Ecology Park   \n",
       "3  451152  2304             pub         The Dignity   \n",
       "4  451153  2301      restaurant  Central Restaurant   \n",
       "\n",
       "                                  geometry  \n",
       "0            POINT (-0.1355294 51.5235359)  \n",
       "1  POINT (-0.09338780000000001 51.5291251)  \n",
       "2              POINT (0.0155831 51.494974)  \n",
       "3            POINT (-0.1946078 51.6008404)  \n",
       "4            POINT (-0.1935029 51.6020306)  "
      ]
     },
     "execution_count": 46,
     "metadata": {},
     "output_type": "execute_result"
    }
   ],
   "source": [
    "pois.head()"
   ]
  },
  {
   "cell_type": "markdown",
   "metadata": {},
   "source": [
    "<a id=\"explore2\"></a>\n",
    "### 4.2 Explore OSM data"
   ]
  },
  {
   "cell_type": "code",
   "execution_count": 47,
   "metadata": {},
   "outputs": [
    {
     "data": {
      "text/plain": [
       "199495"
      ]
     },
     "execution_count": 47,
     "metadata": {},
     "output_type": "execute_result"
    }
   ],
   "source": [
    "pois.size"
   ]
  },
  {
   "cell_type": "code",
   "execution_count": 48,
   "metadata": {},
   "outputs": [
    {
     "data": {
      "text/plain": [
       "array(['pub', 'bicycle_rental', 'park', 'restaurant', 'post_box',\n",
       "       'library', 'post_office', 'public_building', 'bar', 'atm',\n",
       "       'cinema', 'cafe', 'toilet', 'waste_basket', 'memorial', 'artwork',\n",
       "       'monument', 'college', 'attraction', 'university', 'recycling',\n",
       "       'supermarket', 'telephone', 'graveyard', 'laundry', 'courthouse',\n",
       "       'pharmacy', 'convenience', 'bank', 'hotel', 'beverages',\n",
       "       'fire_station', 'school', 'museum', 'playground', 'clothes',\n",
       "       'recycling_paper', 'doctors', 'sports_centre', 'comms_tower',\n",
       "       'hospital', 'car_sharing', 'bicycle_shop', 'camera_surveillance',\n",
       "       'tower', 'recycling_clothes', 'ruins', 'police', 'chemist',\n",
       "       'bakery', 'doityourself', 'embassy', 'tourist_info', 'fast_food',\n",
       "       'theatre', 'viewpoint', 'water_works', 'arts_centre', 'fountain',\n",
       "       'butcher', 'dentist', 'bookshop', 'community_centre',\n",
       "       'kindergarten', 'newsagent', 'nightclub', 'car_rental', 'car_wash',\n",
       "       'vending_any', 'veterinary', 'recycling_glass', 'prison',\n",
       "       'windmill', 'bench', 'florist', 'department_store', 'optician',\n",
       "       'hairdresser', 'mobile_phone_shop', 'kiosk', 'drinking_water',\n",
       "       'hostel', 'guesthouse', 'stationery', 'gift_shop', 'outdoor_shop',\n",
       "       'furniture_shop', 'beauty_shop', 'jeweller', 'toy_shop',\n",
       "       'computer_shop', 'shoe_shop', 'video_shop', 'travel_agent',\n",
       "       'greengrocer', 'car_dealership', 'picnic_site', 'pitch',\n",
       "       'sports_shop', 'nursing_home', 'wayside_shrine', 'mall',\n",
       "       'swimming_pool', 'archaeological', 'garden_centre', 'shelter',\n",
       "       'vending_parking', 'theme_park', 'vending_machine', 'town_hall',\n",
       "       'water_well', 'hunting_stand', 'observation_tower', 'food_court',\n",
       "       'dog_park', 'caravan_site', 'motel', 'chalet', 'lighthouse',\n",
       "       'castle', 'recycling_metal'], dtype=object)"
      ]
     },
     "execution_count": 48,
     "metadata": {},
     "output_type": "execute_result"
    }
   ],
   "source": [
    "pois['fclass'].unique()"
   ]
  },
  {
   "cell_type": "markdown",
   "metadata": {},
   "source": [
    "Count and plot the number of pubs by borough:\n",
    "\n",
    "* Check the coordinate systems of the maps to combine. They need to be the same to use them together."
   ]
  },
  {
   "cell_type": "markdown",
   "metadata": {},
   "source": [
    "The coordinate reference system (CRS) determines how the two-dimensional (planar) coordinates of the geometry objects should be related to actual places on the (non-planar) earth."
   ]
  },
  {
   "cell_type": "code",
   "execution_count": null,
   "metadata": {},
   "outputs": [],
   "source": [
    "print(pois.crs)\n",
    "print(boroughs.crs)"
   ]
  },
  {
   "cell_type": "code",
   "execution_count": null,
   "metadata": {},
   "outputs": [],
   "source": []
  },
  {
   "cell_type": "code",
   "execution_count": null,
   "metadata": {},
   "outputs": [],
   "source": [
    "pubs = pois[pois['fclass']=='pub']\n",
    "\n",
    "pubs2 = gpd.sjoin(boroughs,pubs) \n",
    "pubs3 = pd.pivot_table(pubs2,index='code_left',columns='fclass',aggfunc={'fclass':'count'})\n",
    "pubs3.columns = pubs3.columns.droplevel()\n",
    "pubs3 = pubs3.reset_index()\n",
    "boroughs5 = boroughs.merge(pubs3, left_on='code',right_on='code_left')\n",
    "\n",
    "boroughs5.plot(column='pub',cmap='Blues',legend=True);"
   ]
  },
  {
   "cell_type": "code",
   "execution_count": null,
   "metadata": {},
   "outputs": [],
   "source": []
  },
  {
   "cell_type": "markdown",
   "metadata": {},
   "source": [
    "<div class=\"alert alert-success\">\n",
    " <b>EXERCISE</b> <br/> \n",
    " Explore the data further with GeoPandas. Some suggestions of what to look at: <br/> \n",
    "   <ul>\n",
    "  <li> Create a map that only shows one of the POI classes for one of the boroughs.  </li>\n",
    "  <li> Add some other POI classes to the boroughs table.</li>\n",
    "  <li> Are the columns in the borough table related to any of the POI classes. Try making scatter plots or bar charts.  </li>  \n",
    "  <li> Is there a common distance between pubs, or schools, or hospitals? What is the location closest to the most pubs?  </li>     \n",
    "  </ul> \n",
    "</div>  "
   ]
  },
  {
   "cell_type": "code",
   "execution_count": null,
   "metadata": {},
   "outputs": [],
   "source": [
    "# your answers (add as many cells as you need)\n"
   ]
  },
  {
   "cell_type": "code",
   "execution_count": null,
   "metadata": {},
   "outputs": [],
   "source": [
    "# %load https://raw.githubusercontent.com/IBMDeveloperUK/crime-data-workshop/master/answers/answer8.py\n"
   ]
  },
  {
   "cell_type": "markdown",
   "metadata": {},
   "source": [
    "Hopefully you got an idea of the possibilities with geospatial data now. There is a lot more to explore with this data. Let me know if you find anything interesting! I am on Twitter as @MargrietGr. \n",
    "\n",
    "### Author\n",
    "Margriet Groenendijk is a Data & AI Developer Advocate for IBM. She develops and presents talks and workshops about data science and AI. She is active in the local developer communities through attending, presenting and organising meetups. She has a background in climate science where she explored large observational datasets of carbon uptake by forests during her PhD, and global scale weather and climate models as a postdoctoral fellow. \n",
    "\n",
    "Copyright © 2019 IBM. This notebook and its source code are released under the terms of the MIT License."
   ]
  },
  {
   "cell_type": "code",
   "execution_count": null,
   "metadata": {},
   "outputs": [],
   "source": []
  }
 ],
 "metadata": {
  "kernelspec": {
   "display_name": "Python (foss4g)",
   "language": "python",
   "name": "foss4g"
  },
  "language_info": {
   "codemirror_mode": {
    "name": "ipython",
    "version": 3
   },
   "file_extension": ".py",
   "mimetype": "text/x-python",
   "name": "python",
   "nbconvert_exporter": "python",
   "pygments_lexer": "ipython3",
   "version": "3.7.3"
  }
 },
 "nbformat": 4,
 "nbformat_minor": 1
}
