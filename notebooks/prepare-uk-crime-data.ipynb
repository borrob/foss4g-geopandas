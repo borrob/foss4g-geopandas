{
 "cells": [
  {
   "cell_type": "markdown",
   "metadata": {},
   "source": [
    "# Prepare Data for Workshop\n",
    "\n",
    "Workshop: https://github.com/IBMDeveloperUK/foss4g-geopandas\n",
    "\n",
    "Data downloaded from https://data.police.uk/data/ for Metropolitan Police Service into `/data/crime_data` folder, unzipped and all files moved to one folder `/data/crime_data/by_year`."
   ]
  },
  {
   "cell_type": "code",
   "execution_count": 1,
   "metadata": {},
   "outputs": [],
   "source": [
    "%matplotlib inline\n",
    "import numpy as np\n",
    "import pandas as pd\n",
    "import geopandas as gpd\n",
    "import zipfile"
   ]
  },
  {
   "cell_type": "markdown",
   "metadata": {},
   "source": [
    "## Convert crime data to easier readable format\n",
    "\n",
    "These files are uploaded to https://github.com/IBMDeveloperUK/foss4g-geopandas/tree/master/data"
   ]
  },
  {
   "cell_type": "code",
   "execution_count": 18,
   "metadata": {},
   "outputs": [
    {
     "name": "stdout",
     "output_type": "stream",
     "text": [
      "rm: data/crime_data/by_year/*.csv: No such file or directory\r\n"
     ]
    }
   ],
   "source": [
    "years = ['2017','2018']\n",
    "months = ['01','02','03','04','05','06','07','08','09','10','11','12']\n",
    "\n",
    "for year in years:\n",
    "    for month in months:\n",
    "        if month == '01':\n",
    "            df = pd.read_csv(\"/Users/margriet/projects/geopandas-workshop/data/crime_data/\"+year+\"-\"+month+\"-metropolitan-stop-and-search.csv\")\n",
    "        else:\n",
    "            df2 = pd.read_csv(\"/Users/margriet/projects/geopandas-workshop/data/crime_data/\"+year+\"-\"+month+\"-metropolitan-stop-and-search.csv\")\n",
    "            df = df.append(df2)\n",
    "    df = df.drop(columns=['Self-defined ethnicity',\n",
    "                                  'Officer-defined ethnicity','Removal of more than just outer clothing'])\n",
    "    df.to_csv(\"/Users/margriet/projects/geopandas-workshop/data/crime_data/by_year/\"+year+\"-metropolitan-stop-and-search.csv\")\n",
    "    zip_file = zipfile.ZipFile(\"/Users/margriet/projects/geopandas-workshop/data/crime_data/by_year/\"+year+\"-metropolitan-stop-and-search.zip\", 'w')\n",
    "    zip_file.write(\"/Users/margriet/projects/geopandas-workshop/data/crime_data/by_year/\"+year+\"-metropolitan-stop-and-search.csv\", compress_type=zipfile.ZIP_DEFLATED)\n",
    "    zip_file.close()\n",
    "\n",
    "!rm data/crime_data/by_year/*.csv"
   ]
  },
  {
   "cell_type": "code",
   "execution_count": null,
   "metadata": {},
   "outputs": [],
   "source": [
    "years = ['2017','2018']\n",
    "months = ['01','02','03','04','05','06']\n",
    "\n",
    "for year in years:\n",
    "    for month in months:\n",
    "        if month == '01':\n",
    "            df = pd.read_csv(\"data/crime_data/\"+year+\"-\"+month+\"-metropolitan-street.csv\")\n",
    "        else:\n",
    "            df2 = pd.read_csv(\"data/crime_data/\"+year+\"-\"+month+\"-metropolitan-street.csv\")\n",
    "            df = df.append(df2)\n",
    "    df = df.drop(columns=['Reported by','Falls within','LSOA name'])\n",
    "    df.to_csv(\"data/crime_data/by_year/\"+year+\"-1-metropolitan-street.csv\")\n",
    "    zip_file = zipfile.ZipFile(\"data/crime_data/by_year/\"+year+\"-1-metropolitan-street.zip\", 'w')\n",
    "    zip_file.write(\"data/crime_data/by_year/\"+year+\"-1-metropolitan-street.csv\", compress_type=zipfile.ZIP_DEFLATED)\n",
    "    zip_file.close()\n",
    "\n",
    "!rm data/crime_data/by_year/*.csv"
   ]
  },
  {
   "cell_type": "code",
   "execution_count": null,
   "metadata": {},
   "outputs": [],
   "source": [
    "years = ['2017','2018']\n",
    "months = ['07','08','09','10','11','12']\n",
    "\n",
    "for year in years:\n",
    "    for month in months:\n",
    "        if month == '07':\n",
    "            df = pd.read_csv(\"data/crime_data/\"+year+\"-\"+month+\"-metropolitan-street.csv\")\n",
    "        else:\n",
    "            df2 = pd.read_csv(\"data/crime_data/\"+year+\"-\"+month+\"-metropolitan-street.csv\")\n",
    "            df = df.append(df2)\n",
    "    df = df.drop(columns=['Reported by','Falls within','LSOA name'])\n",
    "    df.to_csv(\"data/crime_data/by_year/\"+year+\"-2-metropolitan-street.csv\")\n",
    "    zip_file = zipfile.ZipFile(\"data/crime_data/by_year/\"+year+\"-2-metropolitan-street.zip\", 'w')\n",
    "    zip_file.write(\"data/crime_data/by_year/\"+year+\"-2-metropolitan-street.csv\", compress_type=zipfile.ZIP_DEFLATED)\n",
    "    zip_file.close()\n",
    "\n",
    "!rm data/crime_data/by_year/*.csv"
   ]
  },
  {
   "cell_type": "markdown",
   "metadata": {},
   "source": [
    "## Clean up Borough shape files"
   ]
  },
  {
   "cell_type": "code",
   "execution_count": null,
   "metadata": {},
   "outputs": [],
   "source": [
    "# https://data.london.gov.uk/dataset/2011-boundary-files\n",
    "# Included are Output Area (OA), Lower Super Output Area (LSOA) and Middle-Level Super Output Area (MSOA) bounadries.\n",
    "#Each geography is provided at Extent of the Realm (BFE), Coastline (BFC) and Generalised Coastline (BGC).\n",
    "\n",
    "Boundaries = gpd.read_file(\"data/2011_london_boundaries/LSOA_2011_BFE_London/LSOA_2011_BFE_City_of_London.shp\")\n",
    "#Boundaries[]\n",
    "Boundaries.plot();"
   ]
  },
  {
   "cell_type": "code",
   "execution_count": null,
   "metadata": {},
   "outputs": [],
   "source": [
    "Boundaries = Boundaries.append(gpd.read_file(\"data/2011_london_boundaries/LSOA_2011_BFE_London/LSOA_2011_BFE_Westminster.shp\"))\n",
    "Boundaries.plot();"
   ]
  },
  {
   "cell_type": "code",
   "execution_count": null,
   "metadata": {},
   "outputs": [],
   "source": [
    "Boundaries = Boundaries.append(gpd.read_file(\"data/2011_london_boundaries/LSOA_2011_BFE_London/LSOA_2011_BFE_Camden.shp\"))\n",
    "Boundaries = Boundaries.append(gpd.read_file(\"data/2011_london_boundaries/LSOA_2011_BFE_London/LSOA_2011_BFE_Islington.shp\"))\n",
    "Boundaries = Boundaries.append(gpd.read_file(\"data/2011_london_boundaries/LSOA_2011_BFE_London/LSOA_2011_BFE_Hackney.shp\"))\n",
    "Boundaries = Boundaries.append(gpd.read_file(\"data/2011_london_boundaries/LSOA_2011_BFE_London/LSOA_2011_BFE_Tower_Hamlets.shp\"))\n",
    "Boundaries = Boundaries.append(gpd.read_file(\"data/2011_london_boundaries/LSOA_2011_BFE_London/LSOA_2011_BFE_Southwark.shp\"))\n",
    "Boundaries = Boundaries.append(gpd.read_file(\"data/2011_london_boundaries/LSOA_2011_BFE_London/LSOA_2011_BFE_Lambeth.shp\"))\n",
    "\n",
    "Boundaries.plot();"
   ]
  },
  {
   "cell_type": "code",
   "execution_count": null,
   "metadata": {},
   "outputs": [],
   "source": [
    "Boundaries.plot(column='POPDEN',cmap=\"Reds\",scheme='quantiles');"
   ]
  },
  {
   "cell_type": "code",
   "execution_count": null,
   "metadata": {},
   "outputs": [],
   "source": [
    "Boundaries.head()"
   ]
  },
  {
   "cell_type": "code",
   "execution_count": null,
   "metadata": {},
   "outputs": [],
   "source": [
    "Boundaries.to_file(\"data/boundaries.shp\")"
   ]
  },
  {
   "cell_type": "markdown",
   "metadata": {},
   "source": [
    "## Convert to lat/lon - work in progress"
   ]
  },
  {
   "cell_type": "code",
   "execution_count": null,
   "metadata": {},
   "outputs": [],
   "source": [
    "#https://pypi.org/project/OSGridConverter/\n",
    "#!pip install OSGridConverter\n",
    "\n",
    "#from OSGridConverter import grid2latlong\n",
    "\n",
    "#l=grid2latlong('TG 532151  181867')\n",
    "#(l.latitude,l.longitude)"
   ]
  },
  {
   "cell_type": "code",
   "execution_count": null,
   "metadata": {},
   "outputs": [],
   "source": [
    "#from OSGridConverter import latlong2grid\n",
    "#g=latlong2grid(51.993742,-0.975257, tag = ‘WGS84’)\n",
    "#str(g)"
   ]
  },
  {
   "cell_type": "markdown",
   "metadata": {},
   "source": [
    "## boroughs in lat/lon"
   ]
  },
  {
   "cell_type": "code",
   "execution_count": 2,
   "metadata": {},
   "outputs": [
    {
     "data": {
      "text/html": [
       "<div>\n",
       "<style scoped>\n",
       "    .dataframe tbody tr th:only-of-type {\n",
       "        vertical-align: middle;\n",
       "    }\n",
       "\n",
       "    .dataframe tbody tr th {\n",
       "        vertical-align: top;\n",
       "    }\n",
       "\n",
       "    .dataframe thead th {\n",
       "        text-align: right;\n",
       "    }\n",
       "</style>\n",
       "<table border=\"1\" class=\"dataframe\">\n",
       "  <thead>\n",
       "    <tr style=\"text-align: right;\">\n",
       "      <th></th>\n",
       "      <th>id</th>\n",
       "      <th>name</th>\n",
       "      <th>code</th>\n",
       "      <th>area_hectares</th>\n",
       "      <th>inner_statistical</th>\n",
       "      <th>geometry</th>\n",
       "    </tr>\n",
       "  </thead>\n",
       "  <tbody>\n",
       "    <tr>\n",
       "      <th>28</th>\n",
       "      <td>29</td>\n",
       "      <td>Hackney</td>\n",
       "      <td>E09000012</td>\n",
       "      <td>1904.902</td>\n",
       "      <td>1</td>\n",
       "      <td>(POLYGON ((-0.097664742057559 51.5736522020517...</td>\n",
       "    </tr>\n",
       "    <tr>\n",
       "      <th>29</th>\n",
       "      <td>30</td>\n",
       "      <td>Haringey</td>\n",
       "      <td>E09000014</td>\n",
       "      <td>2959.837</td>\n",
       "      <td>1</td>\n",
       "      <td>(POLYGON ((-0.097664742057559 51.5736522020517...</td>\n",
       "    </tr>\n",
       "    <tr>\n",
       "      <th>30</th>\n",
       "      <td>31</td>\n",
       "      <td>Newham</td>\n",
       "      <td>E09000025</td>\n",
       "      <td>3857.806</td>\n",
       "      <td>1</td>\n",
       "      <td>(POLYGON ((0.075487345438734 51.5298237426242,...</td>\n",
       "    </tr>\n",
       "    <tr>\n",
       "      <th>31</th>\n",
       "      <td>32</td>\n",
       "      <td>Barking and Dagenham</td>\n",
       "      <td>E09000002</td>\n",
       "      <td>3779.934</td>\n",
       "      <td>0</td>\n",
       "      <td>(POLYGON ((0.07316567606867801 51.529370200593...</td>\n",
       "    </tr>\n",
       "    <tr>\n",
       "      <th>32</th>\n",
       "      <td>33</td>\n",
       "      <td>City of London</td>\n",
       "      <td>E09000001</td>\n",
       "      <td>314.942</td>\n",
       "      <td>1</td>\n",
       "      <td>(POLYGON ((-0.111574406694964 51.5107549197, -...</td>\n",
       "    </tr>\n",
       "  </tbody>\n",
       "</table>\n",
       "</div>"
      ],
      "text/plain": [
       "    id                  name       code  area_hectares  inner_statistical  \\\n",
       "28  29               Hackney  E09000012       1904.902                  1   \n",
       "29  30              Haringey  E09000014       2959.837                  1   \n",
       "30  31                Newham  E09000025       3857.806                  1   \n",
       "31  32  Barking and Dagenham  E09000002       3779.934                  0   \n",
       "32  33        City of London  E09000001        314.942                  1   \n",
       "\n",
       "                                             geometry  \n",
       "28  (POLYGON ((-0.097664742057559 51.5736522020517...  \n",
       "29  (POLYGON ((-0.097664742057559 51.5736522020517...  \n",
       "30  (POLYGON ((0.075487345438734 51.5298237426242,...  \n",
       "31  (POLYGON ((0.07316567606867801 51.529370200593...  \n",
       "32  (POLYGON ((-0.111574406694964 51.5107549197, -...  "
      ]
     },
     "execution_count": 2,
     "metadata": {},
     "output_type": "execute_result"
    }
   ],
   "source": [
    "#https://skgrange.github.io/www/data/london_boroughs.json\n",
    "\n",
    "#boroughs2 = gpd.read_file(\"data/london_boroughs.json\")\n",
    "\n",
    "# load data from a url\n",
    "boroughs2 = gpd.read_file(\"https://skgrange.github.io/www/data/london_boroughs.json\")\n",
    "boroughs2.tail()"
   ]
  },
  {
   "cell_type": "code",
   "execution_count": null,
   "metadata": {},
   "outputs": [],
   "source": [
    "boroughs2.plot();"
   ]
  },
  {
   "cell_type": "code",
   "execution_count": 4,
   "metadata": {},
   "outputs": [
    {
     "data": {
      "text/html": [
       "<div>\n",
       "<style scoped>\n",
       "    .dataframe tbody tr th:only-of-type {\n",
       "        vertical-align: middle;\n",
       "    }\n",
       "\n",
       "    .dataframe tbody tr th {\n",
       "        vertical-align: top;\n",
       "    }\n",
       "\n",
       "    .dataframe thead th {\n",
       "        text-align: right;\n",
       "    }\n",
       "</style>\n",
       "<table border=\"1\" class=\"dataframe\">\n",
       "  <thead>\n",
       "    <tr style=\"text-align: right;\">\n",
       "      <th></th>\n",
       "      <th>geometry</th>\n",
       "      <th>id</th>\n",
       "      <th>area_hectares</th>\n",
       "      <th>inner_statistical</th>\n",
       "    </tr>\n",
       "    <tr>\n",
       "      <th>all</th>\n",
       "      <th></th>\n",
       "      <th></th>\n",
       "      <th></th>\n",
       "      <th></th>\n",
       "    </tr>\n",
       "  </thead>\n",
       "  <tbody>\n",
       "    <tr>\n",
       "      <th>1</th>\n",
       "      <td>POLYGON ((-0.064021239620113 51.3186376598749,...</td>\n",
       "      <td>561</td>\n",
       "      <td>159469.725</td>\n",
       "      <td>14</td>\n",
       "    </tr>\n",
       "  </tbody>\n",
       "</table>\n",
       "</div>"
      ],
      "text/plain": [
       "                                              geometry   id  area_hectares  \\\n",
       "all                                                                          \n",
       "1    POLYGON ((-0.064021239620113 51.3186376598749,...  561     159469.725   \n",
       "\n",
       "     inner_statistical  \n",
       "all                     \n",
       "1                   14  "
      ]
     },
     "execution_count": 4,
     "metadata": {},
     "output_type": "execute_result"
    }
   ],
   "source": [
    "#london = boroughs2.dissolve(by='inner_statistical',aggfunc='sum')\n",
    "#london\n",
    "#london.head()\n",
    "\n",
    "boroughs2['all'] = 1\n",
    "london = boroughs2.dissolve(by='all',aggfunc='sum')\n",
    "london.head()"
   ]
  },
  {
   "cell_type": "markdown",
   "metadata": {},
   "source": [
    "## Bounding box for extracting London OSM data"
   ]
  },
  {
   "cell_type": "code",
   "execution_count": 5,
   "metadata": {},
   "outputs": [],
   "source": [
    "bounding_box = london.envelope\n"
   ]
  },
  {
   "cell_type": "code",
   "execution_count": 6,
   "metadata": {},
   "outputs": [
    {
     "data": {
      "text/html": [
       "<div>\n",
       "<style scoped>\n",
       "    .dataframe tbody tr th:only-of-type {\n",
       "        vertical-align: middle;\n",
       "    }\n",
       "\n",
       "    .dataframe tbody tr th {\n",
       "        vertical-align: top;\n",
       "    }\n",
       "\n",
       "    .dataframe thead th {\n",
       "        text-align: right;\n",
       "    }\n",
       "</style>\n",
       "<table border=\"1\" class=\"dataframe\">\n",
       "  <thead>\n",
       "    <tr style=\"text-align: right;\">\n",
       "      <th></th>\n",
       "      <th>geometry</th>\n",
       "    </tr>\n",
       "    <tr>\n",
       "      <th>all</th>\n",
       "      <th></th>\n",
       "    </tr>\n",
       "  </thead>\n",
       "  <tbody>\n",
       "    <tr>\n",
       "      <th>1</th>\n",
       "      <td>POLYGON ((-0.510375110883981 51.2867601624255,...</td>\n",
       "    </tr>\n",
       "  </tbody>\n",
       "</table>\n",
       "</div>"
      ],
      "text/plain": [
       "                                              geometry\n",
       "all                                                   \n",
       "1    POLYGON ((-0.510375110883981 51.2867601624255,..."
      ]
     },
     "execution_count": 6,
     "metadata": {},
     "output_type": "execute_result"
    }
   ],
   "source": [
    "bb = gpd.GeoDataFrame(gpd.GeoSeries(bounding_box), columns=['geometry'])\n",
    "bb.head()"
   ]
  },
  {
   "cell_type": "code",
   "execution_count": 7,
   "metadata": {},
   "outputs": [
    {
     "data": {
      "image/png": "[encoded data removed]",
      "text/plain": [
       "<Figure size 432x288 with 1 Axes>"
      ]
     },
     "metadata": {
      "needs_background": "light"
     },
     "output_type": "display_data"
    }
   ],
   "source": [
    "bb.plot();"
   ]
  },
  {
   "cell_type": "code",
   "execution_count": 9,
   "metadata": {},
   "outputs": [],
   "source": [
    "#london2 = london.drop([0, 0])\n",
    "#london2.head()"
   ]
  },
  {
   "cell_type": "code",
   "execution_count": 10,
   "metadata": {},
   "outputs": [
    {
     "data": {
      "image/png": "[encoded data removed]",
      "text/plain": [
       "<Figure size 432x288 with 1 Axes>"
      ]
     },
     "metadata": {
      "needs_background": "light"
     },
     "output_type": "display_data"
    }
   ],
   "source": [
    "london.plot();"
   ]
  },
  {
   "cell_type": "code",
   "execution_count": 11,
   "metadata": {},
   "outputs": [
    {
     "data": {
      "text/plain": [
       "(-0.510375110883981, 51.2867601624255, 0.334015521940495, 51.6918741160805)"
      ]
     },
     "execution_count": 11,
     "metadata": {},
     "output_type": "execute_result"
    }
   ],
   "source": [
    "xmin, ymin, xmax, ymax = london.total_bounds\n",
    "xmin, ymin, xmax, ymax"
   ]
  },
  {
   "cell_type": "markdown",
   "metadata": {},
   "source": [
    "## Open Street Map data"
   ]
  },
  {
   "cell_type": "code",
   "execution_count": null,
   "metadata": {},
   "outputs": [],
   "source": [
    "# http://download.geofabrik.de/europe/great-britain.html\n",
    "\n",
    "roads_all = gpd.read_file(\"/Users/margriet/projects/geopandas-workshop/data/england-latest-free/gis_osm_roads_free_1.shp\")\n",
    "roads_all.head()\n"
   ]
  },
  {
   "cell_type": "code",
   "execution_count": null,
   "metadata": {},
   "outputs": [],
   "source": [
    "roads = roads_all.cx[xmin:xmax, ymin:ymax]"
   ]
  },
  {
   "cell_type": "code",
   "execution_count": null,
   "metadata": {},
   "outputs": [],
   "source": [
    "roads.to_file(\"data/london_inner_roads.shp\")"
   ]
  },
  {
   "cell_type": "code",
   "execution_count": 13,
   "metadata": {},
   "outputs": [
    {
     "data": {
      "text/html": [
       "<div>\n",
       "<style scoped>\n",
       "    .dataframe tbody tr th:only-of-type {\n",
       "        vertical-align: middle;\n",
       "    }\n",
       "\n",
       "    .dataframe tbody tr th {\n",
       "        vertical-align: top;\n",
       "    }\n",
       "\n",
       "    .dataframe thead th {\n",
       "        text-align: right;\n",
       "    }\n",
       "</style>\n",
       "<table border=\"1\" class=\"dataframe\">\n",
       "  <thead>\n",
       "    <tr style=\"text-align: right;\">\n",
       "      <th></th>\n",
       "      <th>osm_id</th>\n",
       "      <th>code</th>\n",
       "      <th>fclass</th>\n",
       "      <th>name</th>\n",
       "      <th>geometry</th>\n",
       "    </tr>\n",
       "  </thead>\n",
       "  <tbody>\n",
       "    <tr>\n",
       "      <th>0</th>\n",
       "      <td>129</td>\n",
       "      <td>2525</td>\n",
       "      <td>mobile_phone_shop</td>\n",
       "      <td>Vodafone</td>\n",
       "      <td>POINT (-1.0815173 53.9593574)</td>\n",
       "    </tr>\n",
       "    <tr>\n",
       "      <th>1</th>\n",
       "      <td>108042</td>\n",
       "      <td>2304</td>\n",
       "      <td>pub</td>\n",
       "      <td>Simmons</td>\n",
       "      <td>POINT (-0.1355294 51.5235359)</td>\n",
       "    </tr>\n",
       "    <tr>\n",
       "      <th>2</th>\n",
       "      <td>108539</td>\n",
       "      <td>2566</td>\n",
       "      <td>bicycle_rental</td>\n",
       "      <td>Windsor Terrace</td>\n",
       "      <td>POINT (-0.09338780000000001 51.5291251)</td>\n",
       "    </tr>\n",
       "    <tr>\n",
       "      <th>3</th>\n",
       "      <td>212781</td>\n",
       "      <td>2907</td>\n",
       "      <td>camera_surveillance</td>\n",
       "      <td>None</td>\n",
       "      <td>POINT (-1.912191 52.5305434)</td>\n",
       "    </tr>\n",
       "    <tr>\n",
       "      <th>4</th>\n",
       "      <td>251191</td>\n",
       "      <td>2742</td>\n",
       "      <td>viewpoint</td>\n",
       "      <td>Gibbet Hill</td>\n",
       "      <td>POINT (-0.7159181999999999 51.1154437)</td>\n",
       "    </tr>\n",
       "  </tbody>\n",
       "</table>\n",
       "</div>"
      ],
      "text/plain": [
       "   osm_id  code               fclass             name  \\\n",
       "0     129  2525    mobile_phone_shop         Vodafone   \n",
       "1  108042  2304                  pub          Simmons   \n",
       "2  108539  2566       bicycle_rental  Windsor Terrace   \n",
       "3  212781  2907  camera_surveillance             None   \n",
       "4  251191  2742            viewpoint      Gibbet Hill   \n",
       "\n",
       "                                  geometry  \n",
       "0            POINT (-1.0815173 53.9593574)  \n",
       "1            POINT (-0.1355294 51.5235359)  \n",
       "2  POINT (-0.09338780000000001 51.5291251)  \n",
       "3             POINT (-1.912191 52.5305434)  \n",
       "4   POINT (-0.7159181999999999 51.1154437)  "
      ]
     },
     "execution_count": 13,
     "metadata": {},
     "output_type": "execute_result"
    }
   ],
   "source": [
    "pois_all = gpd.read_file(\"/Users/margriet/projects/geopandas-workshop/data/england-latest-free/gis_osm_pois_free_1.shp\")\n",
    "pois_all.head()\n"
   ]
  },
  {
   "cell_type": "code",
   "execution_count": 14,
   "metadata": {},
   "outputs": [],
   "source": [
    "pois = pois_all.cx[xmin:xmax, ymin:ymax]"
   ]
  },
  {
   "cell_type": "code",
   "execution_count": 17,
   "metadata": {},
   "outputs": [],
   "source": [
    "pois.to_file(\"../data/london_pois.shp\")"
   ]
  },
  {
   "cell_type": "code",
   "execution_count": null,
   "metadata": {},
   "outputs": [],
   "source": []
  }
 ],
 "metadata": {
  "kernelspec": {
   "display_name": "Python (foss4g)",
   "language": "python",
   "name": "foss4g"
  },
  "language_info": {
   "codemirror_mode": {
    "name": "ipython",
    "version": 3
   },
   "file_extension": ".py",
   "mimetype": "text/x-python",
   "name": "python",
   "nbconvert_exporter": "python",
   "pygments_lexer": "ipython3",
   "version": "3.7.3"
  }
 },
 "nbformat": 4,
 "nbformat_minor": 2
}
